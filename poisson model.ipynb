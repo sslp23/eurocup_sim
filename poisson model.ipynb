{
 "cells": [
  {
   "cell_type": "code",
   "execution_count": 1,
   "id": "874fa6a4",
   "metadata": {},
   "outputs": [],
   "source": [
    "import pickle\n",
    "import pandas as pd\n",
    "import numpy as np\n",
    "import matplotlib.pyplot as plt\n",
    "import seaborn as sns"
   ]
  },
  {
   "cell_type": "code",
   "execution_count": null,
   "id": "b6c7825b",
   "metadata": {},
   "outputs": [],
   "source": []
  },
  {
   "cell_type": "code",
   "execution_count": 2,
   "id": "cb18c8b5",
   "metadata": {},
   "outputs": [
    {
     "data": {
      "text/plain": [
       "'\\n#LAGGED\\nwith open(\\'models/rf_home_v2.pkl\\', \\'rb\\') as f:\\n    home_md = pickle.load(f)\\n\\nwith open(\\'models/rf_away_v2.pkl\\', \\'rb\\') as f:\\n    away_md = pickle.load(f)\\n    \\ndef find_team_features(home, away):\\n    home_infos = teams_data[(teams_data.home_team == home) | (teams_data.away_team == home)].tail(1)\\n    if home_infos.home_team.values[0] == home:\\n        home_goals_scored = home_infos[\"home_goals_mean\"].values[0]\\n        home_goals_suf = home_infos[\"home_goals_suf_mean\"].values[0]\\n        home_points_made = home_infos[\"home_game_points_mean\"].values[0]\\n        home_rank = home_infos[\"rank_home\"].values[0]\\n        \\n        home_goals_l5 = home_infos[\"home_goals_mean_l5\"].values[0]\\n        home_goals_suf_l5 = home_infos[\"home_goals_suf_mean_l5\"].values[0]\\n        home_points_made_l5 = home_infos[\"home_game_points_mean_l5\"].values[0]\\n        \\n    else:\\n        home_goals_scored = home_infos[\"away_goals_mean\"].values[0]\\n        home_goals_suf = home_infos[\"away_goals_suf_mean\"].values[0]\\n        home_points_made = home_infos[\"away_game_points_mean\"].values[0]\\n        home_rank = home_infos[\"rank_away\"].values[0]\\n        \\n        home_goals_l5 = home_infos[\"away_goals_mean_l5\"].values[0]\\n        home_goals_suf_l5 = home_infos[\"away_goals_suf_mean_l5\"].values[0]\\n        home_points_made_l5 = home_infos[\"away_game_points_mean_l5\"].values[0]\\n    \\n    away_infos = teams_data[(teams_data.home_team == away) | (teams_data.away_team == away)].tail(1)\\n    if away_infos.home_team.values[0] == away:\\n        away_goals_scored = away_infos[\"home_goals_mean\"].values[0]\\n        away_goals_suf = away_infos[\"home_goals_suf_mean\"].values[0]\\n        away_points_made = away_infos[\"home_game_points_mean\"].values[0]\\n        away_rank = away_infos[\"rank_home\"].values[0]\\n        \\n        away_goals_l5 = home_infos[\"home_goals_mean_l5\"].values[0]\\n        away_goals_suf_l5 = home_infos[\"home_goals_suf_mean_l5\"].values[0]\\n        away_points_made_l5 = home_infos[\"home_game_points_mean_l5\"].values[0]\\n    else:\\n        away_goals_scored = away_infos[\"away_goals_mean\"].values[0]\\n        away_goals_suf = away_infos[\"away_goals_suf_mean\"].values[0]\\n        away_points_made = away_infos[\"away_game_points_mean\"].values[0]\\n        away_rank = away_infos[\"rank_away\"].values[0]\\n        \\n        away_goals_l5 = home_infos[\"away_goals_mean_l5\"].values[0]\\n        away_goals_suf_l5 = home_infos[\"away_goals_suf_mean_l5\"].values[0]\\n        away_points_made_l5 = home_infos[\"away_game_points_mean_l5\"].values[0]\\n\\n    #print(home_rank, away_rank)\\n    rank_dif = home_rank - away_rank\\n    ht_features = [\\n        home_goals_scored*rank_dif,\\n        away_goals_suf*rank_dif,\\n        home_points_made*rank_dif,\\n        away_points_made*rank_dif,\\n        home_goals_l5,\\n        away_goals_suf_l5,\\n        home_points_made_l5,\\n        away_points_made_l5,\\n    ]\\n    \\n    at_features = [\\n        away_goals_scored*rank_dif,\\n        home_goals_suf*rank_dif,\\n        home_points_made*rank_dif,\\n        away_points_made*rank_dif,\\n        away_goals_l5,\\n        home_goals_suf_l5,\\n        away_points_made_l5,\\n        home_points_made_l5,\\n    ]\\n    return ht_features, at_features\\n    \\n'"
      ]
     },
     "execution_count": 2,
     "metadata": {},
     "output_type": "execute_result"
    }
   ],
   "source": [
    "'''\n",
    "#LAGGED\n",
    "with open('models/rf_home_v2.pkl', 'rb') as f:\n",
    "    home_md = pickle.load(f)\n",
    "\n",
    "with open('models/rf_away_v2.pkl', 'rb') as f:\n",
    "    away_md = pickle.load(f)\n",
    "    \n",
    "def find_team_features(home, away):\n",
    "    home_infos = teams_data[(teams_data.home_team == home) | (teams_data.away_team == home)].tail(1)\n",
    "    if home_infos.home_team.values[0] == home:\n",
    "        home_goals_scored = home_infos[\"home_goals_mean\"].values[0]\n",
    "        home_goals_suf = home_infos[\"home_goals_suf_mean\"].values[0]\n",
    "        home_points_made = home_infos[\"home_game_points_mean\"].values[0]\n",
    "        home_rank = home_infos[\"rank_home\"].values[0]\n",
    "        \n",
    "        home_goals_l5 = home_infos[\"home_goals_mean_l5\"].values[0]\n",
    "        home_goals_suf_l5 = home_infos[\"home_goals_suf_mean_l5\"].values[0]\n",
    "        home_points_made_l5 = home_infos[\"home_game_points_mean_l5\"].values[0]\n",
    "        \n",
    "    else:\n",
    "        home_goals_scored = home_infos[\"away_goals_mean\"].values[0]\n",
    "        home_goals_suf = home_infos[\"away_goals_suf_mean\"].values[0]\n",
    "        home_points_made = home_infos[\"away_game_points_mean\"].values[0]\n",
    "        home_rank = home_infos[\"rank_away\"].values[0]\n",
    "        \n",
    "        home_goals_l5 = home_infos[\"away_goals_mean_l5\"].values[0]\n",
    "        home_goals_suf_l5 = home_infos[\"away_goals_suf_mean_l5\"].values[0]\n",
    "        home_points_made_l5 = home_infos[\"away_game_points_mean_l5\"].values[0]\n",
    "    \n",
    "    away_infos = teams_data[(teams_data.home_team == away) | (teams_data.away_team == away)].tail(1)\n",
    "    if away_infos.home_team.values[0] == away:\n",
    "        away_goals_scored = away_infos[\"home_goals_mean\"].values[0]\n",
    "        away_goals_suf = away_infos[\"home_goals_suf_mean\"].values[0]\n",
    "        away_points_made = away_infos[\"home_game_points_mean\"].values[0]\n",
    "        away_rank = away_infos[\"rank_home\"].values[0]\n",
    "        \n",
    "        away_goals_l5 = home_infos[\"home_goals_mean_l5\"].values[0]\n",
    "        away_goals_suf_l5 = home_infos[\"home_goals_suf_mean_l5\"].values[0]\n",
    "        away_points_made_l5 = home_infos[\"home_game_points_mean_l5\"].values[0]\n",
    "    else:\n",
    "        away_goals_scored = away_infos[\"away_goals_mean\"].values[0]\n",
    "        away_goals_suf = away_infos[\"away_goals_suf_mean\"].values[0]\n",
    "        away_points_made = away_infos[\"away_game_points_mean\"].values[0]\n",
    "        away_rank = away_infos[\"rank_away\"].values[0]\n",
    "        \n",
    "        away_goals_l5 = home_infos[\"away_goals_mean_l5\"].values[0]\n",
    "        away_goals_suf_l5 = home_infos[\"away_goals_suf_mean_l5\"].values[0]\n",
    "        away_points_made_l5 = home_infos[\"away_game_points_mean_l5\"].values[0]\n",
    "\n",
    "    #print(home_rank, away_rank)\n",
    "    rank_dif = home_rank - away_rank\n",
    "    ht_features = [\n",
    "        home_goals_scored*rank_dif,\n",
    "        away_goals_suf*rank_dif,\n",
    "        home_points_made*rank_dif,\n",
    "        away_points_made*rank_dif,\n",
    "        home_goals_l5,\n",
    "        away_goals_suf_l5,\n",
    "        home_points_made_l5,\n",
    "        away_points_made_l5,\n",
    "    ]\n",
    "    \n",
    "    at_features = [\n",
    "        away_goals_scored*rank_dif,\n",
    "        home_goals_suf*rank_dif,\n",
    "        home_points_made*rank_dif,\n",
    "        away_points_made*rank_dif,\n",
    "        away_goals_l5,\n",
    "        home_goals_suf_l5,\n",
    "        away_points_made_l5,\n",
    "        home_points_made_l5,\n",
    "    ]\n",
    "    return ht_features, at_features\n",
    "    \n",
    "'''"
   ]
  },
  {
   "cell_type": "code",
   "execution_count": 3,
   "id": "df6ce11e",
   "metadata": {},
   "outputs": [],
   "source": [
    "with open('models/rf_one.pkl', 'rb') as f:\n",
    "    md = pickle.load(f)"
   ]
  },
  {
   "cell_type": "code",
   "execution_count": 5,
   "id": "5b4e0550",
   "metadata": {},
   "outputs": [],
   "source": [
    "teams_data = pd.read_csv(\"features.csv\")"
   ]
  },
  {
   "cell_type": "code",
   "execution_count": null,
   "id": "a3cd09c1",
   "metadata": {},
   "outputs": [],
   "source": []
  },
  {
   "cell_type": "code",
   "execution_count": 6,
   "id": "87bfa905",
   "metadata": {},
   "outputs": [
    {
     "data": {
      "text/html": [
       "<div>\n",
       "<style scoped>\n",
       "    .dataframe tbody tr th:only-of-type {\n",
       "        vertical-align: middle;\n",
       "    }\n",
       "\n",
       "    .dataframe tbody tr th {\n",
       "        vertical-align: top;\n",
       "    }\n",
       "\n",
       "    .dataframe thead th {\n",
       "        text-align: right;\n",
       "    }\n",
       "</style>\n",
       "<table border=\"1\" class=\"dataframe\">\n",
       "  <thead>\n",
       "    <tr style=\"text-align: right;\">\n",
       "      <th></th>\n",
       "      <th>team_team</th>\n",
       "      <th>team_goals_mean</th>\n",
       "      <th>team_goals_suf_mean</th>\n",
       "      <th>team_game_points_mean</th>\n",
       "      <th>team_goals_mean_l5</th>\n",
       "      <th>team_goals_suf_mean_l5</th>\n",
       "      <th>team_game_points_mean_l5</th>\n",
       "      <th>rank_team</th>\n",
       "      <th>team_goals_by_rank</th>\n",
       "      <th>team_goals_by_rank_l5</th>\n",
       "      <th>team_goals_suf_by_rank</th>\n",
       "      <th>team_goals_suf_by_rank_l5</th>\n",
       "      <th>team_game_points_rank_mean</th>\n",
       "      <th>team_game_points_rank_mean_l5</th>\n",
       "    </tr>\n",
       "  </thead>\n",
       "  <tbody>\n",
       "    <tr>\n",
       "      <th>141</th>\n",
       "      <td>Spain</td>\n",
       "      <td>2.293103</td>\n",
       "      <td>0.706897</td>\n",
       "      <td>2.017241</td>\n",
       "      <td>3.2</td>\n",
       "      <td>1.0</td>\n",
       "      <td>2.0</td>\n",
       "      <td>8.0</td>\n",
       "      <td>0.094229</td>\n",
       "      <td>0.199611</td>\n",
       "      <td>22.603448</td>\n",
       "      <td>20.6</td>\n",
       "      <td>0.095721</td>\n",
       "      <td>0.111767</td>\n",
       "    </tr>\n",
       "  </tbody>\n",
       "</table>\n",
       "</div>"
      ],
      "text/plain": [
       "    team_team  team_goals_mean  team_goals_suf_mean  team_game_points_mean  \\\n",
       "141     Spain         2.293103             0.706897               2.017241   \n",
       "\n",
       "     team_goals_mean_l5  team_goals_suf_mean_l5  team_game_points_mean_l5  \\\n",
       "141                 3.2                     1.0                       2.0   \n",
       "\n",
       "     rank_team  team_goals_by_rank  team_goals_by_rank_l5  \\\n",
       "141        8.0            0.094229               0.199611   \n",
       "\n",
       "     team_goals_suf_by_rank  team_goals_suf_by_rank_l5  \\\n",
       "141               22.603448                       20.6   \n",
       "\n",
       "     team_game_points_rank_mean  team_game_points_rank_mean_l5  \n",
       "141                    0.095721                       0.111767  "
      ]
     },
     "execution_count": 6,
     "metadata": {},
     "output_type": "execute_result"
    }
   ],
   "source": [
    "teams_data[teams_data.team_team =='Spain']"
   ]
  },
  {
   "cell_type": "code",
   "execution_count": 7,
   "id": "48efa3c9",
   "metadata": {},
   "outputs": [],
   "source": [
    "def find_team_features_v2(team, opp, neutral = False):\n",
    "    team_infos = teams_data[teams_data.team_team == team].tail(1)\n",
    "    opp_infos = teams_data[teams_data.team_team == opp].tail(1)\n",
    "    \n",
    "    rank_dif = team_infos.rank_team.values[0] - opp_infos.rank_team.values[0]\n",
    "    \n",
    "    team_goals= team_infos.team_goals_mean.values[0]\n",
    "    opp_goals_suf = opp_infos.team_goals_suf_mean.values[0]\n",
    "    \n",
    "    team_goals_rank = team_infos.team_goals_by_rank.values[0]\n",
    "    opp_goals_suf_rank = opp_infos.team_goals_suf_by_rank.values[0]\n",
    "    team_points_rank = team_infos.team_game_points_rank_mean.values[0]\n",
    "    opp_points_rank = opp_infos.team_game_points_rank_mean.values[0]\n",
    "    \n",
    "    team_goals_weighted = team_infos.team_goals_mean.values[0] * rank_dif\n",
    "    opp_goals_suf_weighted = opp_infos.team_goals_suf_mean.values[0] * rank_dif\n",
    "    team_points_weighted = team_infos.team_game_points_mean.values[0] * rank_dif\n",
    "    opp_points_weighted = opp_infos.team_game_points_mean.values[0] * rank_dif\n",
    "    \n",
    "    team_goals_l5 = team_infos.team_goals_by_rank_l5.values[0]\n",
    "    opp_goals_suf_l5 = opp_infos.team_goals_suf_by_rank_l5.values[0]\n",
    "    team_points_l5 = team_infos.team_game_points_rank_mean_l5.values[0]\n",
    "    opp_points_l5 = opp_infos.team_game_points_rank_mean_l5.values[0]\n",
    "    \n",
    "    goals_sum = team_goals+opp_goals_suf\n",
    "    goals_sum_rank = team_goals_rank*opp_goals_suf_rank\n",
    "    #goals_sum_l5 = team_goals_l5+opp_goals_suf_l5\n",
    "    \n",
    "    points_dif = team_points_rank-opp_points_rank\n",
    "    #points_dif_l5 = team_points_l5+opp_points_l5\n",
    "    \n",
    "    if neutral == False:\n",
    "        return [team_goals_weighted,opp_goals_suf_weighted,team_points_weighted,opp_points_weighted,\n",
    "                goals_sum, goals_sum_rank, points_dif,\n",
    "               1, 0]\n",
    "    else:\n",
    "        return [team_goals_weighted,opp_goals_suf_weighted,team_points_weighted,opp_points_weighted,\n",
    "                goals_sum, goals_sum_rank, points_dif,\n",
    "               0, 1]"
   ]
  },
  {
   "cell_type": "code",
   "execution_count": 8,
   "id": "e8b083cc",
   "metadata": {},
   "outputs": [
    {
     "data": {
      "text/plain": [
       "[-86.75862068965517,\n",
       " -48.75471698113207,\n",
       " -74.44827586206897,\n",
       " -55.81132075471698,\n",
       " 3.9856864020819778,\n",
       " 5.496319689621341,\n",
       " 0.0337927215666612,\n",
       " 0,\n",
       " 1]"
      ]
     },
     "execution_count": 8,
     "metadata": {},
     "output_type": "execute_result"
    }
   ],
   "source": [
    "find_team_features_v2('Portugal', 'Turkey', neutral=True)"
   ]
  },
  {
   "cell_type": "code",
   "execution_count": null,
   "id": "4016e554",
   "metadata": {},
   "outputs": [],
   "source": []
  },
  {
   "cell_type": "code",
   "execution_count": null,
   "id": "dc0bf071",
   "metadata": {},
   "outputs": [],
   "source": []
  },
  {
   "cell_type": "code",
   "execution_count": null,
   "id": "674b340a",
   "metadata": {},
   "outputs": [],
   "source": []
  },
  {
   "cell_type": "code",
   "execution_count": null,
   "id": "843c2ce7",
   "metadata": {},
   "outputs": [],
   "source": []
  },
  {
   "cell_type": "code",
   "execution_count": null,
   "id": "3901930e",
   "metadata": {},
   "outputs": [],
   "source": []
  },
  {
   "cell_type": "code",
   "execution_count": 21,
   "id": "9ec019cd",
   "metadata": {},
   "outputs": [],
   "source": [
    "g = find_team_features_v2(\"Portugal\", \"Turkey\", neutral=True)\n",
    "s = find_team_features_v2(\"Turkey\", \"Portugal\", neutral=True)"
   ]
  },
  {
   "cell_type": "code",
   "execution_count": 22,
   "id": "e07b9679",
   "metadata": {},
   "outputs": [],
   "source": [
    "xg_g = md.predict([g])[0]"
   ]
  },
  {
   "cell_type": "code",
   "execution_count": 23,
   "id": "f36309a4",
   "metadata": {},
   "outputs": [],
   "source": [
    "xg_s = md.predict([s])[0]"
   ]
  },
  {
   "cell_type": "code",
   "execution_count": 24,
   "id": "a32611cb",
   "metadata": {},
   "outputs": [],
   "source": [
    "from scipy.stats import poisson"
   ]
  },
  {
   "cell_type": "code",
   "execution_count": null,
   "id": "89f2d862",
   "metadata": {},
   "outputs": [],
   "source": []
  },
  {
   "cell_type": "code",
   "execution_count": 26,
   "id": "2929d069",
   "metadata": {},
   "outputs": [],
   "source": [
    "poisson_probs_g = poisson.pmf(np.arange(0, 10), xg_g)\n",
    "poisson_probs_s = poisson.pmf(np.arange(0, 10), xg_s)"
   ]
  },
  {
   "cell_type": "code",
   "execution_count": null,
   "id": "dcea5fb4",
   "metadata": {},
   "outputs": [],
   "source": []
  },
  {
   "cell_type": "code",
   "execution_count": 27,
   "id": "25efbae3",
   "metadata": {},
   "outputs": [],
   "source": [
    "def plot_poisson(x, poisson_probs, team):\n",
    "    plt.figure(figsize=(10, 6))\n",
    "    plt.bar(x, poisson_probs, alpha=0.6, color='blue')\n",
    "    plt.plot(x, poisson_probs, 'bo', ms=8)\n",
    "    plt.title(f'Poisson Distribution - {team}')\n",
    "    plt.xlabel('Number of Events')\n",
    "    plt.ylabel('Probability')\n",
    "    plt.grid(True)\n",
    "    plt.show()"
   ]
  },
  {
   "cell_type": "code",
   "execution_count": 28,
   "id": "4924892a",
   "metadata": {},
   "outputs": [
    {
     "data": {
      "image/png": "[encoded data removed]",
      "text/plain": [
       "<Figure size 1000x600 with 1 Axes>"
      ]
     },
     "metadata": {},
     "output_type": "display_data"
    }
   ],
   "source": [
    "plot_poisson(np.arange(0,10), poisson_probs_g, \"Portugal\")"
   ]
  },
  {
   "cell_type": "code",
   "execution_count": 29,
   "id": "3d5eece9",
   "metadata": {},
   "outputs": [
    {
     "data": {
      "image/png": "[encoded data removed]",
      "text/plain": [
       "<Figure size 1000x600 with 1 Axes>"
      ]
     },
     "metadata": {},
     "output_type": "display_data"
    }
   ],
   "source": [
    "plot_poisson(np.arange(0,10), poisson_probs_s, \"Turkey\")"
   ]
  },
  {
   "cell_type": "code",
   "execution_count": 30,
   "id": "63437329",
   "metadata": {},
   "outputs": [],
   "source": [
    "res_track = np.zeros((10,10))\n",
    "\n",
    "for i in range(len(poisson_probs_g)):\n",
    "    for j in range(len(poisson_probs_s)):\n",
    "        res_prob = poisson_probs_g[i]*poisson_probs_s[j]\n",
    "        res_track[j][i] = res_prob"
   ]
  },
  {
   "cell_type": "code",
   "execution_count": 31,
   "id": "5c1b343f",
   "metadata": {},
   "outputs": [
    {
     "data": {
      "text/plain": [
       "array([1.43504291e-01, 2.78597845e-01, 2.70433582e-01, 1.75005715e-01,\n",
       "       8.49386009e-02, 3.29797958e-02, 1.06711095e-02, 2.95954127e-03,\n",
       "       7.18203104e-04, 1.54923619e-04])"
      ]
     },
     "execution_count": 31,
     "metadata": {},
     "output_type": "execute_result"
    }
   ],
   "source": [
    "poisson_probs_g"
   ]
  },
  {
   "cell_type": "code",
   "execution_count": 32,
   "id": "8c2de72d",
   "metadata": {},
   "outputs": [
    {
     "data": {
      "text/plain": [
       "array([4.73280189e-01, 3.54045623e-01, 1.32425047e-01, 3.30209669e-02,\n",
       "       6.17547971e-03, 9.23935381e-04, 1.15194369e-04, 1.23104553e-05,\n",
       "       1.15113175e-06, 9.56804979e-08])"
      ]
     },
     "execution_count": 32,
     "metadata": {},
     "output_type": "execute_result"
    }
   ],
   "source": [
    "poisson_probs_s"
   ]
  },
  {
   "cell_type": "code",
   "execution_count": 39,
   "id": "1e853e32",
   "metadata": {},
   "outputs": [],
   "source": [
    "res_df = pd.DataFrame(res_track)"
   ]
  },
  {
   "cell_type": "code",
   "execution_count": 40,
   "id": "c78836f4",
   "metadata": {},
   "outputs": [],
   "source": [
    "res_df.columns = [\"Portugal \" + str(a) for a in res_df.columns] \n",
    "res_df.index = [\"Turkey \" + str(a) for a in res_df.index] "
   ]
  },
  {
   "cell_type": "code",
   "execution_count": null,
   "id": "54bc5c73",
   "metadata": {},
   "outputs": [],
   "source": []
  },
  {
   "cell_type": "code",
   "execution_count": 41,
   "id": "9b535ada",
   "metadata": {},
   "outputs": [],
   "source": [
    "def style_specific_cells(x):\n",
    "    color = ''\n",
    "    \n",
    "    df_styled = pd.DataFrame('', index=x.index, columns=x.columns)\n",
    "    for i in range(x.shape[0]):\n",
    "        for j in range(x.shape[1]):\n",
    "            if i == j:\n",
    "                color = 'background-color: yellow'\n",
    "            elif j > i:\n",
    "                color = 'background-color: lightgreen'\n",
    "            else:\n",
    "                color = 'background-color: lightcoral'\n",
    "            df_styled.iloc[i, j] = color\n",
    "    return df_styled\n"
   ]
  },
  {
   "cell_type": "code",
   "execution_count": 42,
   "id": "a86da518",
   "metadata": {},
   "outputs": [
    {
     "data": {
      "text/html": [
       "<style type=\"text/css\">\n",
       "#T_81f39_row0_col0, #T_81f39_row1_col1, #T_81f39_row2_col2, #T_81f39_row3_col3, #T_81f39_row4_col4, #T_81f39_row5_col5, #T_81f39_row6_col6, #T_81f39_row7_col7, #T_81f39_row8_col8, #T_81f39_row9_col9 {\n",
       "  background-color: yellow;\n",
       "}\n",
       "#T_81f39_row0_col1, #T_81f39_row0_col2, #T_81f39_row0_col3, #T_81f39_row0_col4, #T_81f39_row0_col5, #T_81f39_row0_col6, #T_81f39_row0_col7, #T_81f39_row0_col8, #T_81f39_row0_col9, #T_81f39_row1_col2, #T_81f39_row1_col3, #T_81f39_row1_col4, #T_81f39_row1_col5, #T_81f39_row1_col6, #T_81f39_row1_col7, #T_81f39_row1_col8, #T_81f39_row1_col9, #T_81f39_row2_col3, #T_81f39_row2_col4, #T_81f39_row2_col5, #T_81f39_row2_col6, #T_81f39_row2_col7, #T_81f39_row2_col8, #T_81f39_row2_col9, #T_81f39_row3_col4, #T_81f39_row3_col5, #T_81f39_row3_col6, #T_81f39_row3_col7, #T_81f39_row3_col8, #T_81f39_row3_col9, #T_81f39_row4_col5, #T_81f39_row4_col6, #T_81f39_row4_col7, #T_81f39_row4_col8, #T_81f39_row4_col9, #T_81f39_row5_col6, #T_81f39_row5_col7, #T_81f39_row5_col8, #T_81f39_row5_col9, #T_81f39_row6_col7, #T_81f39_row6_col8, #T_81f39_row6_col9, #T_81f39_row7_col8, #T_81f39_row7_col9, #T_81f39_row8_col9 {\n",
       "  background-color: lightgreen;\n",
       "}\n",
       "#T_81f39_row1_col0, #T_81f39_row2_col0, #T_81f39_row2_col1, #T_81f39_row3_col0, #T_81f39_row3_col1, #T_81f39_row3_col2, #T_81f39_row4_col0, #T_81f39_row4_col1, #T_81f39_row4_col2, #T_81f39_row4_col3, #T_81f39_row5_col0, #T_81f39_row5_col1, #T_81f39_row5_col2, #T_81f39_row5_col3, #T_81f39_row5_col4, #T_81f39_row6_col0, #T_81f39_row6_col1, #T_81f39_row6_col2, #T_81f39_row6_col3, #T_81f39_row6_col4, #T_81f39_row6_col5, #T_81f39_row7_col0, #T_81f39_row7_col1, #T_81f39_row7_col2, #T_81f39_row7_col3, #T_81f39_row7_col4, #T_81f39_row7_col5, #T_81f39_row7_col6, #T_81f39_row8_col0, #T_81f39_row8_col1, #T_81f39_row8_col2, #T_81f39_row8_col3, #T_81f39_row8_col4, #T_81f39_row8_col5, #T_81f39_row8_col6, #T_81f39_row8_col7, #T_81f39_row9_col0, #T_81f39_row9_col1, #T_81f39_row9_col2, #T_81f39_row9_col3, #T_81f39_row9_col4, #T_81f39_row9_col5, #T_81f39_row9_col6, #T_81f39_row9_col7, #T_81f39_row9_col8 {\n",
       "  background-color: lightcoral;\n",
       "}\n",
       "</style>\n",
       "<table id=\"T_81f39\">\n",
       "  <thead>\n",
       "    <tr>\n",
       "      <th class=\"blank level0\" >&nbsp;</th>\n",
       "      <th id=\"T_81f39_level0_col0\" class=\"col_heading level0 col0\" >Portugal 0</th>\n",
       "      <th id=\"T_81f39_level0_col1\" class=\"col_heading level0 col1\" >Portugal 1</th>\n",
       "      <th id=\"T_81f39_level0_col2\" class=\"col_heading level0 col2\" >Portugal 2</th>\n",
       "      <th id=\"T_81f39_level0_col3\" class=\"col_heading level0 col3\" >Portugal 3</th>\n",
       "      <th id=\"T_81f39_level0_col4\" class=\"col_heading level0 col4\" >Portugal 4</th>\n",
       "      <th id=\"T_81f39_level0_col5\" class=\"col_heading level0 col5\" >Portugal 5</th>\n",
       "      <th id=\"T_81f39_level0_col6\" class=\"col_heading level0 col6\" >Portugal 6</th>\n",
       "      <th id=\"T_81f39_level0_col7\" class=\"col_heading level0 col7\" >Portugal 7</th>\n",
       "      <th id=\"T_81f39_level0_col8\" class=\"col_heading level0 col8\" >Portugal 8</th>\n",
       "      <th id=\"T_81f39_level0_col9\" class=\"col_heading level0 col9\" >Portugal 9</th>\n",
       "    </tr>\n",
       "  </thead>\n",
       "  <tbody>\n",
       "    <tr>\n",
       "      <th id=\"T_81f39_level0_row0\" class=\"row_heading level0 row0\" >Turkey 0</th>\n",
       "      <td id=\"T_81f39_row0_col0\" class=\"data row0 col0\" >6.79%</td>\n",
       "      <td id=\"T_81f39_row0_col1\" class=\"data row0 col1\" >13.19%</td>\n",
       "      <td id=\"T_81f39_row0_col2\" class=\"data row0 col2\" >12.80%</td>\n",
       "      <td id=\"T_81f39_row0_col3\" class=\"data row0 col3\" >8.28%</td>\n",
       "      <td id=\"T_81f39_row0_col4\" class=\"data row0 col4\" >4.02%</td>\n",
       "      <td id=\"T_81f39_row0_col5\" class=\"data row0 col5\" >1.56%</td>\n",
       "      <td id=\"T_81f39_row0_col6\" class=\"data row0 col6\" >0.51%</td>\n",
       "      <td id=\"T_81f39_row0_col7\" class=\"data row0 col7\" >0.14%</td>\n",
       "      <td id=\"T_81f39_row0_col8\" class=\"data row0 col8\" >0.03%</td>\n",
       "      <td id=\"T_81f39_row0_col9\" class=\"data row0 col9\" >0.01%</td>\n",
       "    </tr>\n",
       "    <tr>\n",
       "      <th id=\"T_81f39_level0_row1\" class=\"row_heading level0 row1\" >Turkey 1</th>\n",
       "      <td id=\"T_81f39_row1_col0\" class=\"data row1 col0\" >5.08%</td>\n",
       "      <td id=\"T_81f39_row1_col1\" class=\"data row1 col1\" >9.86%</td>\n",
       "      <td id=\"T_81f39_row1_col2\" class=\"data row1 col2\" >9.57%</td>\n",
       "      <td id=\"T_81f39_row1_col3\" class=\"data row1 col3\" >6.20%</td>\n",
       "      <td id=\"T_81f39_row1_col4\" class=\"data row1 col4\" >3.01%</td>\n",
       "      <td id=\"T_81f39_row1_col5\" class=\"data row1 col5\" >1.17%</td>\n",
       "      <td id=\"T_81f39_row1_col6\" class=\"data row1 col6\" >0.38%</td>\n",
       "      <td id=\"T_81f39_row1_col7\" class=\"data row1 col7\" >0.10%</td>\n",
       "      <td id=\"T_81f39_row1_col8\" class=\"data row1 col8\" >0.03%</td>\n",
       "      <td id=\"T_81f39_row1_col9\" class=\"data row1 col9\" >0.01%</td>\n",
       "    </tr>\n",
       "    <tr>\n",
       "      <th id=\"T_81f39_level0_row2\" class=\"row_heading level0 row2\" >Turkey 2</th>\n",
       "      <td id=\"T_81f39_row2_col0\" class=\"data row2 col0\" >1.90%</td>\n",
       "      <td id=\"T_81f39_row2_col1\" class=\"data row2 col1\" >3.69%</td>\n",
       "      <td id=\"T_81f39_row2_col2\" class=\"data row2 col2\" >3.58%</td>\n",
       "      <td id=\"T_81f39_row2_col3\" class=\"data row2 col3\" >2.32%</td>\n",
       "      <td id=\"T_81f39_row2_col4\" class=\"data row2 col4\" >1.12%</td>\n",
       "      <td id=\"T_81f39_row2_col5\" class=\"data row2 col5\" >0.44%</td>\n",
       "      <td id=\"T_81f39_row2_col6\" class=\"data row2 col6\" >0.14%</td>\n",
       "      <td id=\"T_81f39_row2_col7\" class=\"data row2 col7\" >0.04%</td>\n",
       "      <td id=\"T_81f39_row2_col8\" class=\"data row2 col8\" >0.01%</td>\n",
       "      <td id=\"T_81f39_row2_col9\" class=\"data row2 col9\" >0.00%</td>\n",
       "    </tr>\n",
       "    <tr>\n",
       "      <th id=\"T_81f39_level0_row3\" class=\"row_heading level0 row3\" >Turkey 3</th>\n",
       "      <td id=\"T_81f39_row3_col0\" class=\"data row3 col0\" >0.47%</td>\n",
       "      <td id=\"T_81f39_row3_col1\" class=\"data row3 col1\" >0.92%</td>\n",
       "      <td id=\"T_81f39_row3_col2\" class=\"data row3 col2\" >0.89%</td>\n",
       "      <td id=\"T_81f39_row3_col3\" class=\"data row3 col3\" >0.58%</td>\n",
       "      <td id=\"T_81f39_row3_col4\" class=\"data row3 col4\" >0.28%</td>\n",
       "      <td id=\"T_81f39_row3_col5\" class=\"data row3 col5\" >0.11%</td>\n",
       "      <td id=\"T_81f39_row3_col6\" class=\"data row3 col6\" >0.04%</td>\n",
       "      <td id=\"T_81f39_row3_col7\" class=\"data row3 col7\" >0.01%</td>\n",
       "      <td id=\"T_81f39_row3_col8\" class=\"data row3 col8\" >0.00%</td>\n",
       "      <td id=\"T_81f39_row3_col9\" class=\"data row3 col9\" >0.00%</td>\n",
       "    </tr>\n",
       "    <tr>\n",
       "      <th id=\"T_81f39_level0_row4\" class=\"row_heading level0 row4\" >Turkey 4</th>\n",
       "      <td id=\"T_81f39_row4_col0\" class=\"data row4 col0\" >0.09%</td>\n",
       "      <td id=\"T_81f39_row4_col1\" class=\"data row4 col1\" >0.17%</td>\n",
       "      <td id=\"T_81f39_row4_col2\" class=\"data row4 col2\" >0.17%</td>\n",
       "      <td id=\"T_81f39_row4_col3\" class=\"data row4 col3\" >0.11%</td>\n",
       "      <td id=\"T_81f39_row4_col4\" class=\"data row4 col4\" >0.05%</td>\n",
       "      <td id=\"T_81f39_row4_col5\" class=\"data row4 col5\" >0.02%</td>\n",
       "      <td id=\"T_81f39_row4_col6\" class=\"data row4 col6\" >0.01%</td>\n",
       "      <td id=\"T_81f39_row4_col7\" class=\"data row4 col7\" >0.00%</td>\n",
       "      <td id=\"T_81f39_row4_col8\" class=\"data row4 col8\" >0.00%</td>\n",
       "      <td id=\"T_81f39_row4_col9\" class=\"data row4 col9\" >0.00%</td>\n",
       "    </tr>\n",
       "    <tr>\n",
       "      <th id=\"T_81f39_level0_row5\" class=\"row_heading level0 row5\" >Turkey 5</th>\n",
       "      <td id=\"T_81f39_row5_col0\" class=\"data row5 col0\" >0.01%</td>\n",
       "      <td id=\"T_81f39_row5_col1\" class=\"data row5 col1\" >0.03%</td>\n",
       "      <td id=\"T_81f39_row5_col2\" class=\"data row5 col2\" >0.02%</td>\n",
       "      <td id=\"T_81f39_row5_col3\" class=\"data row5 col3\" >0.02%</td>\n",
       "      <td id=\"T_81f39_row5_col4\" class=\"data row5 col4\" >0.01%</td>\n",
       "      <td id=\"T_81f39_row5_col5\" class=\"data row5 col5\" >0.00%</td>\n",
       "      <td id=\"T_81f39_row5_col6\" class=\"data row5 col6\" >0.00%</td>\n",
       "      <td id=\"T_81f39_row5_col7\" class=\"data row5 col7\" >0.00%</td>\n",
       "      <td id=\"T_81f39_row5_col8\" class=\"data row5 col8\" >0.00%</td>\n",
       "      <td id=\"T_81f39_row5_col9\" class=\"data row5 col9\" >0.00%</td>\n",
       "    </tr>\n",
       "    <tr>\n",
       "      <th id=\"T_81f39_level0_row6\" class=\"row_heading level0 row6\" >Turkey 6</th>\n",
       "      <td id=\"T_81f39_row6_col0\" class=\"data row6 col0\" >0.00%</td>\n",
       "      <td id=\"T_81f39_row6_col1\" class=\"data row6 col1\" >0.00%</td>\n",
       "      <td id=\"T_81f39_row6_col2\" class=\"data row6 col2\" >0.00%</td>\n",
       "      <td id=\"T_81f39_row6_col3\" class=\"data row6 col3\" >0.00%</td>\n",
       "      <td id=\"T_81f39_row6_col4\" class=\"data row6 col4\" >0.00%</td>\n",
       "      <td id=\"T_81f39_row6_col5\" class=\"data row6 col5\" >0.00%</td>\n",
       "      <td id=\"T_81f39_row6_col6\" class=\"data row6 col6\" >0.00%</td>\n",
       "      <td id=\"T_81f39_row6_col7\" class=\"data row6 col7\" >0.00%</td>\n",
       "      <td id=\"T_81f39_row6_col8\" class=\"data row6 col8\" >0.00%</td>\n",
       "      <td id=\"T_81f39_row6_col9\" class=\"data row6 col9\" >0.00%</td>\n",
       "    </tr>\n",
       "    <tr>\n",
       "      <th id=\"T_81f39_level0_row7\" class=\"row_heading level0 row7\" >Turkey 7</th>\n",
       "      <td id=\"T_81f39_row7_col0\" class=\"data row7 col0\" >0.00%</td>\n",
       "      <td id=\"T_81f39_row7_col1\" class=\"data row7 col1\" >0.00%</td>\n",
       "      <td id=\"T_81f39_row7_col2\" class=\"data row7 col2\" >0.00%</td>\n",
       "      <td id=\"T_81f39_row7_col3\" class=\"data row7 col3\" >0.00%</td>\n",
       "      <td id=\"T_81f39_row7_col4\" class=\"data row7 col4\" >0.00%</td>\n",
       "      <td id=\"T_81f39_row7_col5\" class=\"data row7 col5\" >0.00%</td>\n",
       "      <td id=\"T_81f39_row7_col6\" class=\"data row7 col6\" >0.00%</td>\n",
       "      <td id=\"T_81f39_row7_col7\" class=\"data row7 col7\" >0.00%</td>\n",
       "      <td id=\"T_81f39_row7_col8\" class=\"data row7 col8\" >0.00%</td>\n",
       "      <td id=\"T_81f39_row7_col9\" class=\"data row7 col9\" >0.00%</td>\n",
       "    </tr>\n",
       "    <tr>\n",
       "      <th id=\"T_81f39_level0_row8\" class=\"row_heading level0 row8\" >Turkey 8</th>\n",
       "      <td id=\"T_81f39_row8_col0\" class=\"data row8 col0\" >0.00%</td>\n",
       "      <td id=\"T_81f39_row8_col1\" class=\"data row8 col1\" >0.00%</td>\n",
       "      <td id=\"T_81f39_row8_col2\" class=\"data row8 col2\" >0.00%</td>\n",
       "      <td id=\"T_81f39_row8_col3\" class=\"data row8 col3\" >0.00%</td>\n",
       "      <td id=\"T_81f39_row8_col4\" class=\"data row8 col4\" >0.00%</td>\n",
       "      <td id=\"T_81f39_row8_col5\" class=\"data row8 col5\" >0.00%</td>\n",
       "      <td id=\"T_81f39_row8_col6\" class=\"data row8 col6\" >0.00%</td>\n",
       "      <td id=\"T_81f39_row8_col7\" class=\"data row8 col7\" >0.00%</td>\n",
       "      <td id=\"T_81f39_row8_col8\" class=\"data row8 col8\" >0.00%</td>\n",
       "      <td id=\"T_81f39_row8_col9\" class=\"data row8 col9\" >0.00%</td>\n",
       "    </tr>\n",
       "    <tr>\n",
       "      <th id=\"T_81f39_level0_row9\" class=\"row_heading level0 row9\" >Turkey 9</th>\n",
       "      <td id=\"T_81f39_row9_col0\" class=\"data row9 col0\" >0.00%</td>\n",
       "      <td id=\"T_81f39_row9_col1\" class=\"data row9 col1\" >0.00%</td>\n",
       "      <td id=\"T_81f39_row9_col2\" class=\"data row9 col2\" >0.00%</td>\n",
       "      <td id=\"T_81f39_row9_col3\" class=\"data row9 col3\" >0.00%</td>\n",
       "      <td id=\"T_81f39_row9_col4\" class=\"data row9 col4\" >0.00%</td>\n",
       "      <td id=\"T_81f39_row9_col5\" class=\"data row9 col5\" >0.00%</td>\n",
       "      <td id=\"T_81f39_row9_col6\" class=\"data row9 col6\" >0.00%</td>\n",
       "      <td id=\"T_81f39_row9_col7\" class=\"data row9 col7\" >0.00%</td>\n",
       "      <td id=\"T_81f39_row9_col8\" class=\"data row9 col8\" >0.00%</td>\n",
       "      <td id=\"T_81f39_row9_col9\" class=\"data row9 col9\" >0.00%</td>\n",
       "    </tr>\n",
       "  </tbody>\n",
       "</table>\n"
      ],
      "text/plain": [
       "<pandas.io.formats.style.Styler at 0x1a48a6fc690>"
      ]
     },
     "execution_count": 42,
     "metadata": {},
     "output_type": "execute_result"
    }
   ],
   "source": [
    "res_df.style.format(\"{:.2%}\").apply(style_specific_cells, axis=None)"
   ]
  },
  {
   "cell_type": "code",
   "execution_count": null,
   "id": "9d2ba718",
   "metadata": {},
   "outputs": [],
   "source": []
  },
  {
   "cell_type": "code",
   "execution_count": 23,
   "id": "91fdc40d",
   "metadata": {},
   "outputs": [],
   "source": [
    "def goals_prob(poisson_home, poisson_away, over=2.5):\n",
    "    over_probs = []\n",
    "    under_probs = []\n",
    "    \n",
    "    for i in range(len(poisson_home)):\n",
    "        for j in range(len(poisson_away)):\n",
    "            res_prob = poisson_home[i]*poisson_away[j]\n",
    "            if i+j>over:\n",
    "                over_probs.append(res_prob)\n",
    "            else:\n",
    "                under_probs.append(res_prob)\n",
    "    \n",
    "    print(f\"Prob over: {sum(over_probs)}\")\n",
    "    print(f\"Prob under: {sum(under_probs)}\")"
   ]
  },
  {
   "cell_type": "code",
   "execution_count": 24,
   "id": "301817e1",
   "metadata": {},
   "outputs": [
    {
     "name": "stdout",
     "output_type": "stream",
     "text": [
      "Prob over: 0.6584574883878249\n",
      "Prob under: 0.34148950545610807\n"
     ]
    }
   ],
   "source": [
    "goals_prob(poisson_probs_g, poisson_probs_s)"
   ]
  },
  {
   "cell_type": "code",
   "execution_count": null,
   "id": "4ac537bb",
   "metadata": {},
   "outputs": [],
   "source": []
  },
  {
   "cell_type": "code",
   "execution_count": null,
   "id": "385b2960",
   "metadata": {},
   "outputs": [],
   "source": []
  },
  {
   "cell_type": "code",
   "execution_count": null,
   "id": "de9b6977",
   "metadata": {},
   "outputs": [],
   "source": []
  },
  {
   "cell_type": "code",
   "execution_count": 25,
   "id": "cea33d96",
   "metadata": {},
   "outputs": [],
   "source": [
    "def find_probs(poisson_home, poisson_away):\n",
    "    home_probs = []\n",
    "    away_probs = []\n",
    "    \n",
    "    draw_probs = []\n",
    "    \n",
    "    for i in range(len(poisson_home)):\n",
    "        for j in range(len(poisson_away)):\n",
    "            res_prob = poisson_home[i]*poisson_away[j]\n",
    "            \n",
    "            if i == j:\n",
    "                draw_probs.append(res_prob)\n",
    "            elif i > j:\n",
    "                home_probs.append(res_prob)\n",
    "            elif j > i:\n",
    "                away_probs.append(res_prob)\n",
    "            #res_track[j][i] = res_prob\n",
    "    \n",
    "    \n",
    "    return sum(home_probs), sum(draw_probs), sum(away_probs), poisson_home.tolist().index(max(poisson_home.tolist())), poisson_away.tolist().index(max(poisson_away.tolist()))"
   ]
  },
  {
   "cell_type": "code",
   "execution_count": 26,
   "id": "410f0797",
   "metadata": {},
   "outputs": [],
   "source": [
    "gw, draw, sw, g1, g2 = find_probs(poisson_probs_g, poisson_probs_s)"
   ]
  },
  {
   "cell_type": "code",
   "execution_count": 27,
   "id": "28017b21",
   "metadata": {},
   "outputs": [
    {
     "name": "stdout",
     "output_type": "stream",
     "text": [
      "Germany Wins: 52.69%\n",
      "Draw: 21.50%\n",
      "Scotland Wins: 25.81%\n"
     ]
    }
   ],
   "source": [
    "print(f\"Germany Wins: {gw:.2%}\")\n",
    "print(f\"Draw: {draw:.2%}\")\n",
    "print(f\"Scotland Wins: {sw:.2%}\")"
   ]
  },
  {
   "cell_type": "code",
   "execution_count": 28,
   "id": "f23161fd",
   "metadata": {},
   "outputs": [
    {
     "data": {
      "text/plain": [
       "(0.5268875579759191, 0.2149777007311328, 0.25808173513688143, 2, 1)"
      ]
     },
     "execution_count": 28,
     "metadata": {},
     "output_type": "execute_result"
    }
   ],
   "source": [
    "find_probs(poisson_probs_g, poisson_probs_s)"
   ]
  },
  {
   "cell_type": "code",
   "execution_count": null,
   "id": "2c3240d0",
   "metadata": {},
   "outputs": [],
   "source": []
  },
  {
   "cell_type": "markdown",
   "id": "5bb41974",
   "metadata": {},
   "source": [
    "## Complete sim\n",
    "\n",
    "With the model done, I'll simulate each game in the UEFA Euro to find the most likely results"
   ]
  },
  {
   "cell_type": "code",
   "execution_count": null,
   "id": "aee109ef",
   "metadata": {},
   "outputs": [],
   "source": []
  },
  {
   "cell_type": "code",
   "execution_count": 29,
   "id": "500197f6",
   "metadata": {},
   "outputs": [],
   "source": [
    "euro = pd.read_csv(\"data/euro_matches.csv\")"
   ]
  },
  {
   "cell_type": "code",
   "execution_count": null,
   "id": "6e28e349",
   "metadata": {},
   "outputs": [],
   "source": []
  },
  {
   "cell_type": "code",
   "execution_count": 30,
   "id": "f24b2a14",
   "metadata": {},
   "outputs": [],
   "source": [
    "group_phase = euro.dropna(subset='home_team')"
   ]
  },
  {
   "cell_type": "code",
   "execution_count": 31,
   "id": "d16aa458",
   "metadata": {},
   "outputs": [],
   "source": [
    "r1 = group_phase.head(12).copy()\n",
    "r1[\"Group\"] = ['A', 'A', 'B', 'B', 'C', 'C', 'D', 'D', 'E', 'E', 'F', 'F']"
   ]
  },
  {
   "cell_type": "code",
   "execution_count": 32,
   "id": "e996430f",
   "metadata": {},
   "outputs": [],
   "source": [
    "groups = r1.Group.drop_duplicates().values"
   ]
  },
  {
   "cell_type": "code",
   "execution_count": null,
   "id": "268aa720",
   "metadata": {},
   "outputs": [],
   "source": []
  },
  {
   "cell_type": "code",
   "execution_count": 33,
   "id": "cc3c0034",
   "metadata": {},
   "outputs": [],
   "source": [
    "group_dict = {}\n",
    "for g in groups:\n",
    "    teams1 = r1[r1.Group == g].home_team.values.tolist()\n",
    "    teams2 = r1[r1.Group == g].away_team.values.tolist()\n",
    "    teams = teams1+teams2\n",
    "    group_dict[g] = {a: [0, 0, 0] for a in teams}"
   ]
  },
  {
   "cell_type": "code",
   "execution_count": null,
   "id": "d1e6bdac",
   "metadata": {},
   "outputs": [],
   "source": []
  },
  {
   "cell_type": "code",
   "execution_count": null,
   "id": "aa4c76da",
   "metadata": {},
   "outputs": [],
   "source": []
  },
  {
   "cell_type": "code",
   "execution_count": 34,
   "id": "174ff281",
   "metadata": {},
   "outputs": [
    {
     "name": "stderr",
     "output_type": "stream",
     "text": [
      "C:\\Users\\sergi\\AppData\\Local\\Temp\\ipykernel_39272\\2649806274.py:1: SettingWithCopyWarning: \n",
      "A value is trying to be set on a copy of a slice from a DataFrame.\n",
      "Try using .loc[row_indexer,col_indexer] = value instead\n",
      "\n",
      "See the caveats in the documentation: https://pandas.pydata.org/pandas-docs/stable/user_guide/indexing.html#returning-a-view-versus-a-copy\n",
      "  group_phase['Group'] = group_phase.home_team.apply(lambda x: r1[r1.home_team == x].Group.values[0] if len(r1[r1.home_team == x])>0 else r1[r1.away_team == x].Group.values[0])\n"
     ]
    }
   ],
   "source": [
    "group_phase['Group'] = group_phase.home_team.apply(lambda x: r1[r1.home_team == x].Group.values[0] if len(r1[r1.home_team == x])>0 else r1[r1.away_team == x].Group.values[0])"
   ]
  },
  {
   "cell_type": "code",
   "execution_count": null,
   "id": "075c4fa9",
   "metadata": {},
   "outputs": [],
   "source": []
  },
  {
   "cell_type": "code",
   "execution_count": null,
   "id": "972fea3c",
   "metadata": {},
   "outputs": [],
   "source": []
  },
  {
   "cell_type": "code",
   "execution_count": 35,
   "id": "c8fb1fdb",
   "metadata": {},
   "outputs": [],
   "source": [
    "from tqdm import tqdm"
   ]
  },
  {
   "cell_type": "code",
   "execution_count": 36,
   "id": "0ee8fe3e",
   "metadata": {
    "scrolled": false
   },
   "outputs": [
    {
     "name": "stdout",
     "output_type": "stream",
     "text": [
      "Germany Wins: 47.69%\n",
      "Draw: 31.50%\n",
      "Scotland Wins: 20.81%\n",
      "most prob result Germany 2 - 1 Scotland\n",
      "------------------------------------------\n",
      "Hungary Wins: 24.35%\n",
      "Draw: 37.21%\n",
      "Switzerland Wins: 38.44%\n",
      "most prob result Hungary 1 - 1 Switzerland\n",
      "------------------------------------------\n",
      "Spain Wins: 28.69%\n",
      "Draw: 35.59%\n",
      "Croatia Wins: 35.71%\n",
      "most prob result Spain 1 - 1 Croatia\n",
      "------------------------------------------\n",
      "Italy Wins: 49.38%\n",
      "Draw: 32.67%\n",
      "Albania Wins: 17.95%\n",
      "most prob result Italy 1 - 1 Albania\n",
      "------------------------------------------\n",
      "Slovenia Wins: 24.62%\n",
      "Draw: 33.86%\n",
      "Denmark Wins: 41.52%\n",
      "most prob result Slovenia 1 - 1 Denmark\n",
      "------------------------------------------\n",
      "Serbia Wins: 23.78%\n",
      "Draw: 34.70%\n",
      "England Wins: 41.52%\n",
      "most prob result Serbia 1 - 1 England\n",
      "------------------------------------------\n",
      "Poland Wins: 22.57%\n",
      "Draw: 33.54%\n",
      "Netherlands Wins: 43.89%\n",
      "most prob result Poland 1 - 1 Netherlands\n",
      "------------------------------------------\n",
      "Austria Wins: 25.07%\n",
      "Draw: 34.16%\n",
      "France Wins: 40.77%\n",
      "most prob result Austria 1 - 1 France\n",
      "------------------------------------------\n",
      "Romania Wins: 27.36%\n",
      "Draw: 34.30%\n",
      "Ukraine Wins: 38.34%\n",
      "most prob result Romania 1 - 1 Ukraine\n",
      "------------------------------------------\n",
      "Belgium Wins: 44.96%\n",
      "Draw: 33.10%\n",
      "Slovakia Wins: 21.94%\n",
      "most prob result Belgium 1 - 1 Slovakia\n",
      "------------------------------------------\n",
      "Turkey Wins: 37.58%\n",
      "Draw: 33.65%\n",
      "Georgia Wins: 28.77%\n",
      "most prob result Turkey 1 - 1 Georgia\n",
      "------------------------------------------\n",
      "Portugal Wins: 43.80%\n",
      "Draw: 32.98%\n",
      "Czech Republic Wins: 23.21%\n",
      "most prob result Portugal 1 - 1 Czech Republic\n",
      "------------------------------------------\n",
      "Germany Wins: 27.15%\n",
      "Draw: 39.14%\n",
      "Hungary Wins: 33.71%\n",
      "most prob result Germany 1 - 1 Hungary\n",
      "------------------------------------------\n",
      "Scotland Wins: 28.54%\n",
      "Draw: 37.24%\n",
      "Switzerland Wins: 34.22%\n",
      "most prob result Scotland 1 - 1 Switzerland\n",
      "------------------------------------------\n",
      "Croatia Wins: 56.02%\n",
      "Draw: 29.56%\n",
      "Albania Wins: 14.41%\n",
      "most prob result Croatia 2 - 1 Albania\n",
      "------------------------------------------\n",
      "Spain Wins: 30.32%\n",
      "Draw: 35.69%\n",
      "Italy Wins: 33.99%\n",
      "most prob result Spain 1 - 1 Italy\n",
      "------------------------------------------\n",
      "Slovenia Wins: 20.65%\n",
      "Draw: 31.26%\n",
      "Serbia Wins: 48.09%\n",
      "most prob result Slovenia 1 - 2 Serbia\n",
      "------------------------------------------\n",
      "Denmark Wins: 20.66%\n",
      "Draw: 32.87%\n",
      "England Wins: 46.46%\n",
      "most prob result Denmark 1 - 1 England\n",
      "------------------------------------------\n",
      "Poland Wins: 34.12%\n",
      "Draw: 34.94%\n",
      "Austria Wins: 30.93%\n",
      "most prob result Poland 1 - 1 Austria\n",
      "------------------------------------------\n",
      "Netherlands Wins: 44.13%\n",
      "Draw: 35.01%\n",
      "France Wins: 20.86%\n",
      "most prob result Netherlands 1 - 1 France\n",
      "------------------------------------------\n",
      "Slovakia Wins: 24.19%\n",
      "Draw: 32.32%\n",
      "Ukraine Wins: 43.49%\n",
      "most prob result Slovakia 1 - 1 Ukraine\n",
      "------------------------------------------\n",
      "Belgium Wins: 47.45%\n",
      "Draw: 33.23%\n",
      "Romania Wins: 19.32%\n",
      "most prob result Belgium 1 - 1 Romania\n",
      "------------------------------------------\n",
      "Georgia Wins: 22.35%\n",
      "Draw: 32.06%\n",
      "Czech Republic Wins: 45.59%\n",
      "most prob result Georgia 1 - 1 Czech Republic\n",
      "------------------------------------------\n",
      "Turkey Wins: 19.95%\n",
      "Draw: 32.81%\n",
      "Portugal Wins: 47.24%\n",
      "most prob result Turkey 1 - 1 Portugal\n",
      "------------------------------------------\n",
      "Germany Wins: 30.57%\n",
      "Draw: 39.48%\n",
      "Switzerland Wins: 29.95%\n",
      "most prob result Germany 1 - 1 Switzerland\n",
      "------------------------------------------\n",
      "Scotland Wins: 20.96%\n",
      "Draw: 36.00%\n",
      "Hungary Wins: 43.04%\n",
      "most prob result Scotland 1 - 1 Hungary\n",
      "------------------------------------------\n",
      "Albania Wins: 12.79%\n",
      "Draw: 29.26%\n",
      "Spain Wins: 57.94%\n",
      "most prob result Albania 1 - 2 Spain\n",
      "------------------------------------------\n",
      "Croatia Wins: 38.17%\n",
      "Draw: 36.41%\n",
      "Italy Wins: 25.42%\n",
      "most prob result Croatia 1 - 1 Italy\n",
      "------------------------------------------\n",
      "England Wins: 48.32%\n",
      "Draw: 31.88%\n",
      "Slovenia Wins: 19.79%\n",
      "most prob result England 1 - 1 Slovenia\n",
      "------------------------------------------\n",
      "Denmark Wins: 30.40%\n",
      "Draw: 39.56%\n",
      "Serbia Wins: 30.04%\n",
      "most prob result Denmark 1 - 1 Serbia\n",
      "------------------------------------------\n",
      "Netherlands Wins: 43.52%\n",
      "Draw: 32.85%\n",
      "Austria Wins: 23.62%\n",
      "most prob result Netherlands 1 - 1 Austria\n",
      "------------------------------------------\n",
      "France Wins: 38.52%\n",
      "Draw: 34.28%\n",
      "Poland Wins: 27.20%\n",
      "most prob result France 1 - 1 Poland\n",
      "------------------------------------------\n",
      "Slovakia Wins: 32.83%\n",
      "Draw: 35.04%\n",
      "Romania Wins: 32.12%\n",
      "most prob result Slovakia 1 - 1 Romania\n",
      "------------------------------------------\n",
      "Ukraine Wins: 21.90%\n",
      "Draw: 33.18%\n",
      "Belgium Wins: 44.91%\n",
      "most prob result Ukraine 1 - 1 Belgium\n",
      "------------------------------------------\n",
      "Georgia Wins: 12.06%\n",
      "Draw: 27.51%\n",
      "Portugal Wins: 60.40%\n",
      "most prob result Georgia 1 - 2 Portugal\n",
      "------------------------------------------\n",
      "Czech Republic Wins: 34.34%\n",
      "Draw: 37.73%\n",
      "Turkey Wins: 27.93%\n",
      "most prob result Czech Republic 1 - 1 Turkey\n",
      "------------------------------------------\n"
     ]
    }
   ],
   "source": [
    "for i, vals in group_phase.iterrows():\n",
    "    home = vals['home_team']\n",
    "    away = vals['away_team']\n",
    "    \n",
    "    # SIM 1 HOME x AWAY\n",
    "    if 'Germany' in home or 'Germany' in away:\n",
    "        h = find_team_features_v2(home, away, neutral = False)\n",
    "        a = find_team_features_v2(away, home, neutral = False)\n",
    "    else:\n",
    "        h = find_team_features_v2(home, away, neutral = True)\n",
    "        a = find_team_features_v2(away, home, neutral = True)\n",
    "\n",
    "    xg_h = md.predict([h])[0]\n",
    "    xg_a = md.predict([a])[0]\n",
    "\n",
    "    poisson_probs_h = poisson.pmf(np.arange(0, 10), xg_h)\n",
    "    poisson_probs_a = poisson.pmf(np.arange(0, 10), xg_a)\n",
    "\n",
    "    hw, draw, aw, g1, g2 = find_probs(poisson_probs_h, poisson_probs_a)\n",
    "    hw -= 0.05\n",
    "    draw +=0.1\n",
    "    aw -= 0.05\n",
    "    \n",
    "    if max([hw, draw, aw]) == hw:\n",
    "        home_points=3\n",
    "        away_points=0\n",
    "    elif max([hw, draw, aw]) == aw:\n",
    "        home_points=0\n",
    "        away_points=3\n",
    "    else:\n",
    "        home_points=1\n",
    "        away_points=1\n",
    "    \n",
    "    grp = group_dict[vals['Group']]\n",
    "    \n",
    "    group_dict[vals['Group']][home] = [grp[home][0]+home_points, grp[home][1]+g1, grp[home][2]+g2]\n",
    "    group_dict[vals['Group']][away] = [grp[away][0]+away_points, grp[home][1]+g2, grp[home][2]+g1]\n",
    "\n",
    "    print(f\"{home} Wins: {hw:.2%}\")\n",
    "    print(f\"Draw: {draw:.2%}\")\n",
    "    print(f\"{away} Wins: {aw:.2%}\")\n",
    "    print(f\"most prob result {home} {g1} - {g2} {away}\")\n",
    "    \n",
    "    \n",
    "    print(\"------------------------------------------\")\n"
   ]
  },
  {
   "cell_type": "code",
   "execution_count": 37,
   "id": "99c45815",
   "metadata": {},
   "outputs": [],
   "source": [
    "group_dfs = []"
   ]
  },
  {
   "cell_type": "code",
   "execution_count": 38,
   "id": "be0b4526",
   "metadata": {},
   "outputs": [],
   "source": [
    "for g in group_dict.keys():\n",
    "    gdf = pd.DataFrame(group_dict[g]).T\n",
    "    \n",
    "    gdf.columns = [\"Points\", \"GF\", \"GA\"]\n",
    "    gdf[\"SG\"] = gdf[\"GF\"] - gdf[\"GA\"]\n",
    "    \n",
    "    gdf = gdf.sort_values([\"Points\", \"SG\", \"GF\", \"GA\"], ascending=False)\n",
    "    group_dfs.append(gdf)"
   ]
  },
  {
   "cell_type": "code",
   "execution_count": null,
   "id": "198a23b2",
   "metadata": {},
   "outputs": [],
   "source": []
  },
  {
   "cell_type": "code",
   "execution_count": 39,
   "id": "4d1a0105",
   "metadata": {},
   "outputs": [],
   "source": [
    "thirds = pd.DataFrame()\n",
    "for g in group_dfs:\n",
    "    thirds = pd.concat([thirds, g.head(3).tail(1)])\n",
    "\n",
    "thirds = thirds.sort_values([\"Points\", \"SG\", \"GF\", \"GA\"], ascending=False)"
   ]
  },
  {
   "cell_type": "code",
   "execution_count": 40,
   "id": "f712065f",
   "metadata": {},
   "outputs": [],
   "source": [
    "classified = thirds.head(4).index.values"
   ]
  },
  {
   "cell_type": "code",
   "execution_count": null,
   "id": "e57ed465",
   "metadata": {},
   "outputs": [],
   "source": []
  },
  {
   "cell_type": "code",
   "execution_count": 41,
   "id": "37b08aab",
   "metadata": {},
   "outputs": [],
   "source": [
    "def style_clf(row, df, n):\n",
    "    if row.name in df.head(n).index.values:\n",
    "        return ['background-color: lightgreen'] * len(row)\n",
    "    else:\n",
    "        return [''] * len(row)"
   ]
  },
  {
   "cell_type": "code",
   "execution_count": null,
   "id": "a28bf923",
   "metadata": {},
   "outputs": [],
   "source": []
  },
  {
   "cell_type": "code",
   "execution_count": null,
   "id": "b48adb1f",
   "metadata": {},
   "outputs": [],
   "source": []
  },
  {
   "cell_type": "code",
   "execution_count": 42,
   "id": "13c0fb89",
   "metadata": {},
   "outputs": [
    {
     "data": {
      "text/html": [
       "<style type=\"text/css\">\n",
       "#T_96c33_row0_col0, #T_96c33_row0_col1, #T_96c33_row0_col2, #T_96c33_row0_col3, #T_96c33_row1_col0, #T_96c33_row1_col1, #T_96c33_row1_col2, #T_96c33_row1_col3, #T_96c33_row2_col0, #T_96c33_row2_col1, #T_96c33_row2_col2, #T_96c33_row2_col3 {\n",
       "  background-color: lightgreen;\n",
       "}\n",
       "</style>\n",
       "<table id=\"T_96c33\">\n",
       "  <thead>\n",
       "    <tr>\n",
       "      <th class=\"blank level0\" >&nbsp;</th>\n",
       "      <th id=\"T_96c33_level0_col0\" class=\"col_heading level0 col0\" >Points</th>\n",
       "      <th id=\"T_96c33_level0_col1\" class=\"col_heading level0 col1\" >GF</th>\n",
       "      <th id=\"T_96c33_level0_col2\" class=\"col_heading level0 col2\" >GA</th>\n",
       "      <th id=\"T_96c33_level0_col3\" class=\"col_heading level0 col3\" >SG</th>\n",
       "    </tr>\n",
       "  </thead>\n",
       "  <tbody>\n",
       "    <tr>\n",
       "      <th id=\"T_96c33_level0_row0\" class=\"row_heading level0 row0\" >Switzerland</th>\n",
       "      <td id=\"T_96c33_row0_col0\" class=\"data row0 col0\" >5</td>\n",
       "      <td id=\"T_96c33_row0_col1\" class=\"data row0 col1\" >5</td>\n",
       "      <td id=\"T_96c33_row0_col2\" class=\"data row0 col2\" >4</td>\n",
       "      <td id=\"T_96c33_row0_col3\" class=\"data row0 col3\" >1</td>\n",
       "    </tr>\n",
       "    <tr>\n",
       "      <th id=\"T_96c33_level0_row1\" class=\"row_heading level0 row1\" >Germany</th>\n",
       "      <td id=\"T_96c33_row1_col0\" class=\"data row1 col0\" >5</td>\n",
       "      <td id=\"T_96c33_row1_col1\" class=\"data row1 col1\" >4</td>\n",
       "      <td id=\"T_96c33_row1_col2\" class=\"data row1 col2\" >3</td>\n",
       "      <td id=\"T_96c33_row1_col3\" class=\"data row1 col3\" >1</td>\n",
       "    </tr>\n",
       "    <tr>\n",
       "      <th id=\"T_96c33_level0_row2\" class=\"row_heading level0 row2\" >Hungary</th>\n",
       "      <td id=\"T_96c33_row2_col0\" class=\"data row2 col0\" >4</td>\n",
       "      <td id=\"T_96c33_row2_col1\" class=\"data row2 col1\" >6</td>\n",
       "      <td id=\"T_96c33_row2_col2\" class=\"data row2 col2\" >6</td>\n",
       "      <td id=\"T_96c33_row2_col3\" class=\"data row2 col3\" >0</td>\n",
       "    </tr>\n",
       "    <tr>\n",
       "      <th id=\"T_96c33_level0_row3\" class=\"row_heading level0 row3\" >Scotland</th>\n",
       "      <td id=\"T_96c33_row3_col0\" class=\"data row3 col0\" >1</td>\n",
       "      <td id=\"T_96c33_row3_col1\" class=\"data row3 col1\" >5</td>\n",
       "      <td id=\"T_96c33_row3_col2\" class=\"data row3 col2\" >5</td>\n",
       "      <td id=\"T_96c33_row3_col3\" class=\"data row3 col3\" >0</td>\n",
       "    </tr>\n",
       "  </tbody>\n",
       "</table>\n"
      ],
      "text/plain": [
       "<pandas.io.formats.style.Styler at 0x187380f5c50>"
      ]
     },
     "metadata": {},
     "output_type": "display_data"
    },
    {
     "data": {
      "text/html": [
       "<style type=\"text/css\">\n",
       "#T_e6a74_row0_col0, #T_e6a74_row0_col1, #T_e6a74_row0_col2, #T_e6a74_row0_col3, #T_e6a74_row1_col0, #T_e6a74_row1_col1, #T_e6a74_row1_col2, #T_e6a74_row1_col3, #T_e6a74_row2_col0, #T_e6a74_row2_col1, #T_e6a74_row2_col2, #T_e6a74_row2_col3 {\n",
       "  background-color: lightgreen;\n",
       "}\n",
       "</style>\n",
       "<table id=\"T_e6a74\">\n",
       "  <thead>\n",
       "    <tr>\n",
       "      <th class=\"blank level0\" >&nbsp;</th>\n",
       "      <th id=\"T_e6a74_level0_col0\" class=\"col_heading level0 col0\" >Points</th>\n",
       "      <th id=\"T_e6a74_level0_col1\" class=\"col_heading level0 col1\" >GF</th>\n",
       "      <th id=\"T_e6a74_level0_col2\" class=\"col_heading level0 col2\" >GA</th>\n",
       "      <th id=\"T_e6a74_level0_col3\" class=\"col_heading level0 col3\" >SG</th>\n",
       "    </tr>\n",
       "  </thead>\n",
       "  <tbody>\n",
       "    <tr>\n",
       "      <th id=\"T_e6a74_level0_row0\" class=\"row_heading level0 row0\" >Croatia</th>\n",
       "      <td id=\"T_e6a74_row0_col0\" class=\"data row0 col0\" >9</td>\n",
       "      <td id=\"T_e6a74_row0_col1\" class=\"data row0 col1\" >5</td>\n",
       "      <td id=\"T_e6a74_row0_col2\" class=\"data row0 col2\" >4</td>\n",
       "      <td id=\"T_e6a74_row0_col3\" class=\"data row0 col3\" >1</td>\n",
       "    </tr>\n",
       "    <tr>\n",
       "      <th id=\"T_e6a74_level0_row1\" class=\"row_heading level0 row1\" >Italy</th>\n",
       "      <td id=\"T_e6a74_row1_col0\" class=\"data row1 col0\" >4</td>\n",
       "      <td id=\"T_e6a74_row1_col1\" class=\"data row1 col1\" >6</td>\n",
       "      <td id=\"T_e6a74_row1_col2\" class=\"data row1 col2\" >5</td>\n",
       "      <td id=\"T_e6a74_row1_col3\" class=\"data row1 col3\" >1</td>\n",
       "    </tr>\n",
       "    <tr>\n",
       "      <th id=\"T_e6a74_level0_row2\" class=\"row_heading level0 row2\" >Spain</th>\n",
       "      <td id=\"T_e6a74_row2_col0\" class=\"data row2 col0\" >4</td>\n",
       "      <td id=\"T_e6a74_row2_col1\" class=\"data row2 col1\" >8</td>\n",
       "      <td id=\"T_e6a74_row2_col2\" class=\"data row2 col2\" >8</td>\n",
       "      <td id=\"T_e6a74_row2_col3\" class=\"data row2 col3\" >0</td>\n",
       "    </tr>\n",
       "    <tr>\n",
       "      <th id=\"T_e6a74_level0_row3\" class=\"row_heading level0 row3\" >Albania</th>\n",
       "      <td id=\"T_e6a74_row3_col0\" class=\"data row3 col0\" >0</td>\n",
       "      <td id=\"T_e6a74_row3_col1\" class=\"data row3 col1\" >6</td>\n",
       "      <td id=\"T_e6a74_row3_col2\" class=\"data row3 col2\" >7</td>\n",
       "      <td id=\"T_e6a74_row3_col3\" class=\"data row3 col3\" >-1</td>\n",
       "    </tr>\n",
       "  </tbody>\n",
       "</table>\n"
      ],
      "text/plain": [
       "<pandas.io.formats.style.Styler at 0x187380f5c50>"
      ]
     },
     "metadata": {},
     "output_type": "display_data"
    },
    {
     "data": {
      "text/html": [
       "<style type=\"text/css\">\n",
       "#T_6301b_row0_col0, #T_6301b_row0_col1, #T_6301b_row0_col2, #T_6301b_row0_col3, #T_6301b_row1_col0, #T_6301b_row1_col1, #T_6301b_row1_col2, #T_6301b_row1_col3, #T_6301b_row2_col0, #T_6301b_row2_col1, #T_6301b_row2_col2, #T_6301b_row2_col3 {\n",
       "  background-color: lightgreen;\n",
       "}\n",
       "</style>\n",
       "<table id=\"T_6301b\">\n",
       "  <thead>\n",
       "    <tr>\n",
       "      <th class=\"blank level0\" >&nbsp;</th>\n",
       "      <th id=\"T_6301b_level0_col0\" class=\"col_heading level0 col0\" >Points</th>\n",
       "      <th id=\"T_6301b_level0_col1\" class=\"col_heading level0 col1\" >GF</th>\n",
       "      <th id=\"T_6301b_level0_col2\" class=\"col_heading level0 col2\" >GA</th>\n",
       "      <th id=\"T_6301b_level0_col3\" class=\"col_heading level0 col3\" >SG</th>\n",
       "    </tr>\n",
       "  </thead>\n",
       "  <tbody>\n",
       "    <tr>\n",
       "      <th id=\"T_6301b_level0_row0\" class=\"row_heading level0 row0\" >England</th>\n",
       "      <td id=\"T_6301b_row0_col0\" class=\"data row0 col0\" >9</td>\n",
       "      <td id=\"T_6301b_row0_col1\" class=\"data row0 col1\" >5</td>\n",
       "      <td id=\"T_6301b_row0_col2\" class=\"data row0 col2\" >5</td>\n",
       "      <td id=\"T_6301b_row0_col3\" class=\"data row0 col3\" >0</td>\n",
       "    </tr>\n",
       "    <tr>\n",
       "      <th id=\"T_6301b_level0_row1\" class=\"row_heading level0 row1\" >Serbia</th>\n",
       "      <td id=\"T_6301b_row1_col0\" class=\"data row1 col0\" >4</td>\n",
       "      <td id=\"T_6301b_row1_col1\" class=\"data row1 col1\" >5</td>\n",
       "      <td id=\"T_6301b_row1_col2\" class=\"data row1 col2\" >5</td>\n",
       "      <td id=\"T_6301b_row1_col3\" class=\"data row1 col3\" >0</td>\n",
       "    </tr>\n",
       "    <tr>\n",
       "      <th id=\"T_6301b_level0_row2\" class=\"row_heading level0 row2\" >Denmark</th>\n",
       "      <td id=\"T_6301b_row2_col0\" class=\"data row2 col0\" >4</td>\n",
       "      <td id=\"T_6301b_row2_col1\" class=\"data row2 col1\" >4</td>\n",
       "      <td id=\"T_6301b_row2_col2\" class=\"data row2 col2\" >4</td>\n",
       "      <td id=\"T_6301b_row2_col3\" class=\"data row2 col3\" >0</td>\n",
       "    </tr>\n",
       "    <tr>\n",
       "      <th id=\"T_6301b_level0_row3\" class=\"row_heading level0 row3\" >Slovenia</th>\n",
       "      <td id=\"T_6301b_row3_col0\" class=\"data row3 col0\" >0</td>\n",
       "      <td id=\"T_6301b_row3_col1\" class=\"data row3 col1\" >6</td>\n",
       "      <td id=\"T_6301b_row3_col2\" class=\"data row3 col2\" >6</td>\n",
       "      <td id=\"T_6301b_row3_col3\" class=\"data row3 col3\" >0</td>\n",
       "    </tr>\n",
       "  </tbody>\n",
       "</table>\n"
      ],
      "text/plain": [
       "<pandas.io.formats.style.Styler at 0x18737f66e10>"
      ]
     },
     "metadata": {},
     "output_type": "display_data"
    },
    {
     "data": {
      "text/html": [
       "<style type=\"text/css\">\n",
       "#T_a2ad5_row0_col0, #T_a2ad5_row0_col1, #T_a2ad5_row0_col2, #T_a2ad5_row0_col3, #T_a2ad5_row1_col0, #T_a2ad5_row1_col1, #T_a2ad5_row1_col2, #T_a2ad5_row1_col3 {\n",
       "  background-color: lightgreen;\n",
       "}\n",
       "</style>\n",
       "<table id=\"T_a2ad5\">\n",
       "  <thead>\n",
       "    <tr>\n",
       "      <th class=\"blank level0\" >&nbsp;</th>\n",
       "      <th id=\"T_a2ad5_level0_col0\" class=\"col_heading level0 col0\" >Points</th>\n",
       "      <th id=\"T_a2ad5_level0_col1\" class=\"col_heading level0 col1\" >GF</th>\n",
       "      <th id=\"T_a2ad5_level0_col2\" class=\"col_heading level0 col2\" >GA</th>\n",
       "      <th id=\"T_a2ad5_level0_col3\" class=\"col_heading level0 col3\" >SG</th>\n",
       "    </tr>\n",
       "  </thead>\n",
       "  <tbody>\n",
       "    <tr>\n",
       "      <th id=\"T_a2ad5_level0_row0\" class=\"row_heading level0 row0\" >Netherlands</th>\n",
       "      <td id=\"T_a2ad5_row0_col0\" class=\"data row0 col0\" >9</td>\n",
       "      <td id=\"T_a2ad5_row0_col1\" class=\"data row0 col1\" >4</td>\n",
       "      <td id=\"T_a2ad5_row0_col2\" class=\"data row0 col2\" >4</td>\n",
       "      <td id=\"T_a2ad5_row0_col3\" class=\"data row0 col3\" >0</td>\n",
       "    </tr>\n",
       "    <tr>\n",
       "      <th id=\"T_a2ad5_level0_row1\" class=\"row_heading level0 row1\" >France</th>\n",
       "      <td id=\"T_a2ad5_row1_col0\" class=\"data row1 col0\" >6</td>\n",
       "      <td id=\"T_a2ad5_row1_col1\" class=\"data row1 col1\" >5</td>\n",
       "      <td id=\"T_a2ad5_row1_col2\" class=\"data row1 col2\" >5</td>\n",
       "      <td id=\"T_a2ad5_row1_col3\" class=\"data row1 col3\" >0</td>\n",
       "    </tr>\n",
       "    <tr>\n",
       "      <th id=\"T_a2ad5_level0_row2\" class=\"row_heading level0 row2\" >Poland</th>\n",
       "      <td id=\"T_a2ad5_row2_col0\" class=\"data row2 col0\" >1</td>\n",
       "      <td id=\"T_a2ad5_row2_col1\" class=\"data row2 col1\" >6</td>\n",
       "      <td id=\"T_a2ad5_row2_col2\" class=\"data row2 col2\" >6</td>\n",
       "      <td id=\"T_a2ad5_row2_col3\" class=\"data row2 col3\" >0</td>\n",
       "    </tr>\n",
       "    <tr>\n",
       "      <th id=\"T_a2ad5_level0_row3\" class=\"row_heading level0 row3\" >Austria</th>\n",
       "      <td id=\"T_a2ad5_row3_col0\" class=\"data row3 col0\" >1</td>\n",
       "      <td id=\"T_a2ad5_row3_col1\" class=\"data row3 col1\" >5</td>\n",
       "      <td id=\"T_a2ad5_row3_col2\" class=\"data row3 col2\" >5</td>\n",
       "      <td id=\"T_a2ad5_row3_col3\" class=\"data row3 col3\" >0</td>\n",
       "    </tr>\n",
       "  </tbody>\n",
       "</table>\n"
      ],
      "text/plain": [
       "<pandas.io.formats.style.Styler at 0x18738093a10>"
      ]
     },
     "metadata": {},
     "output_type": "display_data"
    },
    {
     "data": {
      "text/html": [
       "<style type=\"text/css\">\n",
       "#T_8752b_row0_col0, #T_8752b_row0_col1, #T_8752b_row0_col2, #T_8752b_row0_col3, #T_8752b_row1_col0, #T_8752b_row1_col1, #T_8752b_row1_col2, #T_8752b_row1_col3 {\n",
       "  background-color: lightgreen;\n",
       "}\n",
       "</style>\n",
       "<table id=\"T_8752b\">\n",
       "  <thead>\n",
       "    <tr>\n",
       "      <th class=\"blank level0\" >&nbsp;</th>\n",
       "      <th id=\"T_8752b_level0_col0\" class=\"col_heading level0 col0\" >Points</th>\n",
       "      <th id=\"T_8752b_level0_col1\" class=\"col_heading level0 col1\" >GF</th>\n",
       "      <th id=\"T_8752b_level0_col2\" class=\"col_heading level0 col2\" >GA</th>\n",
       "      <th id=\"T_8752b_level0_col3\" class=\"col_heading level0 col3\" >SG</th>\n",
       "    </tr>\n",
       "  </thead>\n",
       "  <tbody>\n",
       "    <tr>\n",
       "      <th id=\"T_8752b_level0_row0\" class=\"row_heading level0 row0\" >Belgium</th>\n",
       "      <td id=\"T_8752b_row0_col0\" class=\"data row0 col0\" >9</td>\n",
       "      <td id=\"T_8752b_row0_col1\" class=\"data row0 col1\" >6</td>\n",
       "      <td id=\"T_8752b_row0_col2\" class=\"data row0 col2\" >6</td>\n",
       "      <td id=\"T_8752b_row0_col3\" class=\"data row0 col3\" >0</td>\n",
       "    </tr>\n",
       "    <tr>\n",
       "      <th id=\"T_8752b_level0_row1\" class=\"row_heading level0 row1\" >Ukraine</th>\n",
       "      <td id=\"T_8752b_row1_col0\" class=\"data row1 col0\" >6</td>\n",
       "      <td id=\"T_8752b_row1_col1\" class=\"data row1 col1\" >5</td>\n",
       "      <td id=\"T_8752b_row1_col2\" class=\"data row1 col2\" >5</td>\n",
       "      <td id=\"T_8752b_row1_col3\" class=\"data row1 col3\" >0</td>\n",
       "    </tr>\n",
       "    <tr>\n",
       "      <th id=\"T_8752b_level0_row2\" class=\"row_heading level0 row2\" >Romania</th>\n",
       "      <td id=\"T_8752b_row2_col0\" class=\"data row2 col0\" >1</td>\n",
       "      <td id=\"T_8752b_row2_col1\" class=\"data row2 col1\" >5</td>\n",
       "      <td id=\"T_8752b_row2_col2\" class=\"data row2 col2\" >5</td>\n",
       "      <td id=\"T_8752b_row2_col3\" class=\"data row2 col3\" >0</td>\n",
       "    </tr>\n",
       "    <tr>\n",
       "      <th id=\"T_8752b_level0_row3\" class=\"row_heading level0 row3\" >Slovakia</th>\n",
       "      <td id=\"T_8752b_row3_col0\" class=\"data row3 col0\" >1</td>\n",
       "      <td id=\"T_8752b_row3_col1\" class=\"data row3 col1\" >4</td>\n",
       "      <td id=\"T_8752b_row3_col2\" class=\"data row3 col2\" >4</td>\n",
       "      <td id=\"T_8752b_row3_col3\" class=\"data row3 col3\" >0</td>\n",
       "    </tr>\n",
       "  </tbody>\n",
       "</table>\n"
      ],
      "text/plain": [
       "<pandas.io.formats.style.Styler at 0x1873809dad0>"
      ]
     },
     "metadata": {},
     "output_type": "display_data"
    },
    {
     "data": {
      "text/html": [
       "<style type=\"text/css\">\n",
       "#T_7f7da_row0_col0, #T_7f7da_row0_col1, #T_7f7da_row0_col2, #T_7f7da_row0_col3, #T_7f7da_row1_col0, #T_7f7da_row1_col1, #T_7f7da_row1_col2, #T_7f7da_row1_col3, #T_7f7da_row2_col0, #T_7f7da_row2_col1, #T_7f7da_row2_col2, #T_7f7da_row2_col3 {\n",
       "  background-color: lightgreen;\n",
       "}\n",
       "</style>\n",
       "<table id=\"T_7f7da\">\n",
       "  <thead>\n",
       "    <tr>\n",
       "      <th class=\"blank level0\" >&nbsp;</th>\n",
       "      <th id=\"T_7f7da_level0_col0\" class=\"col_heading level0 col0\" >Points</th>\n",
       "      <th id=\"T_7f7da_level0_col1\" class=\"col_heading level0 col1\" >GF</th>\n",
       "      <th id=\"T_7f7da_level0_col2\" class=\"col_heading level0 col2\" >GA</th>\n",
       "      <th id=\"T_7f7da_level0_col3\" class=\"col_heading level0 col3\" >SG</th>\n",
       "    </tr>\n",
       "  </thead>\n",
       "  <tbody>\n",
       "    <tr>\n",
       "      <th id=\"T_7f7da_level0_row0\" class=\"row_heading level0 row0\" >Portugal</th>\n",
       "      <td id=\"T_7f7da_row0_col0\" class=\"data row0 col0\" >9</td>\n",
       "      <td id=\"T_7f7da_row0_col1\" class=\"data row0 col1\" >6</td>\n",
       "      <td id=\"T_7f7da_row0_col2\" class=\"data row0 col2\" >6</td>\n",
       "      <td id=\"T_7f7da_row0_col3\" class=\"data row0 col3\" >0</td>\n",
       "    </tr>\n",
       "    <tr>\n",
       "      <th id=\"T_7f7da_level0_row1\" class=\"row_heading level0 row1\" >Turkey</th>\n",
       "      <td id=\"T_7f7da_row1_col0\" class=\"data row1 col0\" >4</td>\n",
       "      <td id=\"T_7f7da_row1_col1\" class=\"data row1 col1\" >6</td>\n",
       "      <td id=\"T_7f7da_row1_col2\" class=\"data row1 col2\" >6</td>\n",
       "      <td id=\"T_7f7da_row1_col3\" class=\"data row1 col3\" >0</td>\n",
       "    </tr>\n",
       "    <tr>\n",
       "      <th id=\"T_7f7da_level0_row2\" class=\"row_heading level0 row2\" >Czech Republic</th>\n",
       "      <td id=\"T_7f7da_row2_col0\" class=\"data row2 col0\" >4</td>\n",
       "      <td id=\"T_7f7da_row2_col1\" class=\"data row2 col1\" >5</td>\n",
       "      <td id=\"T_7f7da_row2_col2\" class=\"data row2 col2\" >5</td>\n",
       "      <td id=\"T_7f7da_row2_col3\" class=\"data row2 col3\" >0</td>\n",
       "    </tr>\n",
       "    <tr>\n",
       "      <th id=\"T_7f7da_level0_row3\" class=\"row_heading level0 row3\" >Georgia</th>\n",
       "      <td id=\"T_7f7da_row3_col0\" class=\"data row3 col0\" >0</td>\n",
       "      <td id=\"T_7f7da_row3_col1\" class=\"data row3 col1\" >4</td>\n",
       "      <td id=\"T_7f7da_row3_col2\" class=\"data row3 col2\" >5</td>\n",
       "      <td id=\"T_7f7da_row3_col3\" class=\"data row3 col3\" >-1</td>\n",
       "    </tr>\n",
       "  </tbody>\n",
       "</table>\n"
      ],
      "text/plain": [
       "<pandas.io.formats.style.Styler at 0x18737f25b90>"
      ]
     },
     "metadata": {},
     "output_type": "display_data"
    }
   ],
   "source": [
    "for g in group_dfs:\n",
    "    if g.index.values[2] in classified:\n",
    "        display(g.style.apply(lambda x: style_clf(x, g, 3), axis=1))\n",
    "    else:\n",
    "        display(g.style.apply(lambda x: style_clf(x, g, 2), axis=1))"
   ]
  },
  {
   "cell_type": "code",
   "execution_count": 43,
   "id": "70f96336",
   "metadata": {},
   "outputs": [
    {
     "data": {
      "text/html": [
       "<style type=\"text/css\">\n",
       "#T_b1513_row0_col0, #T_b1513_row0_col1, #T_b1513_row0_col2, #T_b1513_row0_col3, #T_b1513_row1_col0, #T_b1513_row1_col1, #T_b1513_row1_col2, #T_b1513_row1_col3, #T_b1513_row2_col0, #T_b1513_row2_col1, #T_b1513_row2_col2, #T_b1513_row2_col3, #T_b1513_row3_col0, #T_b1513_row3_col1, #T_b1513_row3_col2, #T_b1513_row3_col3 {\n",
       "  background-color: lightgreen;\n",
       "}\n",
       "</style>\n",
       "<table id=\"T_b1513\">\n",
       "  <thead>\n",
       "    <tr>\n",
       "      <th class=\"blank level0\" >&nbsp;</th>\n",
       "      <th id=\"T_b1513_level0_col0\" class=\"col_heading level0 col0\" >Points</th>\n",
       "      <th id=\"T_b1513_level0_col1\" class=\"col_heading level0 col1\" >GF</th>\n",
       "      <th id=\"T_b1513_level0_col2\" class=\"col_heading level0 col2\" >GA</th>\n",
       "      <th id=\"T_b1513_level0_col3\" class=\"col_heading level0 col3\" >SG</th>\n",
       "    </tr>\n",
       "  </thead>\n",
       "  <tbody>\n",
       "    <tr>\n",
       "      <th id=\"T_b1513_level0_row0\" class=\"row_heading level0 row0\" >Germany</th>\n",
       "      <td id=\"T_b1513_row0_col0\" class=\"data row0 col0\" >5</td>\n",
       "      <td id=\"T_b1513_row0_col1\" class=\"data row0 col1\" >3</td>\n",
       "      <td id=\"T_b1513_row0_col2\" class=\"data row0 col2\" >3</td>\n",
       "      <td id=\"T_b1513_row0_col3\" class=\"data row0 col3\" >0</td>\n",
       "    </tr>\n",
       "    <tr>\n",
       "      <th id=\"T_b1513_level0_row1\" class=\"row_heading level0 row1\" >Italy</th>\n",
       "      <td id=\"T_b1513_row1_col0\" class=\"data row1 col0\" >4</td>\n",
       "      <td id=\"T_b1513_row1_col1\" class=\"data row1 col1\" >6</td>\n",
       "      <td id=\"T_b1513_row1_col2\" class=\"data row1 col2\" >4</td>\n",
       "      <td id=\"T_b1513_row1_col3\" class=\"data row1 col3\" >2</td>\n",
       "    </tr>\n",
       "    <tr>\n",
       "      <th id=\"T_b1513_level0_row2\" class=\"row_heading level0 row2\" >Turkey</th>\n",
       "      <td id=\"T_b1513_row2_col0\" class=\"data row2 col0\" >3</td>\n",
       "      <td id=\"T_b1513_row2_col1\" class=\"data row2 col1\" >4</td>\n",
       "      <td id=\"T_b1513_row2_col2\" class=\"data row2 col2\" >4</td>\n",
       "      <td id=\"T_b1513_row2_col3\" class=\"data row2 col3\" >0</td>\n",
       "    </tr>\n",
       "    <tr>\n",
       "      <th id=\"T_b1513_level0_row3\" class=\"row_heading level0 row3\" >Serbia</th>\n",
       "      <td id=\"T_b1513_row3_col0\" class=\"data row3 col0\" >3</td>\n",
       "      <td id=\"T_b1513_row3_col1\" class=\"data row3 col1\" >3</td>\n",
       "      <td id=\"T_b1513_row3_col2\" class=\"data row3 col2\" >3</td>\n",
       "      <td id=\"T_b1513_row3_col3\" class=\"data row3 col3\" >0</td>\n",
       "    </tr>\n",
       "    <tr>\n",
       "      <th id=\"T_b1513_level0_row4\" class=\"row_heading level0 row4\" >Slovakia</th>\n",
       "      <td id=\"T_b1513_row4_col0\" class=\"data row4 col0\" >3</td>\n",
       "      <td id=\"T_b1513_row4_col1\" class=\"data row4 col1\" >3</td>\n",
       "      <td id=\"T_b1513_row4_col2\" class=\"data row4 col2\" >3</td>\n",
       "      <td id=\"T_b1513_row4_col3\" class=\"data row4 col3\" >0</td>\n",
       "    </tr>\n",
       "    <tr>\n",
       "      <th id=\"T_b1513_level0_row5\" class=\"row_heading level0 row5\" >Poland</th>\n",
       "      <td id=\"T_b1513_row5_col0\" class=\"data row5 col0\" >1</td>\n",
       "      <td id=\"T_b1513_row5_col1\" class=\"data row5 col1\" >6</td>\n",
       "      <td id=\"T_b1513_row5_col2\" class=\"data row5 col2\" >6</td>\n",
       "      <td id=\"T_b1513_row5_col3\" class=\"data row5 col3\" >0</td>\n",
       "    </tr>\n",
       "  </tbody>\n",
       "</table>\n"
      ],
      "text/plain": [
       "<pandas.io.formats.style.Styler at 0x2cb88c13010>"
      ]
     },
     "execution_count": 43,
     "metadata": {},
     "output_type": "execute_result"
    }
   ],
   "source": [
    "thirds.style.apply(lambda x: style_clf(x, thirds, 4), axis=1)"
   ]
  },
  {
   "cell_type": "code",
   "execution_count": null,
   "id": "51fd8345",
   "metadata": {},
   "outputs": [],
   "source": []
  },
  {
   "cell_type": "code",
   "execution_count": 49,
   "id": "ee225e3d",
   "metadata": {},
   "outputs": [],
   "source": [
    "combs = pd.read_html(\"https://en.wikipedia.org/wiki/UEFA_Euro_2024_knockout_stage\")[0]"
   ]
  },
  {
   "cell_type": "code",
   "execution_count": 50,
   "id": "cf63e6ad",
   "metadata": {},
   "outputs": [],
   "source": [
    "combs = combs.dropna(how='all')\n",
    "combs.columns = ['A', 'B', 'C', 'D', 'E', 'F', '1B', '1C', '1E', '1F', 'drop']\n",
    "combs.drop('drop', axis=1, inplace=True)"
   ]
  },
  {
   "cell_type": "code",
   "execution_count": 54,
   "id": "c72129af",
   "metadata": {},
   "outputs": [],
   "source": [
    "third_comb = ['A', 'B', 'E', 'F']"
   ]
  },
  {
   "cell_type": "code",
   "execution_count": 55,
   "id": "65571501",
   "metadata": {},
   "outputs": [],
   "source": [
    "third_seconds = combs.dropna(subset=third_comb).values[0][6:]"
   ]
  },
  {
   "cell_type": "code",
   "execution_count": 56,
   "id": "58b450a1",
   "metadata": {},
   "outputs": [],
   "source": [
    "fixed_seconds = ['2C', '2E', '2F', '2B']"
   ]
  },
  {
   "cell_type": "code",
   "execution_count": null,
   "id": "ad05fb7b",
   "metadata": {},
   "outputs": [],
   "source": []
  },
  {
   "cell_type": "code",
   "execution_count": null,
   "id": "bf965699",
   "metadata": {},
   "outputs": [],
   "source": []
  },
  {
   "cell_type": "code",
   "execution_count": 85,
   "id": "22707772",
   "metadata": {},
   "outputs": [],
   "source": [
    "seconds = []\n",
    "for i in range(0, 8):\n",
    "    if i%2 == 0:\n",
    "        seconds.append(third_seconds[i//2])\n",
    "    else:\n",
    "        seconds.append(fixed_seconds[i//2])"
   ]
  },
  {
   "cell_type": "code",
   "execution_count": 86,
   "id": "b896efe6",
   "metadata": {},
   "outputs": [],
   "source": [
    "firsts = ['1B', '1A', '1F', '2D', '1E', '1D', '1C', '2A']"
   ]
  },
  {
   "cell_type": "code",
   "execution_count": 87,
   "id": "0c50ddcc",
   "metadata": {},
   "outputs": [
    {
     "data": {
      "text/plain": [
       "['3E', '2C', '3F', '2E', '3B', '2F', '3A', '2B']"
      ]
     },
     "execution_count": 87,
     "metadata": {},
     "output_type": "execute_result"
    }
   ],
   "source": [
    "seconds"
   ]
  },
  {
   "cell_type": "code",
   "execution_count": 88,
   "id": "b4e72706",
   "metadata": {},
   "outputs": [],
   "source": [
    "def letter_to_number(letter):\n",
    "    letter = letter.lower()  # Convert to lowercase to handle both cases\n",
    "    return ord(letter) - ord('a')"
   ]
  },
  {
   "cell_type": "code",
   "execution_count": 89,
   "id": "bd77312f",
   "metadata": {},
   "outputs": [],
   "source": [
    "duels = [] \n",
    "for f, s in zip(firsts, seconds):\n",
    "    pos, grp = int(f[0]), letter_to_number(f[1])\n",
    "    first = group_dfs[grp].head(pos).tail(1).index.values[0]\n",
    "    \n",
    "    pos, grp = int(s[0]), letter_to_number(s[1])\n",
    "    second = group_dfs[grp].head(pos).tail(1).index.values[0]\n",
    "    \n",
    "    duels.append([first, second])"
   ]
  },
  {
   "cell_type": "code",
   "execution_count": 90,
   "id": "3cbd0359",
   "metadata": {},
   "outputs": [],
   "source": [
    "playoffs = {\"Round of 16\": [], \"Quarter-Final\": [], \"Semi-Final\": [], \"Final\": []}"
   ]
  },
  {
   "cell_type": "code",
   "execution_count": 91,
   "id": "4a0c9b97",
   "metadata": {},
   "outputs": [],
   "source": [
    "#playoffs['Round of 16'] = duels"
   ]
  },
  {
   "cell_type": "code",
   "execution_count": null,
   "id": "835dbabf",
   "metadata": {},
   "outputs": [],
   "source": []
  },
  {
   "cell_type": "code",
   "execution_count": null,
   "id": "486d718e",
   "metadata": {},
   "outputs": [],
   "source": []
  },
  {
   "cell_type": "code",
   "execution_count": 92,
   "id": "8fe87bb2",
   "metadata": {},
   "outputs": [],
   "source": [
    "def sim_game(t1, t2):\n",
    "    if 'Germany' in home or 'Germany' in away:\n",
    "        h = find_team_features_v2(t1, t2, neutral = False)\n",
    "        a = find_team_features_v2(t2, t1, neutral = False)\n",
    "    else:\n",
    "        h = find_team_features_v2(t1, t2, neutral = True)\n",
    "        a = find_team_features_v2(t2, t1, neutral = True)\n",
    "\n",
    "    xg_h = md.predict([h])[0]\n",
    "    xg_a = md.predict([a])[0]\n",
    "\n",
    "    poisson_probs_h = poisson.pmf(np.arange(0, 10), xg_h)\n",
    "    poisson_probs_a = poisson.pmf(np.arange(0, 10), xg_a)\n",
    "    \n",
    "    hw, draw, aw, g1, g2 = find_probs(poisson_probs_h, poisson_probs_a)\n",
    "    \n",
    "    return hw, draw, aw"
   ]
  },
  {
   "cell_type": "code",
   "execution_count": 93,
   "id": "fcd07bc3",
   "metadata": {},
   "outputs": [],
   "source": [
    "#sim_game(t2, t1)"
   ]
  },
  {
   "cell_type": "code",
   "execution_count": null,
   "id": "862bbaee",
   "metadata": {},
   "outputs": [],
   "source": []
  },
  {
   "cell_type": "code",
   "execution_count": null,
   "id": "69e58b67",
   "metadata": {},
   "outputs": [],
   "source": []
  },
  {
   "cell_type": "code",
   "execution_count": 94,
   "id": "9c6f226c",
   "metadata": {},
   "outputs": [
    {
     "name": "stdout",
     "output_type": "stream",
     "text": [
      "Spain Wins: 63.50%\n",
      "Draw: 20.88%\n",
      "Romania Wins: 15.62%\n",
      "------------------------------------------\n",
      "Germany Wins: 32.10%\n",
      "Draw: 24.20%\n",
      "Denmark Wins: 43.71%\n",
      "------------------------------------------\n",
      "Portugal Wins: 68.56%\n",
      "Draw: 17.76%\n",
      "Turkey Wins: 13.67%\n",
      "------------------------------------------\n",
      "Netherlands Wins: 61.97%\n",
      "Draw: 20.65%\n",
      "Ukraine Wins: 17.38%\n",
      "------------------------------------------\n",
      "Belgium Wins: 43.57%\n",
      "Draw: 24.44%\n",
      "Croatia Wins: 31.99%\n",
      "------------------------------------------\n",
      "France Wins: 68.78%\n",
      "Draw: 18.38%\n",
      "Czech Republic Wins: 12.82%\n",
      "------------------------------------------\n",
      "England Wins: 54.43%\n",
      "Draw: 23.28%\n",
      "Switzerland Wins: 22.29%\n",
      "------------------------------------------\n",
      "Hungary Wins: 23.11%\n",
      "Draw: 22.74%\n",
      "Italy Wins: 54.15%\n",
      "------------------------------------------\n",
      "Spain Wins: 47.13%\n",
      "Draw: 25.76%\n",
      "Denmark Wins: 27.11%\n",
      "------------------------------------------\n",
      "Portugal Wins: 39.79%\n",
      "Draw: 23.80%\n",
      "Netherlands Wins: 36.41%\n",
      "------------------------------------------\n",
      "Belgium Wins: 30.61%\n",
      "Draw: 24.04%\n",
      "France Wins: 45.34%\n",
      "------------------------------------------\n",
      "England Wins: 41.27%\n",
      "Draw: 24.73%\n",
      "Italy Wins: 34.00%\n",
      "------------------------------------------\n",
      "Spain Wins: 35.63%\n",
      "Draw: 24.07%\n",
      "Portugal Wins: 40.29%\n",
      "------------------------------------------\n",
      "France Wins: 43.92%\n",
      "Draw: 24.26%\n",
      "England Wins: 31.82%\n",
      "------------------------------------------\n",
      "Portugal Wins: 35.81%\n",
      "Draw: 23.01%\n",
      "France Wins: 41.17%\n",
      "------------------------------------------\n"
     ]
    }
   ],
   "source": [
    "for phase in playoffs.keys():\n",
    "    playoffs[phase] = duels\n",
    "    next_phase = []\n",
    "    for i in range(len(playoffs[phase])):\n",
    "        game = playoffs[phase][i]\n",
    "        t1, t2 = game[0], game[1]\n",
    "        \n",
    "        hw, draw, aw = sim_game(t1, t2)\n",
    "        #a2, d2, h2 = sim_game(t2, t1)\n",
    "        \n",
    "        #hw = (h1+h2)/2\n",
    "        #draw = (d1+d2)/2\n",
    "        #aw = (a1+a2)/2\n",
    "        \n",
    "        if max([hw, aw]) == hw:\n",
    "            passed = t1\n",
    "        else:\n",
    "            passed = t2\n",
    "        \n",
    "        print(f\"{t1} Wins: {hw:.2%}\")\n",
    "        print(f\"Draw: {draw:.2%}\")\n",
    "        print(f\"{t2} Wins: {aw:.2%}\")\n",
    "        #print(f\"most prob result {t1} {g1} - {g2} {t2}\")\n",
    "    \n",
    "        playoffs[phase][i].append([hw, aw])\n",
    "\n",
    "        print(\"------------------------------------------\")\n",
    "        \n",
    "        if i%2 == 0:\n",
    "            next_phase.append([passed])\n",
    "        else:\n",
    "            next_phase[i//2].append(passed)\n",
    "    duels = next_phase"
   ]
  },
  {
   "cell_type": "code",
   "execution_count": 95,
   "id": "99124229",
   "metadata": {},
   "outputs": [
    {
     "data": {
      "text/plain": [
       "{'Round of 16': [['Spain',\n",
       "   'Romania',\n",
       "   [0.6349945036507725, 0.15616451814972557]],\n",
       "  ['Germany', 'Denmark', [0.3209678933138913, 0.4370582327245069]],\n",
       "  ['Portugal', 'Turkey', [0.685581861097398, 0.13667965793027603]],\n",
       "  ['Netherlands', 'Ukraine', [0.6197015450985601, 0.17377603216811305]],\n",
       "  ['Belgium', 'Croatia', [0.4356648737790578, 0.3199226345914369]],\n",
       "  ['France', 'Czech Republic', [0.6878036022349604, 0.12824856450758368]],\n",
       "  ['England', 'Switzerland', [0.5443019031538845, 0.22288766375953498]],\n",
       "  ['Hungary', 'Italy', [0.23112068840709285, 0.5414727132441828]]],\n",
       " 'Quarter-Final': [['Spain',\n",
       "   'Denmark',\n",
       "   [0.4712733209302643, 0.27111905389404506]],\n",
       "  ['Portugal', 'Netherlands', [0.39790936184045694, 0.36410070603260714]],\n",
       "  ['Belgium', 'France', [0.30612528842761605, 0.4534239745239253]],\n",
       "  ['England', 'Italy', [0.4126848486350421, 0.33998814714337267]]],\n",
       " 'Semi-Final': [['Spain',\n",
       "   'Portugal',\n",
       "   [0.3563060728740494, 0.4029358472294264]],\n",
       "  ['France', 'England', [0.4391917865748442, 0.31821492633282417]]],\n",
       " 'Final': [['Portugal', 'France', [0.3581279976824155, 0.4117042435874341]]]}"
      ]
     },
     "execution_count": 95,
     "metadata": {},
     "output_type": "execute_result"
    }
   ],
   "source": [
    "playoffs"
   ]
  },
  {
   "cell_type": "code",
   "execution_count": null,
   "id": "c78cecfa",
   "metadata": {},
   "outputs": [],
   "source": []
  },
  {
   "cell_type": "code",
   "execution_count": 96,
   "id": "0dc97c3c",
   "metadata": {},
   "outputs": [],
   "source": [
    "import networkx as nx\n",
    "from networkx.drawing.nx_pydot import graphviz_layout"
   ]
  },
  {
   "cell_type": "code",
   "execution_count": null,
   "id": "49cc2c22",
   "metadata": {},
   "outputs": [],
   "source": []
  },
  {
   "cell_type": "code",
   "execution_count": 97,
   "id": "0b5bcc55",
   "metadata": {},
   "outputs": [
    {
     "data": {
      "image/png": "[encoded data removed]",
      "text/plain": [
       "<Figure size 1500x1000 with 1 Axes>"
      ]
     },
     "metadata": {},
     "output_type": "display_data"
    }
   ],
   "source": [
    "plt.figure(figsize=(15, 10))\n",
    "G = nx.balanced_tree(2, 3)\n",
    "\n",
    "\n",
    "\n",
    "labels = []\n",
    "\n",
    "\n",
    "for p in playoffs.keys():\n",
    "    for game in playoffs[p]:\n",
    "        label = f\"{game[0]}({round(game[2][0], 2)}) \\n {game[1]}({round(game[2][1], 2)})\"\n",
    "        labels.append(label)\n",
    "    \n",
    "labels_dict = {}\n",
    "labels_rev = list(reversed(labels))\n",
    "\n",
    "for l in range(len(list(G.nodes))):\n",
    "    labels_dict[l] = labels_rev[l]\n",
    "\n",
    "\n",
    "pos=graphviz_layout(G, prog='twopi')\n",
    "pos = {int(n): pos[n] for n in pos.keys()}\n",
    "\n",
    "labels_pos = {int(n): (k[0], k[1]-0.08*k[1]) for n,k in pos.items()}\n",
    "center  = pd.DataFrame(pos).mean(axis=1).mean()\n",
    "    \n",
    "\n",
    "\n",
    "nx.draw_networkx(G, pos = pos, with_labels=False, node_color=range(15), edge_color=\"#bbf5bb\", width=10, font_weight='bold',cmap=plt.cm.Greens, node_size=1000)\n",
    "nx.draw_networkx_labels(G, pos = labels_pos, bbox=dict(boxstyle=\"round,pad=0.3\", fc=\"white\", ec=\"black\", lw=.5, alpha=1),labels=labels_dict)\n",
    "texts = [\"Round \\nof 16\", \"Quarter \\n Final\", \"Semi \\n Final\", \"Final\\n\"]\n",
    "pos_y = pos[0][1] + 55\n",
    "for text in reversed(texts):\n",
    "    pos_x = center\n",
    "    pos_y -= 65\n",
    "    plt.text(pos_y, pos_x, text, fontsize = 12)\n",
    "\n",
    "plt.axis('equal')\n",
    "plt.show()"
   ]
  },
  {
   "cell_type": "code",
   "execution_count": null,
   "id": "9f561b3f",
   "metadata": {},
   "outputs": [],
   "source": []
  },
  {
   "cell_type": "code",
   "execution_count": null,
   "id": "c619b8b4",
   "metadata": {},
   "outputs": [],
   "source": []
  },
  {
   "cell_type": "code",
   "execution_count": null,
   "id": "eb129cc0",
   "metadata": {},
   "outputs": [],
   "source": []
  },
  {
   "cell_type": "code",
   "execution_count": null,
   "id": "eade169e",
   "metadata": {},
   "outputs": [],
   "source": []
  },
  {
   "cell_type": "code",
   "execution_count": null,
   "id": "1ed71bd4",
   "metadata": {},
   "outputs": [],
   "source": []
  }
 ],
 "metadata": {
  "kernelspec": {
   "display_name": "Python 3 (ipykernel)",
   "language": "python",
   "name": "python3"
  },
  "language_info": {
   "codemirror_mode": {
    "name": "ipython",
    "version": 3
   },
   "file_extension": ".py",
   "mimetype": "text/x-python",
   "name": "python",
   "nbconvert_exporter": "python",
   "pygments_lexer": "ipython3",
   "version": "3.11.3"
  }
 },
 "nbformat": 4,
 "nbformat_minor": 5
}
