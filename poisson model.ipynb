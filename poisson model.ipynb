{
 "cells": [
  {
   "cell_type": "code",
   "execution_count": 1,
   "id": "874fa6a4",
   "metadata": {},
   "outputs": [],
   "source": [
    "import pickle\n",
    "import pandas as pd\n",
    "import numpy as np\n",
    "import matplotlib.pyplot as plt\n",
    "import seaborn as sns"
   ]
  },
  {
   "cell_type": "code",
   "execution_count": null,
   "id": "b6c7825b",
   "metadata": {},
   "outputs": [],
   "source": []
  },
  {
   "cell_type": "code",
   "execution_count": 2,
   "id": "cb18c8b5",
   "metadata": {},
   "outputs": [],
   "source": [
    "with open('models/rf_home.pkl', 'rb') as f:\n",
    "    home_md = pickle.load(f)\n",
    "\n",
    "with open('models/rf_away.pkl', 'rb') as f:\n",
    "    away_md = pickle.load(f)"
   ]
  },
  {
   "cell_type": "code",
   "execution_count": null,
   "id": "df6ce11e",
   "metadata": {},
   "outputs": [],
   "source": []
  },
  {
   "cell_type": "code",
   "execution_count": 3,
   "id": "5b4e0550",
   "metadata": {},
   "outputs": [],
   "source": [
    "teams_data = pd.read_csv(\"data/new_model.csv\")"
   ]
  },
  {
   "cell_type": "code",
   "execution_count": null,
   "id": "a3cd09c1",
   "metadata": {},
   "outputs": [],
   "source": []
  },
  {
   "cell_type": "code",
   "execution_count": 4,
   "id": "48efa3c9",
   "metadata": {},
   "outputs": [
    {
     "data": {
      "text/plain": [
       "['home_weight_goals',\n",
       " 'away_weight_goals_suf',\n",
       " 'home_weight_points',\n",
       " 'away_weight_points']"
      ]
     },
     "execution_count": 4,
     "metadata": {},
     "output_type": "execute_result"
    }
   ],
   "source": [
    "['away_weight_goals','home_weight_goals_suf','home_weight_points','away_weight_points']\n",
    "[\"home_weight_goals\", \"away_weight_goals_suf\", 'home_weight_points','away_weight_points']"
   ]
  },
  {
   "cell_type": "code",
   "execution_count": null,
   "id": "4016e554",
   "metadata": {},
   "outputs": [],
   "source": []
  },
  {
   "cell_type": "code",
   "execution_count": 5,
   "id": "843c2ce7",
   "metadata": {},
   "outputs": [],
   "source": [
    "def find_team_features(home, away):\n",
    "    home_infos = teams_data[(teams_data.home_team == home) | (teams_data.away_team == home)].tail(1)\n",
    "    if home_infos.home_team.values[0] == home:\n",
    "        home_goals_scored = home_infos[\"home_goals_mean\"].values[0]\n",
    "        home_goals_suf = home_infos[\"home_goals_suf_mean\"].values[0]\n",
    "        home_points_made = home_infos[\"home_game_points_mean\"].values[0]\n",
    "        home_rank = home_infos[\"rank_home\"].values[0]\n",
    "    else:\n",
    "        home_goals_scored = home_infos[\"away_goals_mean\"].values[0]\n",
    "        home_goals_suf = home_infos[\"away_goals_suf_mean\"].values[0]\n",
    "        home_points_made = home_infos[\"away_game_points_mean\"].values[0]\n",
    "        home_rank = home_infos[\"rank_away\"].values[0]\n",
    "        \n",
    "    \n",
    "    away_infos = teams_data[(teams_data.home_team == away) | (teams_data.away_team == away)].tail(1)\n",
    "    if away_infos.home_team.values[0] == away:\n",
    "        away_goals_scored = away_infos[\"home_goals_mean\"].values[0]\n",
    "        away_goals_suf = away_infos[\"home_goals_suf_mean\"].values[0]\n",
    "        away_points_made = away_infos[\"home_game_points_mean\"].values[0]\n",
    "        away_rank = away_infos[\"rank_home\"].values[0]\n",
    "    else:\n",
    "        away_goals_scored = away_infos[\"away_goals_mean\"].values[0]\n",
    "        away_goals_suf = away_infos[\"away_goals_suf_mean\"].values[0]\n",
    "        away_points_made = away_infos[\"away_game_points_mean\"].values[0]\n",
    "        away_rank = away_infos[\"rank_away\"].values[0]\n",
    "\n",
    "    #print(home_rank, away_rank)\n",
    "    rank_dif = home_rank - away_rank\n",
    "    ht_features = [\n",
    "        home_goals_scored*rank_dif,\n",
    "        away_goals_suf*rank_dif,\n",
    "        home_points_made*rank_dif,\n",
    "        away_points_made*rank_dif\n",
    "    ]\n",
    "    \n",
    "    at_features = [\n",
    "        away_goals_scored*rank_dif,\n",
    "        home_goals_suf*rank_dif,\n",
    "        home_points_made*rank_dif,\n",
    "        away_points_made*rank_dif\n",
    "    ]\n",
    "    return ht_features, at_features"
   ]
  },
  {
   "cell_type": "code",
   "execution_count": 6,
   "id": "9ec019cd",
   "metadata": {},
   "outputs": [],
   "source": [
    "g, s = find_team_features(\"Germany\", \"Scotland\")"
   ]
  },
  {
   "cell_type": "code",
   "execution_count": 7,
   "id": "e07b9679",
   "metadata": {},
   "outputs": [],
   "source": [
    "xg_g = home_md.predict([g])[0]"
   ]
  },
  {
   "cell_type": "code",
   "execution_count": 8,
   "id": "f36309a4",
   "metadata": {},
   "outputs": [],
   "source": [
    "xg_s = away_md.predict([s])[0]"
   ]
  },
  {
   "cell_type": "code",
   "execution_count": 9,
   "id": "a32611cb",
   "metadata": {},
   "outputs": [],
   "source": [
    "from scipy.stats import poisson"
   ]
  },
  {
   "cell_type": "code",
   "execution_count": null,
   "id": "89f2d862",
   "metadata": {},
   "outputs": [],
   "source": []
  },
  {
   "cell_type": "code",
   "execution_count": 10,
   "id": "2929d069",
   "metadata": {},
   "outputs": [],
   "source": [
    "poisson_probs_g = poisson.pmf(np.arange(0, 10), xg_g)\n",
    "poisson_probs_s = poisson.pmf(np.arange(0, 10), xg_s)"
   ]
  },
  {
   "cell_type": "code",
   "execution_count": null,
   "id": "dcea5fb4",
   "metadata": {},
   "outputs": [],
   "source": []
  },
  {
   "cell_type": "code",
   "execution_count": 11,
   "id": "25efbae3",
   "metadata": {},
   "outputs": [],
   "source": [
    "def plot_poisson(x, poisson_probs, team):\n",
    "    plt.figure(figsize=(10, 6))\n",
    "    plt.bar(x, poisson_probs, alpha=0.6, color='blue')\n",
    "    plt.plot(x, poisson_probs, 'bo', ms=8)\n",
    "    plt.title(f'Poisson Distribution - {team}')\n",
    "    plt.xlabel('Number of Events')\n",
    "    plt.ylabel('Probability')\n",
    "    plt.grid(True)\n",
    "    plt.show()"
   ]
  },
  {
   "cell_type": "code",
   "execution_count": 12,
   "id": "4924892a",
   "metadata": {},
   "outputs": [
    {
     "data": {
      "image/png": "[encoded data removed]",
      "text/plain": [
       "<Figure size 1000x600 with 1 Axes>"
      ]
     },
     "metadata": {},
     "output_type": "display_data"
    }
   ],
   "source": [
    "plot_poisson(np.arange(0,10), poisson_probs_g, \"Germany\")"
   ]
  },
  {
   "cell_type": "code",
   "execution_count": 13,
   "id": "3d5eece9",
   "metadata": {},
   "outputs": [
    {
     "data": {
      "image/png": "[encoded data removed]",
      "text/plain": [
       "<Figure size 1000x600 with 1 Axes>"
      ]
     },
     "metadata": {},
     "output_type": "display_data"
    }
   ],
   "source": [
    "plot_poisson(np.arange(0,10), poisson_probs_s, \"Scotland\")"
   ]
  },
  {
   "cell_type": "code",
   "execution_count": 14,
   "id": "63437329",
   "metadata": {},
   "outputs": [],
   "source": [
    "res_track = np.zeros((10,10))\n",
    "\n",
    "for i in range(len(poisson_probs_g)):\n",
    "    for j in range(len(poisson_probs_s)):\n",
    "        res_prob = poisson_probs_g[i]*poisson_probs_s[j]\n",
    "        res_track[j][i] = res_prob"
   ]
  },
  {
   "cell_type": "code",
   "execution_count": 15,
   "id": "5c1b343f",
   "metadata": {},
   "outputs": [
    {
     "data": {
      "text/plain": [
       "array([0.10562859, 0.23743471, 0.26685598, 0.19994863, 0.11236244,\n",
       "       0.05051425, 0.01892454, 0.00607701, 0.00170751, 0.00042646])"
      ]
     },
     "execution_count": 15,
     "metadata": {},
     "output_type": "execute_result"
    }
   ],
   "source": [
    "poisson_probs_g"
   ]
  },
  {
   "cell_type": "code",
   "execution_count": 16,
   "id": "8c2de72d",
   "metadata": {},
   "outputs": [
    {
     "data": {
      "text/plain": [
       "array([3.45664070e-01, 3.67194749e-01, 1.95033264e-01, 6.90604904e-02,\n",
       "       1.83405303e-02, 3.89658458e-03, 6.89882424e-04, 1.04693390e-04,\n",
       "       1.39018148e-05, 1.64085881e-06])"
      ]
     },
     "execution_count": 16,
     "metadata": {},
     "output_type": "execute_result"
    }
   ],
   "source": [
    "poisson_probs_s"
   ]
  },
  {
   "cell_type": "code",
   "execution_count": 17,
   "id": "1e853e32",
   "metadata": {},
   "outputs": [],
   "source": [
    "res_df = pd.DataFrame(res_track)"
   ]
  },
  {
   "cell_type": "code",
   "execution_count": 18,
   "id": "c78836f4",
   "metadata": {},
   "outputs": [],
   "source": [
    "res_df.columns = [\"Germany \" + str(a) for a in res_df.columns] \n",
    "res_df.index = [\"Scotland \" + str(a) for a in res_df.index] "
   ]
  },
  {
   "cell_type": "code",
   "execution_count": null,
   "id": "54bc5c73",
   "metadata": {},
   "outputs": [],
   "source": []
  },
  {
   "cell_type": "code",
   "execution_count": 19,
   "id": "9b535ada",
   "metadata": {},
   "outputs": [],
   "source": [
    "def style_specific_cells(x):\n",
    "    color = ''\n",
    "    \n",
    "    df_styled = pd.DataFrame('', index=x.index, columns=x.columns)\n",
    "    for i in range(x.shape[0]):\n",
    "        for j in range(x.shape[1]):\n",
    "            if i == j:\n",
    "                color = 'background-color: yellow'\n",
    "            elif j > i:\n",
    "                color = 'background-color: lightgreen'\n",
    "            else:\n",
    "                color = 'background-color: lightcoral'\n",
    "            df_styled.iloc[i, j] = color\n",
    "    return df_styled\n"
   ]
  },
  {
   "cell_type": "code",
   "execution_count": 20,
   "id": "a86da518",
   "metadata": {},
   "outputs": [
    {
     "data": {
      "text/html": [
       "<style type=\"text/css\">\n",
       "#T_38b51_row0_col0, #T_38b51_row1_col1, #T_38b51_row2_col2, #T_38b51_row3_col3, #T_38b51_row4_col4, #T_38b51_row5_col5, #T_38b51_row6_col6, #T_38b51_row7_col7, #T_38b51_row8_col8, #T_38b51_row9_col9 {\n",
       "  background-color: yellow;\n",
       "}\n",
       "#T_38b51_row0_col1, #T_38b51_row0_col2, #T_38b51_row0_col3, #T_38b51_row0_col4, #T_38b51_row0_col5, #T_38b51_row0_col6, #T_38b51_row0_col7, #T_38b51_row0_col8, #T_38b51_row0_col9, #T_38b51_row1_col2, #T_38b51_row1_col3, #T_38b51_row1_col4, #T_38b51_row1_col5, #T_38b51_row1_col6, #T_38b51_row1_col7, #T_38b51_row1_col8, #T_38b51_row1_col9, #T_38b51_row2_col3, #T_38b51_row2_col4, #T_38b51_row2_col5, #T_38b51_row2_col6, #T_38b51_row2_col7, #T_38b51_row2_col8, #T_38b51_row2_col9, #T_38b51_row3_col4, #T_38b51_row3_col5, #T_38b51_row3_col6, #T_38b51_row3_col7, #T_38b51_row3_col8, #T_38b51_row3_col9, #T_38b51_row4_col5, #T_38b51_row4_col6, #T_38b51_row4_col7, #T_38b51_row4_col8, #T_38b51_row4_col9, #T_38b51_row5_col6, #T_38b51_row5_col7, #T_38b51_row5_col8, #T_38b51_row5_col9, #T_38b51_row6_col7, #T_38b51_row6_col8, #T_38b51_row6_col9, #T_38b51_row7_col8, #T_38b51_row7_col9, #T_38b51_row8_col9 {\n",
       "  background-color: lightgreen;\n",
       "}\n",
       "#T_38b51_row1_col0, #T_38b51_row2_col0, #T_38b51_row2_col1, #T_38b51_row3_col0, #T_38b51_row3_col1, #T_38b51_row3_col2, #T_38b51_row4_col0, #T_38b51_row4_col1, #T_38b51_row4_col2, #T_38b51_row4_col3, #T_38b51_row5_col0, #T_38b51_row5_col1, #T_38b51_row5_col2, #T_38b51_row5_col3, #T_38b51_row5_col4, #T_38b51_row6_col0, #T_38b51_row6_col1, #T_38b51_row6_col2, #T_38b51_row6_col3, #T_38b51_row6_col4, #T_38b51_row6_col5, #T_38b51_row7_col0, #T_38b51_row7_col1, #T_38b51_row7_col2, #T_38b51_row7_col3, #T_38b51_row7_col4, #T_38b51_row7_col5, #T_38b51_row7_col6, #T_38b51_row8_col0, #T_38b51_row8_col1, #T_38b51_row8_col2, #T_38b51_row8_col3, #T_38b51_row8_col4, #T_38b51_row8_col5, #T_38b51_row8_col6, #T_38b51_row8_col7, #T_38b51_row9_col0, #T_38b51_row9_col1, #T_38b51_row9_col2, #T_38b51_row9_col3, #T_38b51_row9_col4, #T_38b51_row9_col5, #T_38b51_row9_col6, #T_38b51_row9_col7, #T_38b51_row9_col8 {\n",
       "  background-color: lightcoral;\n",
       "}\n",
       "</style>\n",
       "<table id=\"T_38b51\">\n",
       "  <thead>\n",
       "    <tr>\n",
       "      <th class=\"blank level0\" >&nbsp;</th>\n",
       "      <th id=\"T_38b51_level0_col0\" class=\"col_heading level0 col0\" >Germany 0</th>\n",
       "      <th id=\"T_38b51_level0_col1\" class=\"col_heading level0 col1\" >Germany 1</th>\n",
       "      <th id=\"T_38b51_level0_col2\" class=\"col_heading level0 col2\" >Germany 2</th>\n",
       "      <th id=\"T_38b51_level0_col3\" class=\"col_heading level0 col3\" >Germany 3</th>\n",
       "      <th id=\"T_38b51_level0_col4\" class=\"col_heading level0 col4\" >Germany 4</th>\n",
       "      <th id=\"T_38b51_level0_col5\" class=\"col_heading level0 col5\" >Germany 5</th>\n",
       "      <th id=\"T_38b51_level0_col6\" class=\"col_heading level0 col6\" >Germany 6</th>\n",
       "      <th id=\"T_38b51_level0_col7\" class=\"col_heading level0 col7\" >Germany 7</th>\n",
       "      <th id=\"T_38b51_level0_col8\" class=\"col_heading level0 col8\" >Germany 8</th>\n",
       "      <th id=\"T_38b51_level0_col9\" class=\"col_heading level0 col9\" >Germany 9</th>\n",
       "    </tr>\n",
       "  </thead>\n",
       "  <tbody>\n",
       "    <tr>\n",
       "      <th id=\"T_38b51_level0_row0\" class=\"row_heading level0 row0\" >Scotland 0</th>\n",
       "      <td id=\"T_38b51_row0_col0\" class=\"data row0 col0\" >3.65%</td>\n",
       "      <td id=\"T_38b51_row0_col1\" class=\"data row0 col1\" >8.21%</td>\n",
       "      <td id=\"T_38b51_row0_col2\" class=\"data row0 col2\" >9.22%</td>\n",
       "      <td id=\"T_38b51_row0_col3\" class=\"data row0 col3\" >6.91%</td>\n",
       "      <td id=\"T_38b51_row0_col4\" class=\"data row0 col4\" >3.88%</td>\n",
       "      <td id=\"T_38b51_row0_col5\" class=\"data row0 col5\" >1.75%</td>\n",
       "      <td id=\"T_38b51_row0_col6\" class=\"data row0 col6\" >0.65%</td>\n",
       "      <td id=\"T_38b51_row0_col7\" class=\"data row0 col7\" >0.21%</td>\n",
       "      <td id=\"T_38b51_row0_col8\" class=\"data row0 col8\" >0.06%</td>\n",
       "      <td id=\"T_38b51_row0_col9\" class=\"data row0 col9\" >0.01%</td>\n",
       "    </tr>\n",
       "    <tr>\n",
       "      <th id=\"T_38b51_level0_row1\" class=\"row_heading level0 row1\" >Scotland 1</th>\n",
       "      <td id=\"T_38b51_row1_col0\" class=\"data row1 col0\" >3.88%</td>\n",
       "      <td id=\"T_38b51_row1_col1\" class=\"data row1 col1\" >8.72%</td>\n",
       "      <td id=\"T_38b51_row1_col2\" class=\"data row1 col2\" >9.80%</td>\n",
       "      <td id=\"T_38b51_row1_col3\" class=\"data row1 col3\" >7.34%</td>\n",
       "      <td id=\"T_38b51_row1_col4\" class=\"data row1 col4\" >4.13%</td>\n",
       "      <td id=\"T_38b51_row1_col5\" class=\"data row1 col5\" >1.85%</td>\n",
       "      <td id=\"T_38b51_row1_col6\" class=\"data row1 col6\" >0.69%</td>\n",
       "      <td id=\"T_38b51_row1_col7\" class=\"data row1 col7\" >0.22%</td>\n",
       "      <td id=\"T_38b51_row1_col8\" class=\"data row1 col8\" >0.06%</td>\n",
       "      <td id=\"T_38b51_row1_col9\" class=\"data row1 col9\" >0.02%</td>\n",
       "    </tr>\n",
       "    <tr>\n",
       "      <th id=\"T_38b51_level0_row2\" class=\"row_heading level0 row2\" >Scotland 2</th>\n",
       "      <td id=\"T_38b51_row2_col0\" class=\"data row2 col0\" >2.06%</td>\n",
       "      <td id=\"T_38b51_row2_col1\" class=\"data row2 col1\" >4.63%</td>\n",
       "      <td id=\"T_38b51_row2_col2\" class=\"data row2 col2\" >5.20%</td>\n",
       "      <td id=\"T_38b51_row2_col3\" class=\"data row2 col3\" >3.90%</td>\n",
       "      <td id=\"T_38b51_row2_col4\" class=\"data row2 col4\" >2.19%</td>\n",
       "      <td id=\"T_38b51_row2_col5\" class=\"data row2 col5\" >0.99%</td>\n",
       "      <td id=\"T_38b51_row2_col6\" class=\"data row2 col6\" >0.37%</td>\n",
       "      <td id=\"T_38b51_row2_col7\" class=\"data row2 col7\" >0.12%</td>\n",
       "      <td id=\"T_38b51_row2_col8\" class=\"data row2 col8\" >0.03%</td>\n",
       "      <td id=\"T_38b51_row2_col9\" class=\"data row2 col9\" >0.01%</td>\n",
       "    </tr>\n",
       "    <tr>\n",
       "      <th id=\"T_38b51_level0_row3\" class=\"row_heading level0 row3\" >Scotland 3</th>\n",
       "      <td id=\"T_38b51_row3_col0\" class=\"data row3 col0\" >0.73%</td>\n",
       "      <td id=\"T_38b51_row3_col1\" class=\"data row3 col1\" >1.64%</td>\n",
       "      <td id=\"T_38b51_row3_col2\" class=\"data row3 col2\" >1.84%</td>\n",
       "      <td id=\"T_38b51_row3_col3\" class=\"data row3 col3\" >1.38%</td>\n",
       "      <td id=\"T_38b51_row3_col4\" class=\"data row3 col4\" >0.78%</td>\n",
       "      <td id=\"T_38b51_row3_col5\" class=\"data row3 col5\" >0.35%</td>\n",
       "      <td id=\"T_38b51_row3_col6\" class=\"data row3 col6\" >0.13%</td>\n",
       "      <td id=\"T_38b51_row3_col7\" class=\"data row3 col7\" >0.04%</td>\n",
       "      <td id=\"T_38b51_row3_col8\" class=\"data row3 col8\" >0.01%</td>\n",
       "      <td id=\"T_38b51_row3_col9\" class=\"data row3 col9\" >0.00%</td>\n",
       "    </tr>\n",
       "    <tr>\n",
       "      <th id=\"T_38b51_level0_row4\" class=\"row_heading level0 row4\" >Scotland 4</th>\n",
       "      <td id=\"T_38b51_row4_col0\" class=\"data row4 col0\" >0.19%</td>\n",
       "      <td id=\"T_38b51_row4_col1\" class=\"data row4 col1\" >0.44%</td>\n",
       "      <td id=\"T_38b51_row4_col2\" class=\"data row4 col2\" >0.49%</td>\n",
       "      <td id=\"T_38b51_row4_col3\" class=\"data row4 col3\" >0.37%</td>\n",
       "      <td id=\"T_38b51_row4_col4\" class=\"data row4 col4\" >0.21%</td>\n",
       "      <td id=\"T_38b51_row4_col5\" class=\"data row4 col5\" >0.09%</td>\n",
       "      <td id=\"T_38b51_row4_col6\" class=\"data row4 col6\" >0.03%</td>\n",
       "      <td id=\"T_38b51_row4_col7\" class=\"data row4 col7\" >0.01%</td>\n",
       "      <td id=\"T_38b51_row4_col8\" class=\"data row4 col8\" >0.00%</td>\n",
       "      <td id=\"T_38b51_row4_col9\" class=\"data row4 col9\" >0.00%</td>\n",
       "    </tr>\n",
       "    <tr>\n",
       "      <th id=\"T_38b51_level0_row5\" class=\"row_heading level0 row5\" >Scotland 5</th>\n",
       "      <td id=\"T_38b51_row5_col0\" class=\"data row5 col0\" >0.04%</td>\n",
       "      <td id=\"T_38b51_row5_col1\" class=\"data row5 col1\" >0.09%</td>\n",
       "      <td id=\"T_38b51_row5_col2\" class=\"data row5 col2\" >0.10%</td>\n",
       "      <td id=\"T_38b51_row5_col3\" class=\"data row5 col3\" >0.08%</td>\n",
       "      <td id=\"T_38b51_row5_col4\" class=\"data row5 col4\" >0.04%</td>\n",
       "      <td id=\"T_38b51_row5_col5\" class=\"data row5 col5\" >0.02%</td>\n",
       "      <td id=\"T_38b51_row5_col6\" class=\"data row5 col6\" >0.01%</td>\n",
       "      <td id=\"T_38b51_row5_col7\" class=\"data row5 col7\" >0.00%</td>\n",
       "      <td id=\"T_38b51_row5_col8\" class=\"data row5 col8\" >0.00%</td>\n",
       "      <td id=\"T_38b51_row5_col9\" class=\"data row5 col9\" >0.00%</td>\n",
       "    </tr>\n",
       "    <tr>\n",
       "      <th id=\"T_38b51_level0_row6\" class=\"row_heading level0 row6\" >Scotland 6</th>\n",
       "      <td id=\"T_38b51_row6_col0\" class=\"data row6 col0\" >0.01%</td>\n",
       "      <td id=\"T_38b51_row6_col1\" class=\"data row6 col1\" >0.02%</td>\n",
       "      <td id=\"T_38b51_row6_col2\" class=\"data row6 col2\" >0.02%</td>\n",
       "      <td id=\"T_38b51_row6_col3\" class=\"data row6 col3\" >0.01%</td>\n",
       "      <td id=\"T_38b51_row6_col4\" class=\"data row6 col4\" >0.01%</td>\n",
       "      <td id=\"T_38b51_row6_col5\" class=\"data row6 col5\" >0.00%</td>\n",
       "      <td id=\"T_38b51_row6_col6\" class=\"data row6 col6\" >0.00%</td>\n",
       "      <td id=\"T_38b51_row6_col7\" class=\"data row6 col7\" >0.00%</td>\n",
       "      <td id=\"T_38b51_row6_col8\" class=\"data row6 col8\" >0.00%</td>\n",
       "      <td id=\"T_38b51_row6_col9\" class=\"data row6 col9\" >0.00%</td>\n",
       "    </tr>\n",
       "    <tr>\n",
       "      <th id=\"T_38b51_level0_row7\" class=\"row_heading level0 row7\" >Scotland 7</th>\n",
       "      <td id=\"T_38b51_row7_col0\" class=\"data row7 col0\" >0.00%</td>\n",
       "      <td id=\"T_38b51_row7_col1\" class=\"data row7 col1\" >0.00%</td>\n",
       "      <td id=\"T_38b51_row7_col2\" class=\"data row7 col2\" >0.00%</td>\n",
       "      <td id=\"T_38b51_row7_col3\" class=\"data row7 col3\" >0.00%</td>\n",
       "      <td id=\"T_38b51_row7_col4\" class=\"data row7 col4\" >0.00%</td>\n",
       "      <td id=\"T_38b51_row7_col5\" class=\"data row7 col5\" >0.00%</td>\n",
       "      <td id=\"T_38b51_row7_col6\" class=\"data row7 col6\" >0.00%</td>\n",
       "      <td id=\"T_38b51_row7_col7\" class=\"data row7 col7\" >0.00%</td>\n",
       "      <td id=\"T_38b51_row7_col8\" class=\"data row7 col8\" >0.00%</td>\n",
       "      <td id=\"T_38b51_row7_col9\" class=\"data row7 col9\" >0.00%</td>\n",
       "    </tr>\n",
       "    <tr>\n",
       "      <th id=\"T_38b51_level0_row8\" class=\"row_heading level0 row8\" >Scotland 8</th>\n",
       "      <td id=\"T_38b51_row8_col0\" class=\"data row8 col0\" >0.00%</td>\n",
       "      <td id=\"T_38b51_row8_col1\" class=\"data row8 col1\" >0.00%</td>\n",
       "      <td id=\"T_38b51_row8_col2\" class=\"data row8 col2\" >0.00%</td>\n",
       "      <td id=\"T_38b51_row8_col3\" class=\"data row8 col3\" >0.00%</td>\n",
       "      <td id=\"T_38b51_row8_col4\" class=\"data row8 col4\" >0.00%</td>\n",
       "      <td id=\"T_38b51_row8_col5\" class=\"data row8 col5\" >0.00%</td>\n",
       "      <td id=\"T_38b51_row8_col6\" class=\"data row8 col6\" >0.00%</td>\n",
       "      <td id=\"T_38b51_row8_col7\" class=\"data row8 col7\" >0.00%</td>\n",
       "      <td id=\"T_38b51_row8_col8\" class=\"data row8 col8\" >0.00%</td>\n",
       "      <td id=\"T_38b51_row8_col9\" class=\"data row8 col9\" >0.00%</td>\n",
       "    </tr>\n",
       "    <tr>\n",
       "      <th id=\"T_38b51_level0_row9\" class=\"row_heading level0 row9\" >Scotland 9</th>\n",
       "      <td id=\"T_38b51_row9_col0\" class=\"data row9 col0\" >0.00%</td>\n",
       "      <td id=\"T_38b51_row9_col1\" class=\"data row9 col1\" >0.00%</td>\n",
       "      <td id=\"T_38b51_row9_col2\" class=\"data row9 col2\" >0.00%</td>\n",
       "      <td id=\"T_38b51_row9_col3\" class=\"data row9 col3\" >0.00%</td>\n",
       "      <td id=\"T_38b51_row9_col4\" class=\"data row9 col4\" >0.00%</td>\n",
       "      <td id=\"T_38b51_row9_col5\" class=\"data row9 col5\" >0.00%</td>\n",
       "      <td id=\"T_38b51_row9_col6\" class=\"data row9 col6\" >0.00%</td>\n",
       "      <td id=\"T_38b51_row9_col7\" class=\"data row9 col7\" >0.00%</td>\n",
       "      <td id=\"T_38b51_row9_col8\" class=\"data row9 col8\" >0.00%</td>\n",
       "      <td id=\"T_38b51_row9_col9\" class=\"data row9 col9\" >0.00%</td>\n",
       "    </tr>\n",
       "  </tbody>\n",
       "</table>\n"
      ],
      "text/plain": [
       "<pandas.io.formats.style.Styler at 0x2096ca68c10>"
      ]
     },
     "execution_count": 20,
     "metadata": {},
     "output_type": "execute_result"
    }
   ],
   "source": [
    "res_df.style.format(\"{:.2%}\").apply(style_specific_cells, axis=None)"
   ]
  },
  {
   "cell_type": "code",
   "execution_count": null,
   "id": "de9b6977",
   "metadata": {},
   "outputs": [],
   "source": []
  },
  {
   "cell_type": "code",
   "execution_count": 21,
   "id": "cea33d96",
   "metadata": {},
   "outputs": [],
   "source": [
    "def find_probs(poisson_home, poisson_away):\n",
    "    home_probs = []\n",
    "    away_probs = []\n",
    "    \n",
    "    draw_probs = []\n",
    "    \n",
    "    for i in range(len(poisson_home)):\n",
    "        for j in range(len(poisson_away)):\n",
    "            res_prob = poisson_home[i]*poisson_away[j]\n",
    "            \n",
    "            if i == j:\n",
    "                draw_probs.append(res_prob)\n",
    "            elif i > j:\n",
    "                home_probs.append(res_prob)\n",
    "            elif j > i:\n",
    "                away_probs.append(res_prob)\n",
    "            #res_track[j][i] = res_prob\n",
    "    \n",
    "    \n",
    "    return sum(home_probs), sum(draw_probs), sum(away_probs), poisson_home.tolist().index(max(poisson_home.tolist())), poisson_away.tolist().index(max(poisson_away.tolist()))"
   ]
  },
  {
   "cell_type": "code",
   "execution_count": 22,
   "id": "410f0797",
   "metadata": {},
   "outputs": [],
   "source": [
    "gw, draw, sw, g1, g2 = find_probs(poisson_probs_g, poisson_probs_s)"
   ]
  },
  {
   "cell_type": "code",
   "execution_count": 23,
   "id": "28017b21",
   "metadata": {},
   "outputs": [
    {
     "name": "stdout",
     "output_type": "stream",
     "text": [
      "Germany Wins: 64.10%\n",
      "Draw: 19.18%\n",
      "Scotland Wins: 16.71%\n"
     ]
    }
   ],
   "source": [
    "print(f\"Germany Wins: {gw:.2%}\")\n",
    "print(f\"Draw: {draw:.2%}\")\n",
    "print(f\"Scotland Wins: {sw:.2%}\")"
   ]
  },
  {
   "cell_type": "code",
   "execution_count": 24,
   "id": "f23161fd",
   "metadata": {},
   "outputs": [
    {
     "data": {
      "text/plain": [
       "(0.641003760747257, 0.1918224649591825, 0.16705370704018138, 2, 1)"
      ]
     },
     "execution_count": 24,
     "metadata": {},
     "output_type": "execute_result"
    }
   ],
   "source": [
    "find_probs(poisson_probs_g, poisson_probs_s)"
   ]
  },
  {
   "cell_type": "code",
   "execution_count": null,
   "id": "2c3240d0",
   "metadata": {},
   "outputs": [],
   "source": []
  },
  {
   "cell_type": "markdown",
   "id": "5bb41974",
   "metadata": {},
   "source": [
    "## Complete sim\n",
    "\n",
    "With the model done, I'll simulate each game in the UEFA Euro to find the most likely results"
   ]
  },
  {
   "cell_type": "code",
   "execution_count": null,
   "id": "aee109ef",
   "metadata": {},
   "outputs": [],
   "source": []
  },
  {
   "cell_type": "code",
   "execution_count": 25,
   "id": "500197f6",
   "metadata": {},
   "outputs": [],
   "source": [
    "euro = pd.read_csv(\"data/euro_matches.csv\")"
   ]
  },
  {
   "cell_type": "code",
   "execution_count": null,
   "id": "6e28e349",
   "metadata": {},
   "outputs": [],
   "source": []
  },
  {
   "cell_type": "code",
   "execution_count": 26,
   "id": "f24b2a14",
   "metadata": {},
   "outputs": [],
   "source": [
    "group_phase = euro.dropna(subset='home_team')"
   ]
  },
  {
   "cell_type": "code",
   "execution_count": 27,
   "id": "d16aa458",
   "metadata": {},
   "outputs": [],
   "source": [
    "r1 = group_phase.head(12).copy()\n",
    "r1[\"Group\"] = ['A', 'A', 'B', 'B', 'C', 'C', 'D', 'D', 'E', 'E', 'F', 'F']"
   ]
  },
  {
   "cell_type": "code",
   "execution_count": 28,
   "id": "e996430f",
   "metadata": {},
   "outputs": [],
   "source": [
    "groups = r1.Group.drop_duplicates().values"
   ]
  },
  {
   "cell_type": "code",
   "execution_count": null,
   "id": "268aa720",
   "metadata": {},
   "outputs": [],
   "source": []
  },
  {
   "cell_type": "code",
   "execution_count": 29,
   "id": "cc3c0034",
   "metadata": {},
   "outputs": [],
   "source": [
    "group_dict = {}\n",
    "for g in groups:\n",
    "    teams1 = r1[r1.Group == g].home_team.values.tolist()\n",
    "    teams2 = r1[r1.Group == g].away_team.values.tolist()\n",
    "    teams = teams1+teams2\n",
    "    group_dict[g] = {a: [0, 0, 0] for a in teams}"
   ]
  },
  {
   "cell_type": "code",
   "execution_count": null,
   "id": "d1e6bdac",
   "metadata": {},
   "outputs": [],
   "source": []
  },
  {
   "cell_type": "code",
   "execution_count": null,
   "id": "aa4c76da",
   "metadata": {},
   "outputs": [],
   "source": []
  },
  {
   "cell_type": "code",
   "execution_count": 30,
   "id": "174ff281",
   "metadata": {},
   "outputs": [
    {
     "name": "stderr",
     "output_type": "stream",
     "text": [
      "C:\\Users\\sergi\\AppData\\Local\\Temp\\ipykernel_20128\\2649806274.py:1: SettingWithCopyWarning: \n",
      "A value is trying to be set on a copy of a slice from a DataFrame.\n",
      "Try using .loc[row_indexer,col_indexer] = value instead\n",
      "\n",
      "See the caveats in the documentation: https://pandas.pydata.org/pandas-docs/stable/user_guide/indexing.html#returning-a-view-versus-a-copy\n",
      "  group_phase['Group'] = group_phase.home_team.apply(lambda x: r1[r1.home_team == x].Group.values[0] if len(r1[r1.home_team == x])>0 else r1[r1.away_team == x].Group.values[0])\n"
     ]
    }
   ],
   "source": [
    "group_phase['Group'] = group_phase.home_team.apply(lambda x: r1[r1.home_team == x].Group.values[0] if len(r1[r1.home_team == x])>0 else r1[r1.away_team == x].Group.values[0])"
   ]
  },
  {
   "cell_type": "code",
   "execution_count": null,
   "id": "075c4fa9",
   "metadata": {},
   "outputs": [],
   "source": []
  },
  {
   "cell_type": "code",
   "execution_count": null,
   "id": "972fea3c",
   "metadata": {},
   "outputs": [],
   "source": []
  },
  {
   "cell_type": "code",
   "execution_count": 31,
   "id": "c8fb1fdb",
   "metadata": {},
   "outputs": [],
   "source": [
    "from tqdm import tqdm"
   ]
  },
  {
   "cell_type": "code",
   "execution_count": 32,
   "id": "0ee8fe3e",
   "metadata": {
    "scrolled": false
   },
   "outputs": [
    {
     "name": "stdout",
     "output_type": "stream",
     "text": [
      "Germany Wins: 59.10%\n",
      "Draw: 29.18%\n",
      "Scotland Wins: 11.71%\n",
      "most prob result Germany 2 - 1 Scotland\n",
      "------------------------------------------\n",
      "Hungary Wins: 23.83%\n",
      "Draw: 41.32%\n",
      "Switzerland Wins: 34.85%\n",
      "most prob result Hungary 0 - 1 Switzerland\n",
      "------------------------------------------\n",
      "Spain Wins: 49.67%\n",
      "Draw: 34.17%\n",
      "Croatia Wins: 16.16%\n",
      "most prob result Spain 1 - 0 Croatia\n",
      "------------------------------------------\n",
      "Italy Wins: 64.64%\n",
      "Draw: 30.74%\n",
      "Albania Wins: 4.61%\n",
      "most prob result Italy 1 - 0 Albania\n",
      "------------------------------------------\n",
      "Slovenia Wins: 15.48%\n",
      "Draw: 38.52%\n",
      "Denmark Wins: 45.99%\n",
      "most prob result Slovenia 0 - 1 Denmark\n",
      "------------------------------------------\n",
      "Serbia Wins: 20.75%\n",
      "Draw: 37.85%\n",
      "England Wins: 41.40%\n",
      "most prob result Serbia 0 - 1 England\n",
      "------------------------------------------\n",
      "Poland Wins: 12.78%\n",
      "Draw: 36.12%\n",
      "Netherlands Wins: 51.10%\n",
      "most prob result Poland 0 - 1 Netherlands\n",
      "------------------------------------------\n",
      "Austria Wins: 15.58%\n",
      "Draw: 35.86%\n",
      "France Wins: 48.56%\n",
      "most prob result Austria 0 - 1 France\n",
      "------------------------------------------\n",
      "Romania Wins: 32.29%\n",
      "Draw: 43.88%\n",
      "Ukraine Wins: 23.83%\n",
      "most prob result Romania 0 - 0 Ukraine\n",
      "------------------------------------------\n",
      "Belgium Wins: 62.39%\n",
      "Draw: 31.95%\n",
      "Slovakia Wins: 5.65%\n",
      "most prob result Belgium 1 - 0 Slovakia\n",
      "------------------------------------------\n",
      "Turkey Wins: 61.02%\n",
      "Draw: 33.38%\n",
      "Georgia Wins: 5.59%\n",
      "most prob result Turkey 1 - 0 Georgia\n",
      "------------------------------------------\n",
      "Portugal Wins: 67.32%\n",
      "Draw: 28.69%\n",
      "Czech Republic Wins: 3.98%\n",
      "most prob result Portugal 2 - 0 Czech Republic\n",
      "------------------------------------------\n",
      "Germany Wins: 42.47%\n",
      "Draw: 36.86%\n",
      "Hungary Wins: 20.67%\n",
      "most prob result Germany 1 - 0 Hungary\n",
      "------------------------------------------\n",
      "Scotland Wins: 30.07%\n",
      "Draw: 42.58%\n",
      "Switzerland Wins: 27.35%\n",
      "most prob result Scotland 0 - 0 Switzerland\n",
      "------------------------------------------\n",
      "Croatia Wins: 63.52%\n",
      "Draw: 32.38%\n",
      "Albania Wins: 4.10%\n",
      "most prob result Croatia 1 - 0 Albania\n",
      "------------------------------------------\n",
      "Spain Wins: 34.67%\n",
      "Draw: 37.22%\n",
      "Italy Wins: 28.11%\n",
      "most prob result Spain 1 - 1 Italy\n",
      "------------------------------------------\n",
      "Slovenia Wins: 13.80%\n",
      "Draw: 34.72%\n",
      "Serbia Wins: 51.49%\n",
      "most prob result Slovenia 0 - 1 Serbia\n",
      "------------------------------------------\n",
      "Denmark Wins: 13.07%\n",
      "Draw: 32.85%\n",
      "England Wins: 54.07%\n",
      "most prob result Denmark 0 - 1 England\n",
      "------------------------------------------\n",
      "Poland Wins: 38.90%\n",
      "Draw: 36.96%\n",
      "Austria Wins: 24.13%\n",
      "most prob result Poland 1 - 1 Austria\n",
      "------------------------------------------\n",
      "Netherlands Wins: 37.75%\n",
      "Draw: 37.14%\n",
      "France Wins: 25.11%\n",
      "most prob result Netherlands 1 - 1 France\n",
      "------------------------------------------\n",
      "Slovakia Wins: 19.10%\n",
      "Draw: 38.77%\n",
      "Ukraine Wins: 42.12%\n",
      "most prob result Slovakia 0 - 1 Ukraine\n",
      "------------------------------------------\n",
      "Belgium Wins: 65.91%\n",
      "Draw: 30.62%\n",
      "Romania Wins: 3.47%\n",
      "most prob result Belgium 1 - 0 Romania\n",
      "------------------------------------------\n",
      "Georgia Wins: 20.96%\n",
      "Draw: 39.39%\n",
      "Czech Republic Wins: 39.65%\n",
      "most prob result Georgia 0 - 1 Czech Republic\n",
      "------------------------------------------\n",
      "Turkey Wins: 20.01%\n",
      "Draw: 40.29%\n",
      "Portugal Wins: 39.69%\n",
      "most prob result Turkey 0 - 1 Portugal\n",
      "------------------------------------------\n",
      "Germany Wins: 43.91%\n",
      "Draw: 35.17%\n",
      "Switzerland Wins: 20.92%\n",
      "most prob result Germany 1 - 1 Switzerland\n",
      "------------------------------------------\n",
      "Scotland Wins: 27.55%\n",
      "Draw: 39.23%\n",
      "Hungary Wins: 33.21%\n",
      "most prob result Scotland 1 - 1 Hungary\n",
      "------------------------------------------\n",
      "Albania Wins: 12.74%\n",
      "Draw: 37.07%\n",
      "Spain Wins: 50.18%\n",
      "most prob result Albania 0 - 1 Spain\n",
      "------------------------------------------\n",
      "Croatia Wins: 42.06%\n",
      "Draw: 36.14%\n",
      "Italy Wins: 21.80%\n",
      "most prob result Croatia 1 - 1 Italy\n",
      "------------------------------------------\n",
      "England Wins: 63.21%\n",
      "Draw: 29.55%\n",
      "Slovenia Wins: 7.24%\n",
      "most prob result England 2 - 0 Slovenia\n",
      "------------------------------------------\n",
      "Denmark Wins: 38.40%\n",
      "Draw: 38.28%\n",
      "Serbia Wins: 23.32%\n",
      "most prob result Denmark 1 - 0 Serbia\n",
      "------------------------------------------\n",
      "Netherlands Wins: 53.58%\n",
      "Draw: 32.70%\n",
      "Austria Wins: 13.72%\n",
      "most prob result Netherlands 1 - 0 Austria\n",
      "------------------------------------------\n",
      "France Wins: 64.13%\n",
      "Draw: 27.50%\n",
      "Poland Wins: 8.35%\n",
      "most prob result France 2 - 0 Poland\n",
      "------------------------------------------\n",
      "Slovakia Wins: 31.20%\n",
      "Draw: 38.25%\n",
      "Romania Wins: 30.56%\n",
      "most prob result Slovakia 1 - 1 Romania\n",
      "------------------------------------------\n",
      "Ukraine Wins: 13.37%\n",
      "Draw: 35.07%\n",
      "Belgium Wins: 51.56%\n",
      "most prob result Ukraine 0 - 1 Belgium\n",
      "------------------------------------------\n",
      "Georgia Wins: 1.67%\n",
      "Draw: 26.70%\n",
      "Portugal Wins: 71.63%\n",
      "most prob result Georgia 0 - 2 Portugal\n",
      "------------------------------------------\n",
      "Czech Republic Wins: 31.16%\n",
      "Draw: 38.90%\n",
      "Turkey Wins: 29.94%\n",
      "most prob result Czech Republic 1 - 1 Turkey\n",
      "------------------------------------------\n"
     ]
    }
   ],
   "source": [
    "for i, vals in group_phase.iterrows():\n",
    "    home = vals['home_team']\n",
    "    away = vals['away_team']\n",
    "    \n",
    "    # SIM 1 HOME x AWAY\n",
    "    h, a = find_team_features(home, away)\n",
    "\n",
    "    xg_h = home_md.predict([h])[0]\n",
    "    xg_a = away_md.predict([a])[0]\n",
    "\n",
    "    poisson_probs_h = poisson.pmf(np.arange(0, 10), xg_h)\n",
    "    poisson_probs_a = poisson.pmf(np.arange(0, 10), xg_a)\n",
    "\n",
    "    hw, draw, aw, g1, g2 = find_probs(poisson_probs_h, poisson_probs_a)\n",
    "    hw -= 0.05\n",
    "    draw +=0.1\n",
    "    aw -= 0.05\n",
    "    \n",
    "    if max([hw, draw, aw]) == hw:\n",
    "        home_points=3\n",
    "        away_points=0\n",
    "    elif max([hw, draw, aw]) == aw:\n",
    "        home_points=0\n",
    "        away_points=3\n",
    "    else:\n",
    "        home_points=1\n",
    "        away_points=1\n",
    "    \n",
    "    grp = group_dict[vals['Group']]\n",
    "    \n",
    "    group_dict[vals['Group']][home] = [grp[home][0]+home_points, grp[home][1]+g1, grp[home][2]+g2]\n",
    "    group_dict[vals['Group']][away] = [grp[away][0]+away_points, grp[home][1]+g2, grp[home][2]+g1]\n",
    "\n",
    "    print(f\"{home} Wins: {hw:.2%}\")\n",
    "    print(f\"Draw: {draw:.2%}\")\n",
    "    print(f\"{away} Wins: {aw:.2%}\")\n",
    "    print(f\"most prob result {home} {g1} - {g2} {away}\")\n",
    "    \n",
    "    \n",
    "    print(\"------------------------------------------\")\n"
   ]
  },
  {
   "cell_type": "code",
   "execution_count": 33,
   "id": "99c45815",
   "metadata": {},
   "outputs": [],
   "source": [
    "group_dfs = []"
   ]
  },
  {
   "cell_type": "code",
   "execution_count": 34,
   "id": "be0b4526",
   "metadata": {},
   "outputs": [],
   "source": [
    "for g in group_dict.keys():\n",
    "    gdf = pd.DataFrame(group_dict[g]).T\n",
    "    \n",
    "    gdf.columns = [\"Points\", \"GF\", \"GA\"]\n",
    "    gdf[\"SG\"] = gdf[\"GF\"] - gdf[\"GA\"]\n",
    "    \n",
    "    gdf = gdf.sort_values([\"Points\", \"SG\", \"GF\", \"GA\"], ascending=False)\n",
    "    group_dfs.append(gdf)"
   ]
  },
  {
   "cell_type": "code",
   "execution_count": null,
   "id": "198a23b2",
   "metadata": {},
   "outputs": [],
   "source": []
  },
  {
   "cell_type": "code",
   "execution_count": 35,
   "id": "4d1a0105",
   "metadata": {},
   "outputs": [],
   "source": [
    "thirds = pd.DataFrame()\n",
    "for g in group_dfs:\n",
    "    thirds = pd.concat([thirds, g.head(3).tail(1)])\n",
    "\n",
    "thirds = thirds.sort_values([\"Points\", \"SG\", \"GF\", \"GA\"], ascending=False)"
   ]
  },
  {
   "cell_type": "code",
   "execution_count": 36,
   "id": "f712065f",
   "metadata": {},
   "outputs": [],
   "source": [
    "classified = thirds.head(4).index.values"
   ]
  },
  {
   "cell_type": "code",
   "execution_count": null,
   "id": "e57ed465",
   "metadata": {},
   "outputs": [],
   "source": []
  },
  {
   "cell_type": "code",
   "execution_count": 37,
   "id": "37b08aab",
   "metadata": {},
   "outputs": [],
   "source": [
    "def style_clf(row, df, n):\n",
    "    if row.name in df.head(n).index.values:\n",
    "        return ['background-color: lightgreen'] * len(row)\n",
    "    else:\n",
    "        return [''] * len(row)"
   ]
  },
  {
   "cell_type": "code",
   "execution_count": null,
   "id": "a28bf923",
   "metadata": {},
   "outputs": [],
   "source": []
  },
  {
   "cell_type": "code",
   "execution_count": null,
   "id": "b48adb1f",
   "metadata": {},
   "outputs": [],
   "source": []
  },
  {
   "cell_type": "code",
   "execution_count": 38,
   "id": "13c0fb89",
   "metadata": {},
   "outputs": [
    {
     "data": {
      "text/html": [
       "<style type=\"text/css\">\n",
       "#T_baf43_row0_col0, #T_baf43_row0_col1, #T_baf43_row0_col2, #T_baf43_row0_col3, #T_baf43_row1_col0, #T_baf43_row1_col1, #T_baf43_row1_col2, #T_baf43_row1_col3 {\n",
       "  background-color: lightgreen;\n",
       "}\n",
       "</style>\n",
       "<table id=\"T_baf43\">\n",
       "  <thead>\n",
       "    <tr>\n",
       "      <th class=\"blank level0\" >&nbsp;</th>\n",
       "      <th id=\"T_baf43_level0_col0\" class=\"col_heading level0 col0\" >Points</th>\n",
       "      <th id=\"T_baf43_level0_col1\" class=\"col_heading level0 col1\" >GF</th>\n",
       "      <th id=\"T_baf43_level0_col2\" class=\"col_heading level0 col2\" >GA</th>\n",
       "      <th id=\"T_baf43_level0_col3\" class=\"col_heading level0 col3\" >SG</th>\n",
       "    </tr>\n",
       "  </thead>\n",
       "  <tbody>\n",
       "    <tr>\n",
       "      <th id=\"T_baf43_level0_row0\" class=\"row_heading level0 row0\" >Germany</th>\n",
       "      <td id=\"T_baf43_row0_col0\" class=\"data row0 col0\" >9</td>\n",
       "      <td id=\"T_baf43_row0_col1\" class=\"data row0 col1\" >4</td>\n",
       "      <td id=\"T_baf43_row0_col2\" class=\"data row0 col2\" >2</td>\n",
       "      <td id=\"T_baf43_row0_col3\" class=\"data row0 col3\" >2</td>\n",
       "    </tr>\n",
       "    <tr>\n",
       "      <th id=\"T_baf43_level0_row1\" class=\"row_heading level0 row1\" >Switzerland</th>\n",
       "      <td id=\"T_baf43_row1_col0\" class=\"data row1 col0\" >2</td>\n",
       "      <td id=\"T_baf43_row1_col1\" class=\"data row1 col1\" >5</td>\n",
       "      <td id=\"T_baf43_row1_col2\" class=\"data row1 col2\" >3</td>\n",
       "      <td id=\"T_baf43_row1_col3\" class=\"data row1 col3\" >2</td>\n",
       "    </tr>\n",
       "    <tr>\n",
       "      <th id=\"T_baf43_level0_row2\" class=\"row_heading level0 row2\" >Hungary</th>\n",
       "      <td id=\"T_baf43_row2_col0\" class=\"data row2 col0\" >2</td>\n",
       "      <td id=\"T_baf43_row2_col1\" class=\"data row2 col1\" >5</td>\n",
       "      <td id=\"T_baf43_row2_col2\" class=\"data row2 col2\" >5</td>\n",
       "      <td id=\"T_baf43_row2_col3\" class=\"data row2 col3\" >0</td>\n",
       "    </tr>\n",
       "    <tr>\n",
       "      <th id=\"T_baf43_level0_row3\" class=\"row_heading level0 row3\" >Scotland</th>\n",
       "      <td id=\"T_baf43_row3_col0\" class=\"data row3 col0\" >2</td>\n",
       "      <td id=\"T_baf43_row3_col1\" class=\"data row3 col1\" >4</td>\n",
       "      <td id=\"T_baf43_row3_col2\" class=\"data row3 col2\" >4</td>\n",
       "      <td id=\"T_baf43_row3_col3\" class=\"data row3 col3\" >0</td>\n",
       "    </tr>\n",
       "  </tbody>\n",
       "</table>\n"
      ],
      "text/plain": [
       "<pandas.io.formats.style.Styler at 0x2096da44290>"
      ]
     },
     "metadata": {},
     "output_type": "display_data"
    },
    {
     "data": {
      "text/html": [
       "<style type=\"text/css\">\n",
       "#T_d516d_row0_col0, #T_d516d_row0_col1, #T_d516d_row0_col2, #T_d516d_row0_col3, #T_d516d_row1_col0, #T_d516d_row1_col1, #T_d516d_row1_col2, #T_d516d_row1_col3, #T_d516d_row2_col0, #T_d516d_row2_col1, #T_d516d_row2_col2, #T_d516d_row2_col3 {\n",
       "  background-color: lightgreen;\n",
       "}\n",
       "</style>\n",
       "<table id=\"T_d516d\">\n",
       "  <thead>\n",
       "    <tr>\n",
       "      <th class=\"blank level0\" >&nbsp;</th>\n",
       "      <th id=\"T_d516d_level0_col0\" class=\"col_heading level0 col0\" >Points</th>\n",
       "      <th id=\"T_d516d_level0_col1\" class=\"col_heading level0 col1\" >GF</th>\n",
       "      <th id=\"T_d516d_level0_col2\" class=\"col_heading level0 col2\" >GA</th>\n",
       "      <th id=\"T_d516d_level0_col3\" class=\"col_heading level0 col3\" >SG</th>\n",
       "    </tr>\n",
       "  </thead>\n",
       "  <tbody>\n",
       "    <tr>\n",
       "      <th id=\"T_d516d_level0_row0\" class=\"row_heading level0 row0\" >Spain</th>\n",
       "      <td id=\"T_d516d_row0_col0\" class=\"data row0 col0\" >7</td>\n",
       "      <td id=\"T_d516d_row0_col1\" class=\"data row0 col1\" >3</td>\n",
       "      <td id=\"T_d516d_row0_col2\" class=\"data row0 col2\" >3</td>\n",
       "      <td id=\"T_d516d_row0_col3\" class=\"data row0 col3\" >0</td>\n",
       "    </tr>\n",
       "    <tr>\n",
       "      <th id=\"T_d516d_level0_row1\" class=\"row_heading level0 row1\" >Croatia</th>\n",
       "      <td id=\"T_d516d_row1_col0\" class=\"data row1 col0\" >6</td>\n",
       "      <td id=\"T_d516d_row1_col1\" class=\"data row1 col1\" >3</td>\n",
       "      <td id=\"T_d516d_row1_col2\" class=\"data row1 col2\" >2</td>\n",
       "      <td id=\"T_d516d_row1_col3\" class=\"data row1 col3\" >1</td>\n",
       "    </tr>\n",
       "    <tr>\n",
       "      <th id=\"T_d516d_level0_row2\" class=\"row_heading level0 row2\" >Italy</th>\n",
       "      <td id=\"T_d516d_row2_col0\" class=\"data row2 col0\" >4</td>\n",
       "      <td id=\"T_d516d_row2_col1\" class=\"data row2 col1\" >4</td>\n",
       "      <td id=\"T_d516d_row2_col2\" class=\"data row2 col2\" >3</td>\n",
       "      <td id=\"T_d516d_row2_col3\" class=\"data row2 col3\" >1</td>\n",
       "    </tr>\n",
       "    <tr>\n",
       "      <th id=\"T_d516d_level0_row3\" class=\"row_heading level0 row3\" >Albania</th>\n",
       "      <td id=\"T_d516d_row3_col0\" class=\"data row3 col0\" >0</td>\n",
       "      <td id=\"T_d516d_row3_col1\" class=\"data row3 col1\" >2</td>\n",
       "      <td id=\"T_d516d_row3_col2\" class=\"data row3 col2\" >3</td>\n",
       "      <td id=\"T_d516d_row3_col3\" class=\"data row3 col3\" >-1</td>\n",
       "    </tr>\n",
       "  </tbody>\n",
       "</table>\n"
      ],
      "text/plain": [
       "<pandas.io.formats.style.Styler at 0x2096caca4d0>"
      ]
     },
     "metadata": {},
     "output_type": "display_data"
    },
    {
     "data": {
      "text/html": [
       "<style type=\"text/css\">\n",
       "#T_4db16_row0_col0, #T_4db16_row0_col1, #T_4db16_row0_col2, #T_4db16_row0_col3, #T_4db16_row1_col0, #T_4db16_row1_col1, #T_4db16_row1_col2, #T_4db16_row1_col3, #T_4db16_row2_col0, #T_4db16_row2_col1, #T_4db16_row2_col2, #T_4db16_row2_col3 {\n",
       "  background-color: lightgreen;\n",
       "}\n",
       "</style>\n",
       "<table id=\"T_4db16\">\n",
       "  <thead>\n",
       "    <tr>\n",
       "      <th class=\"blank level0\" >&nbsp;</th>\n",
       "      <th id=\"T_4db16_level0_col0\" class=\"col_heading level0 col0\" >Points</th>\n",
       "      <th id=\"T_4db16_level0_col1\" class=\"col_heading level0 col1\" >GF</th>\n",
       "      <th id=\"T_4db16_level0_col2\" class=\"col_heading level0 col2\" >GA</th>\n",
       "      <th id=\"T_4db16_level0_col3\" class=\"col_heading level0 col3\" >SG</th>\n",
       "    </tr>\n",
       "  </thead>\n",
       "  <tbody>\n",
       "    <tr>\n",
       "      <th id=\"T_4db16_level0_row0\" class=\"row_heading level0 row0\" >England</th>\n",
       "      <td id=\"T_4db16_row0_col0\" class=\"data row0 col0\" >9</td>\n",
       "      <td id=\"T_4db16_row0_col1\" class=\"data row0 col1\" >4</td>\n",
       "      <td id=\"T_4db16_row0_col2\" class=\"data row0 col2\" >2</td>\n",
       "      <td id=\"T_4db16_row0_col3\" class=\"data row0 col3\" >2</td>\n",
       "    </tr>\n",
       "    <tr>\n",
       "      <th id=\"T_4db16_level0_row1\" class=\"row_heading level0 row1\" >Denmark</th>\n",
       "      <td id=\"T_4db16_row1_col0\" class=\"data row1 col0\" >6</td>\n",
       "      <td id=\"T_4db16_row1_col1\" class=\"data row1 col1\" >2</td>\n",
       "      <td id=\"T_4db16_row1_col2\" class=\"data row1 col2\" >2</td>\n",
       "      <td id=\"T_4db16_row1_col3\" class=\"data row1 col3\" >0</td>\n",
       "    </tr>\n",
       "    <tr>\n",
       "      <th id=\"T_4db16_level0_row2\" class=\"row_heading level0 row2\" >Serbia</th>\n",
       "      <td id=\"T_4db16_row2_col0\" class=\"data row2 col0\" >3</td>\n",
       "      <td id=\"T_4db16_row2_col1\" class=\"data row2 col1\" >2</td>\n",
       "      <td id=\"T_4db16_row2_col2\" class=\"data row2 col2\" >3</td>\n",
       "      <td id=\"T_4db16_row2_col3\" class=\"data row2 col3\" >-1</td>\n",
       "    </tr>\n",
       "    <tr>\n",
       "      <th id=\"T_4db16_level0_row3\" class=\"row_heading level0 row3\" >Slovenia</th>\n",
       "      <td id=\"T_4db16_row3_col0\" class=\"data row3 col0\" >0</td>\n",
       "      <td id=\"T_4db16_row3_col1\" class=\"data row3 col1\" >4</td>\n",
       "      <td id=\"T_4db16_row3_col2\" class=\"data row3 col2\" >4</td>\n",
       "      <td id=\"T_4db16_row3_col3\" class=\"data row3 col3\" >0</td>\n",
       "    </tr>\n",
       "  </tbody>\n",
       "</table>\n"
      ],
      "text/plain": [
       "<pandas.io.formats.style.Styler at 0x2096b8df2d0>"
      ]
     },
     "metadata": {},
     "output_type": "display_data"
    },
    {
     "data": {
      "text/html": [
       "<style type=\"text/css\">\n",
       "#T_806a2_row0_col0, #T_806a2_row0_col1, #T_806a2_row0_col2, #T_806a2_row0_col3, #T_806a2_row1_col0, #T_806a2_row1_col1, #T_806a2_row1_col2, #T_806a2_row1_col3, #T_806a2_row2_col0, #T_806a2_row2_col1, #T_806a2_row2_col2, #T_806a2_row2_col3 {\n",
       "  background-color: lightgreen;\n",
       "}\n",
       "</style>\n",
       "<table id=\"T_806a2\">\n",
       "  <thead>\n",
       "    <tr>\n",
       "      <th class=\"blank level0\" >&nbsp;</th>\n",
       "      <th id=\"T_806a2_level0_col0\" class=\"col_heading level0 col0\" >Points</th>\n",
       "      <th id=\"T_806a2_level0_col1\" class=\"col_heading level0 col1\" >GF</th>\n",
       "      <th id=\"T_806a2_level0_col2\" class=\"col_heading level0 col2\" >GA</th>\n",
       "      <th id=\"T_806a2_level0_col3\" class=\"col_heading level0 col3\" >SG</th>\n",
       "    </tr>\n",
       "  </thead>\n",
       "  <tbody>\n",
       "    <tr>\n",
       "      <th id=\"T_806a2_level0_row0\" class=\"row_heading level0 row0\" >Netherlands</th>\n",
       "      <td id=\"T_806a2_row0_col0\" class=\"data row0 col0\" >9</td>\n",
       "      <td id=\"T_806a2_row0_col1\" class=\"data row0 col1\" >3</td>\n",
       "      <td id=\"T_806a2_row0_col2\" class=\"data row0 col2\" >2</td>\n",
       "      <td id=\"T_806a2_row0_col3\" class=\"data row0 col3\" >1</td>\n",
       "    </tr>\n",
       "    <tr>\n",
       "      <th id=\"T_806a2_level0_row1\" class=\"row_heading level0 row1\" >France</th>\n",
       "      <td id=\"T_806a2_row1_col0\" class=\"data row1 col0\" >6</td>\n",
       "      <td id=\"T_806a2_row1_col1\" class=\"data row1 col1\" >5</td>\n",
       "      <td id=\"T_806a2_row1_col2\" class=\"data row1 col2\" >3</td>\n",
       "      <td id=\"T_806a2_row1_col3\" class=\"data row1 col3\" >2</td>\n",
       "    </tr>\n",
       "    <tr>\n",
       "      <th id=\"T_806a2_level0_row2\" class=\"row_heading level0 row2\" >Poland</th>\n",
       "      <td id=\"T_806a2_row2_col0\" class=\"data row2 col0\" >3</td>\n",
       "      <td id=\"T_806a2_row2_col1\" class=\"data row2 col1\" >5</td>\n",
       "      <td id=\"T_806a2_row2_col2\" class=\"data row2 col2\" >5</td>\n",
       "      <td id=\"T_806a2_row2_col3\" class=\"data row2 col3\" >0</td>\n",
       "    </tr>\n",
       "    <tr>\n",
       "      <th id=\"T_806a2_level0_row3\" class=\"row_heading level0 row3\" >Austria</th>\n",
       "      <td id=\"T_806a2_row3_col0\" class=\"data row3 col0\" >0</td>\n",
       "      <td id=\"T_806a2_row3_col1\" class=\"data row3 col1\" >3</td>\n",
       "      <td id=\"T_806a2_row3_col2\" class=\"data row3 col2\" >3</td>\n",
       "      <td id=\"T_806a2_row3_col3\" class=\"data row3 col3\" >0</td>\n",
       "    </tr>\n",
       "  </tbody>\n",
       "</table>\n"
      ],
      "text/plain": [
       "<pandas.io.formats.style.Styler at 0x2096b8df2d0>"
      ]
     },
     "metadata": {},
     "output_type": "display_data"
    },
    {
     "data": {
      "text/html": [
       "<style type=\"text/css\">\n",
       "#T_79429_row0_col0, #T_79429_row0_col1, #T_79429_row0_col2, #T_79429_row0_col3, #T_79429_row1_col0, #T_79429_row1_col1, #T_79429_row1_col2, #T_79429_row1_col3 {\n",
       "  background-color: lightgreen;\n",
       "}\n",
       "</style>\n",
       "<table id=\"T_79429\">\n",
       "  <thead>\n",
       "    <tr>\n",
       "      <th class=\"blank level0\" >&nbsp;</th>\n",
       "      <th id=\"T_79429_level0_col0\" class=\"col_heading level0 col0\" >Points</th>\n",
       "      <th id=\"T_79429_level0_col1\" class=\"col_heading level0 col1\" >GF</th>\n",
       "      <th id=\"T_79429_level0_col2\" class=\"col_heading level0 col2\" >GA</th>\n",
       "      <th id=\"T_79429_level0_col3\" class=\"col_heading level0 col3\" >SG</th>\n",
       "    </tr>\n",
       "  </thead>\n",
       "  <tbody>\n",
       "    <tr>\n",
       "      <th id=\"T_79429_level0_row0\" class=\"row_heading level0 row0\" >Belgium</th>\n",
       "      <td id=\"T_79429_row0_col0\" class=\"data row0 col0\" >9</td>\n",
       "      <td id=\"T_79429_row0_col1\" class=\"data row0 col1\" >3</td>\n",
       "      <td id=\"T_79429_row0_col2\" class=\"data row0 col2\" >3</td>\n",
       "      <td id=\"T_79429_row0_col3\" class=\"data row0 col3\" >0</td>\n",
       "    </tr>\n",
       "    <tr>\n",
       "      <th id=\"T_79429_level0_row1\" class=\"row_heading level0 row1\" >Ukraine</th>\n",
       "      <td id=\"T_79429_row1_col0\" class=\"data row1 col0\" >4</td>\n",
       "      <td id=\"T_79429_row1_col1\" class=\"data row1 col1\" >2</td>\n",
       "      <td id=\"T_79429_row1_col2\" class=\"data row1 col2\" >3</td>\n",
       "      <td id=\"T_79429_row1_col3\" class=\"data row1 col3\" >-1</td>\n",
       "    </tr>\n",
       "    <tr>\n",
       "      <th id=\"T_79429_level0_row2\" class=\"row_heading level0 row2\" >Romania</th>\n",
       "      <td id=\"T_79429_row2_col0\" class=\"data row2 col0\" >2</td>\n",
       "      <td id=\"T_79429_row2_col1\" class=\"data row2 col1\" >3</td>\n",
       "      <td id=\"T_79429_row2_col2\" class=\"data row2 col2\" >4</td>\n",
       "      <td id=\"T_79429_row2_col3\" class=\"data row2 col3\" >-1</td>\n",
       "    </tr>\n",
       "    <tr>\n",
       "      <th id=\"T_79429_level0_row3\" class=\"row_heading level0 row3\" >Slovakia</th>\n",
       "      <td id=\"T_79429_row3_col0\" class=\"data row3 col0\" >1</td>\n",
       "      <td id=\"T_79429_row3_col1\" class=\"data row3 col1\" >2</td>\n",
       "      <td id=\"T_79429_row3_col2\" class=\"data row3 col2\" >3</td>\n",
       "      <td id=\"T_79429_row3_col3\" class=\"data row3 col3\" >-1</td>\n",
       "    </tr>\n",
       "  </tbody>\n",
       "</table>\n"
      ],
      "text/plain": [
       "<pandas.io.formats.style.Styler at 0x2096b8df2d0>"
      ]
     },
     "metadata": {},
     "output_type": "display_data"
    },
    {
     "data": {
      "text/html": [
       "<style type=\"text/css\">\n",
       "#T_73b8b_row0_col0, #T_73b8b_row0_col1, #T_73b8b_row0_col2, #T_73b8b_row0_col3, #T_73b8b_row1_col0, #T_73b8b_row1_col1, #T_73b8b_row1_col2, #T_73b8b_row1_col3, #T_73b8b_row2_col0, #T_73b8b_row2_col1, #T_73b8b_row2_col2, #T_73b8b_row2_col3 {\n",
       "  background-color: lightgreen;\n",
       "}\n",
       "</style>\n",
       "<table id=\"T_73b8b\">\n",
       "  <thead>\n",
       "    <tr>\n",
       "      <th class=\"blank level0\" >&nbsp;</th>\n",
       "      <th id=\"T_73b8b_level0_col0\" class=\"col_heading level0 col0\" >Points</th>\n",
       "      <th id=\"T_73b8b_level0_col1\" class=\"col_heading level0 col1\" >GF</th>\n",
       "      <th id=\"T_73b8b_level0_col2\" class=\"col_heading level0 col2\" >GA</th>\n",
       "      <th id=\"T_73b8b_level0_col3\" class=\"col_heading level0 col3\" >SG</th>\n",
       "    </tr>\n",
       "  </thead>\n",
       "  <tbody>\n",
       "    <tr>\n",
       "      <th id=\"T_73b8b_level0_row0\" class=\"row_heading level0 row0\" >Portugal</th>\n",
       "      <td id=\"T_73b8b_row0_col0\" class=\"data row0 col0\" >7</td>\n",
       "      <td id=\"T_73b8b_row0_col1\" class=\"data row0 col1\" >3</td>\n",
       "      <td id=\"T_73b8b_row0_col2\" class=\"data row0 col2\" >4</td>\n",
       "      <td id=\"T_73b8b_row0_col3\" class=\"data row0 col3\" >-1</td>\n",
       "    </tr>\n",
       "    <tr>\n",
       "      <th id=\"T_73b8b_level0_row1\" class=\"row_heading level0 row1\" >Turkey</th>\n",
       "      <td id=\"T_73b8b_row1_col0\" class=\"data row1 col0\" >5</td>\n",
       "      <td id=\"T_73b8b_row1_col1\" class=\"data row1 col1\" >4</td>\n",
       "      <td id=\"T_73b8b_row1_col2\" class=\"data row1 col2\" >4</td>\n",
       "      <td id=\"T_73b8b_row1_col3\" class=\"data row1 col3\" >0</td>\n",
       "    </tr>\n",
       "    <tr>\n",
       "      <th id=\"T_73b8b_level0_row2\" class=\"row_heading level0 row2\" >Czech Republic</th>\n",
       "      <td id=\"T_73b8b_row2_col0\" class=\"data row2 col0\" >4</td>\n",
       "      <td id=\"T_73b8b_row2_col1\" class=\"data row2 col1\" >3</td>\n",
       "      <td id=\"T_73b8b_row2_col2\" class=\"data row2 col2\" >3</td>\n",
       "      <td id=\"T_73b8b_row2_col3\" class=\"data row2 col3\" >0</td>\n",
       "    </tr>\n",
       "    <tr>\n",
       "      <th id=\"T_73b8b_level0_row3\" class=\"row_heading level0 row3\" >Georgia</th>\n",
       "      <td id=\"T_73b8b_row3_col0\" class=\"data row3 col0\" >0</td>\n",
       "      <td id=\"T_73b8b_row3_col1\" class=\"data row3 col1\" >1</td>\n",
       "      <td id=\"T_73b8b_row3_col2\" class=\"data row3 col2\" >4</td>\n",
       "      <td id=\"T_73b8b_row3_col3\" class=\"data row3 col3\" >-3</td>\n",
       "    </tr>\n",
       "  </tbody>\n",
       "</table>\n"
      ],
      "text/plain": [
       "<pandas.io.formats.style.Styler at 0x2096b8df2d0>"
      ]
     },
     "metadata": {},
     "output_type": "display_data"
    }
   ],
   "source": [
    "for g in group_dfs:\n",
    "    if g.index.values[2] in classified:\n",
    "        display(g.style.apply(lambda x: style_clf(x, g, 3), axis=1))\n",
    "    else:\n",
    "        display(g.style.apply(lambda x: style_clf(x, g, 2), axis=1))"
   ]
  },
  {
   "cell_type": "code",
   "execution_count": 39,
   "id": "70f96336",
   "metadata": {},
   "outputs": [
    {
     "data": {
      "text/html": [
       "<style type=\"text/css\">\n",
       "#T_efcba_row0_col0, #T_efcba_row0_col1, #T_efcba_row0_col2, #T_efcba_row0_col3, #T_efcba_row1_col0, #T_efcba_row1_col1, #T_efcba_row1_col2, #T_efcba_row1_col3, #T_efcba_row2_col0, #T_efcba_row2_col1, #T_efcba_row2_col2, #T_efcba_row2_col3, #T_efcba_row3_col0, #T_efcba_row3_col1, #T_efcba_row3_col2, #T_efcba_row3_col3 {\n",
       "  background-color: lightgreen;\n",
       "}\n",
       "</style>\n",
       "<table id=\"T_efcba\">\n",
       "  <thead>\n",
       "    <tr>\n",
       "      <th class=\"blank level0\" >&nbsp;</th>\n",
       "      <th id=\"T_efcba_level0_col0\" class=\"col_heading level0 col0\" >Points</th>\n",
       "      <th id=\"T_efcba_level0_col1\" class=\"col_heading level0 col1\" >GF</th>\n",
       "      <th id=\"T_efcba_level0_col2\" class=\"col_heading level0 col2\" >GA</th>\n",
       "      <th id=\"T_efcba_level0_col3\" class=\"col_heading level0 col3\" >SG</th>\n",
       "    </tr>\n",
       "  </thead>\n",
       "  <tbody>\n",
       "    <tr>\n",
       "      <th id=\"T_efcba_level0_row0\" class=\"row_heading level0 row0\" >Italy</th>\n",
       "      <td id=\"T_efcba_row0_col0\" class=\"data row0 col0\" >4</td>\n",
       "      <td id=\"T_efcba_row0_col1\" class=\"data row0 col1\" >4</td>\n",
       "      <td id=\"T_efcba_row0_col2\" class=\"data row0 col2\" >3</td>\n",
       "      <td id=\"T_efcba_row0_col3\" class=\"data row0 col3\" >1</td>\n",
       "    </tr>\n",
       "    <tr>\n",
       "      <th id=\"T_efcba_level0_row1\" class=\"row_heading level0 row1\" >Czech Republic</th>\n",
       "      <td id=\"T_efcba_row1_col0\" class=\"data row1 col0\" >4</td>\n",
       "      <td id=\"T_efcba_row1_col1\" class=\"data row1 col1\" >3</td>\n",
       "      <td id=\"T_efcba_row1_col2\" class=\"data row1 col2\" >3</td>\n",
       "      <td id=\"T_efcba_row1_col3\" class=\"data row1 col3\" >0</td>\n",
       "    </tr>\n",
       "    <tr>\n",
       "      <th id=\"T_efcba_level0_row2\" class=\"row_heading level0 row2\" >Poland</th>\n",
       "      <td id=\"T_efcba_row2_col0\" class=\"data row2 col0\" >3</td>\n",
       "      <td id=\"T_efcba_row2_col1\" class=\"data row2 col1\" >5</td>\n",
       "      <td id=\"T_efcba_row2_col2\" class=\"data row2 col2\" >5</td>\n",
       "      <td id=\"T_efcba_row2_col3\" class=\"data row2 col3\" >0</td>\n",
       "    </tr>\n",
       "    <tr>\n",
       "      <th id=\"T_efcba_level0_row3\" class=\"row_heading level0 row3\" >Serbia</th>\n",
       "      <td id=\"T_efcba_row3_col0\" class=\"data row3 col0\" >3</td>\n",
       "      <td id=\"T_efcba_row3_col1\" class=\"data row3 col1\" >2</td>\n",
       "      <td id=\"T_efcba_row3_col2\" class=\"data row3 col2\" >3</td>\n",
       "      <td id=\"T_efcba_row3_col3\" class=\"data row3 col3\" >-1</td>\n",
       "    </tr>\n",
       "    <tr>\n",
       "      <th id=\"T_efcba_level0_row4\" class=\"row_heading level0 row4\" >Hungary</th>\n",
       "      <td id=\"T_efcba_row4_col0\" class=\"data row4 col0\" >2</td>\n",
       "      <td id=\"T_efcba_row4_col1\" class=\"data row4 col1\" >5</td>\n",
       "      <td id=\"T_efcba_row4_col2\" class=\"data row4 col2\" >5</td>\n",
       "      <td id=\"T_efcba_row4_col3\" class=\"data row4 col3\" >0</td>\n",
       "    </tr>\n",
       "    <tr>\n",
       "      <th id=\"T_efcba_level0_row5\" class=\"row_heading level0 row5\" >Romania</th>\n",
       "      <td id=\"T_efcba_row5_col0\" class=\"data row5 col0\" >2</td>\n",
       "      <td id=\"T_efcba_row5_col1\" class=\"data row5 col1\" >3</td>\n",
       "      <td id=\"T_efcba_row5_col2\" class=\"data row5 col2\" >4</td>\n",
       "      <td id=\"T_efcba_row5_col3\" class=\"data row5 col3\" >-1</td>\n",
       "    </tr>\n",
       "  </tbody>\n",
       "</table>\n"
      ],
      "text/plain": [
       "<pandas.io.formats.style.Styler at 0x2096cabc0d0>"
      ]
     },
     "execution_count": 39,
     "metadata": {},
     "output_type": "execute_result"
    }
   ],
   "source": [
    "thirds.style.apply(lambda x: style_clf(x, thirds, 4), axis=1)"
   ]
  },
  {
   "cell_type": "code",
   "execution_count": null,
   "id": "51fd8345",
   "metadata": {},
   "outputs": [],
   "source": []
  },
  {
   "cell_type": "code",
   "execution_count": 40,
   "id": "ee225e3d",
   "metadata": {},
   "outputs": [],
   "source": [
    "combs = pd.read_html(\"https://en.wikipedia.org/wiki/UEFA_Euro_2024_knockout_stage\")[0]"
   ]
  },
  {
   "cell_type": "code",
   "execution_count": 41,
   "id": "cf63e6ad",
   "metadata": {},
   "outputs": [],
   "source": [
    "combs = combs.dropna(how='all')\n",
    "combs.columns = ['A', 'B', 'C', 'D', 'E', 'F', '1B', '1C', '1E', '1F', 'drop']\n",
    "combs.drop('drop', axis=1, inplace=True)"
   ]
  },
  {
   "cell_type": "code",
   "execution_count": 42,
   "id": "c72129af",
   "metadata": {},
   "outputs": [],
   "source": [
    "third_comb = ['B', 'C', 'D', 'F']"
   ]
  },
  {
   "cell_type": "code",
   "execution_count": 43,
   "id": "65571501",
   "metadata": {},
   "outputs": [],
   "source": [
    "third_seconds = combs.dropna(subset=third_comb).values[0][6:]"
   ]
  },
  {
   "cell_type": "code",
   "execution_count": 44,
   "id": "58b450a1",
   "metadata": {},
   "outputs": [],
   "source": [
    "fixed_seconds = ['2C', '2E', '2F', '2B']"
   ]
  },
  {
   "cell_type": "code",
   "execution_count": null,
   "id": "ad05fb7b",
   "metadata": {},
   "outputs": [],
   "source": []
  },
  {
   "cell_type": "code",
   "execution_count": null,
   "id": "bf965699",
   "metadata": {},
   "outputs": [],
   "source": []
  },
  {
   "cell_type": "code",
   "execution_count": 45,
   "id": "22707772",
   "metadata": {},
   "outputs": [],
   "source": [
    "seconds = []\n",
    "for i in range(0, 8):\n",
    "    if i%2 == 0:\n",
    "        seconds.append(third_seconds[i//2])\n",
    "    else:\n",
    "        seconds.append(fixed_seconds[i//2])"
   ]
  },
  {
   "cell_type": "code",
   "execution_count": 46,
   "id": "b896efe6",
   "metadata": {},
   "outputs": [],
   "source": [
    "firsts = ['1B', '1A', '1F', '2D', '1E', '1D', '1C', '2A']"
   ]
  },
  {
   "cell_type": "code",
   "execution_count": 47,
   "id": "0c50ddcc",
   "metadata": {},
   "outputs": [
    {
     "data": {
      "text/plain": [
       "['3F', '2C', '3D', '2E', '3C', '2F', '3B', '2B']"
      ]
     },
     "execution_count": 47,
     "metadata": {},
     "output_type": "execute_result"
    }
   ],
   "source": [
    "seconds"
   ]
  },
  {
   "cell_type": "code",
   "execution_count": 48,
   "id": "b4e72706",
   "metadata": {},
   "outputs": [],
   "source": [
    "def letter_to_number(letter):\n",
    "    letter = letter.lower()  # Convert to lowercase to handle both cases\n",
    "    return ord(letter) - ord('a')"
   ]
  },
  {
   "cell_type": "code",
   "execution_count": 49,
   "id": "bd77312f",
   "metadata": {},
   "outputs": [],
   "source": [
    "duels = [] \n",
    "for f, s in zip(firsts, seconds):\n",
    "    pos, grp = int(f[0]), letter_to_number(f[1])\n",
    "    first = group_dfs[grp].head(pos).tail(1).index.values[0]\n",
    "    \n",
    "    pos, grp = int(s[0]), letter_to_number(s[1])\n",
    "    second = group_dfs[grp].head(pos).tail(1).index.values[0]\n",
    "    \n",
    "    duels.append([first, second])"
   ]
  },
  {
   "cell_type": "code",
   "execution_count": 50,
   "id": "3cbd0359",
   "metadata": {},
   "outputs": [],
   "source": [
    "playoffs = {\"Round of 16\": [], \"Quarter-Final\": [], \"Semi-Final\": [], \"Final\": []}"
   ]
  },
  {
   "cell_type": "code",
   "execution_count": 51,
   "id": "4a0c9b97",
   "metadata": {},
   "outputs": [],
   "source": [
    "#playoffs['Round of 16'] = duels"
   ]
  },
  {
   "cell_type": "code",
   "execution_count": null,
   "id": "835dbabf",
   "metadata": {},
   "outputs": [],
   "source": []
  },
  {
   "cell_type": "code",
   "execution_count": null,
   "id": "486d718e",
   "metadata": {},
   "outputs": [],
   "source": []
  },
  {
   "cell_type": "code",
   "execution_count": 52,
   "id": "8fe87bb2",
   "metadata": {},
   "outputs": [],
   "source": [
    "def sim_game(t1, t2):\n",
    "    h, a = find_team_features(t1, t2)\n",
    "\n",
    "    xg_h = home_md.predict([h])[0]\n",
    "    xg_a = away_md.predict([a])[0]\n",
    "\n",
    "    poisson_probs_h = poisson.pmf(np.arange(0, 10), xg_h)\n",
    "    poisson_probs_a = poisson.pmf(np.arange(0, 10), xg_a)\n",
    "\n",
    "    hw, draw, aw, g1, g2 = find_probs(poisson_probs_h, poisson_probs_a)\n",
    "    \n",
    "    return hw, draw, aw"
   ]
  },
  {
   "cell_type": "code",
   "execution_count": 53,
   "id": "fcd07bc3",
   "metadata": {},
   "outputs": [],
   "source": [
    "#sim_game(t2, t1)"
   ]
  },
  {
   "cell_type": "code",
   "execution_count": null,
   "id": "862bbaee",
   "metadata": {},
   "outputs": [],
   "source": []
  },
  {
   "cell_type": "code",
   "execution_count": null,
   "id": "69e58b67",
   "metadata": {},
   "outputs": [],
   "source": []
  },
  {
   "cell_type": "code",
   "execution_count": 54,
   "id": "9c6f226c",
   "metadata": {},
   "outputs": [
    {
     "name": "stdout",
     "output_type": "stream",
     "text": [
      "Spain Wins: 61.39%\n",
      "Draw: 22.58%\n",
      "Czech Republic Wins: 16.01%\n",
      "------------------------------------------\n",
      "Germany Wins: 43.59%\n",
      "Draw: 25.50%\n",
      "Denmark Wins: 30.91%\n",
      "------------------------------------------\n",
      "Portugal Wins: 61.11%\n",
      "Draw: 22.62%\n",
      "Poland Wins: 16.26%\n",
      "------------------------------------------\n",
      "France Wins: 65.62%\n",
      "Draw: 20.20%\n",
      "Ukraine Wins: 14.16%\n",
      "------------------------------------------\n",
      "Belgium Wins: 59.73%\n",
      "Draw: 22.66%\n",
      "Serbia Wins: 17.60%\n",
      "------------------------------------------\n",
      "Netherlands Wins: 53.09%\n",
      "Draw: 25.20%\n",
      "Turkey Wins: 21.70%\n",
      "------------------------------------------\n",
      "England Wins: 47.30%\n",
      "Draw: 23.96%\n",
      "Italy Wins: 28.74%\n",
      "------------------------------------------\n",
      "Switzerland Wins: 31.94%\n",
      "Draw: 26.03%\n",
      "Croatia Wins: 42.04%\n",
      "------------------------------------------\n",
      "Spain Wins: 38.36%\n",
      "Draw: 24.17%\n",
      "Germany Wins: 37.47%\n",
      "------------------------------------------\n",
      "Portugal Wins: 30.92%\n",
      "Draw: 24.28%\n",
      "France Wins: 44.80%\n",
      "------------------------------------------\n",
      "Belgium Wins: 43.91%\n",
      "Draw: 27.03%\n",
      "Netherlands Wins: 29.05%\n",
      "------------------------------------------\n",
      "England Wins: 49.37%\n",
      "Draw: 24.86%\n",
      "Croatia Wins: 25.77%\n",
      "------------------------------------------\n",
      "Spain Wins: 32.60%\n",
      "Draw: 22.42%\n",
      "France Wins: 44.98%\n",
      "------------------------------------------\n",
      "Belgium Wins: 39.48%\n",
      "Draw: 25.63%\n",
      "England Wins: 34.89%\n",
      "------------------------------------------\n",
      "France Wins: 43.23%\n",
      "Draw: 27.07%\n",
      "Belgium Wins: 29.70%\n",
      "------------------------------------------\n"
     ]
    }
   ],
   "source": [
    "for phase in playoffs.keys():\n",
    "    playoffs[phase] = duels\n",
    "    next_phase = []\n",
    "    for i in range(len(playoffs[phase])):\n",
    "        game = playoffs[phase][i]\n",
    "        t1, t2 = game[0], game[1]\n",
    "        \n",
    "        h1, d1, a1 = sim_game(t1, t2)\n",
    "        a2, d2, h2 = sim_game(t2, t1)\n",
    "        \n",
    "        hw = (h1+h2)/2\n",
    "        draw = (d1+d2)/2\n",
    "        aw = (a1+a2)/2\n",
    "        \n",
    "        if max([hw, aw]) == hw:\n",
    "            passed = t1\n",
    "        else:\n",
    "            passed = t2\n",
    "        \n",
    "        print(f\"{t1} Wins: {hw:.2%}\")\n",
    "        print(f\"Draw: {draw:.2%}\")\n",
    "        print(f\"{t2} Wins: {aw:.2%}\")\n",
    "        #print(f\"most prob result {t1} {g1} - {g2} {t2}\")\n",
    "    \n",
    "        playoffs[phase][i].append([hw, aw])\n",
    "\n",
    "        print(\"------------------------------------------\")\n",
    "        \n",
    "        if i%2 == 0:\n",
    "            next_phase.append([passed])\n",
    "        else:\n",
    "            next_phase[i//2].append(passed)\n",
    "    duels = next_phase"
   ]
  },
  {
   "cell_type": "code",
   "execution_count": 55,
   "id": "99124229",
   "metadata": {},
   "outputs": [
    {
     "data": {
      "text/plain": [
       "{'Round of 16': [['Spain',\n",
       "   'Czech Republic',\n",
       "   [0.6139485354409572, 0.16014284753827207]],\n",
       "  ['Germany', 'Denmark', [0.4358503941359757, 0.30911631272190393]],\n",
       "  ['Portugal', 'Poland', [0.6111437427216178, 0.16262982356269282]],\n",
       "  ['France', 'Ukraine', [0.6561802557643402, 0.14163809314688314]],\n",
       "  ['Belgium', 'Serbia', [0.5972818231258941, 0.17602064800924508]],\n",
       "  ['Netherlands', 'Turkey', [0.5309228288043137, 0.2170199080164148]],\n",
       "  ['England', 'Italy', [0.47297492956031, 0.2873890157526]],\n",
       "  ['Switzerland', 'Croatia', [0.3193513404292764, 0.4203800323087652]]],\n",
       " 'Quarter-Final': [['Spain',\n",
       "   'Germany',\n",
       "   [0.38355945415853787, 0.374713400241404]],\n",
       "  ['Portugal', 'France', [0.3091574094747541, 0.448021584235085]],\n",
       "  ['Belgium', 'Netherlands', [0.4391330744693578, 0.29051397285455455]],\n",
       "  ['England', 'Croatia', [0.49366059193432454, 0.25769049217455603]]],\n",
       " 'Semi-Final': [['Spain', 'France', [0.3260048712190167, 0.44976594727561675]],\n",
       "  ['Belgium', 'England', [0.394848857195794, 0.34888792433660165]]],\n",
       " 'Final': [['France', 'Belgium', [0.4322807979287257, 0.2970335054476159]]]}"
      ]
     },
     "execution_count": 55,
     "metadata": {},
     "output_type": "execute_result"
    }
   ],
   "source": [
    "playoffs"
   ]
  },
  {
   "cell_type": "code",
   "execution_count": null,
   "id": "c78cecfa",
   "metadata": {},
   "outputs": [],
   "source": []
  },
  {
   "cell_type": "code",
   "execution_count": 56,
   "id": "0dc97c3c",
   "metadata": {},
   "outputs": [],
   "source": [
    "import networkx as nx\n",
    "from networkx.drawing.nx_pydot import graphviz_layout"
   ]
  },
  {
   "cell_type": "code",
   "execution_count": null,
   "id": "49cc2c22",
   "metadata": {},
   "outputs": [],
   "source": []
  },
  {
   "cell_type": "code",
   "execution_count": 58,
   "id": "0b5bcc55",
   "metadata": {},
   "outputs": [
    {
     "data": {
      "image/png": "[encoded data removed]",
      "text/plain": [
       "<Figure size 1500x1000 with 1 Axes>"
      ]
     },
     "metadata": {},
     "output_type": "display_data"
    }
   ],
   "source": [
    "plt.figure(figsize=(15, 10))\n",
    "G = nx.balanced_tree(2, 3)\n",
    "\n",
    "\n",
    "\n",
    "labels = []\n",
    "\n",
    "\n",
    "for p in playoffs.keys():\n",
    "    for game in playoffs[p]:\n",
    "        label = f\"{game[0]}({round(game[2][0], 2)}) \\n {game[1]}({round(game[2][1], 2)})\"\n",
    "        labels.append(label)\n",
    "    \n",
    "labels_dict = {}\n",
    "labels_rev = list(reversed(labels))\n",
    "\n",
    "for l in range(len(list(G.nodes))):\n",
    "    labels_dict[l] = labels_rev[l]\n",
    "\n",
    "\n",
    "pos=graphviz_layout(G, prog='twopi')\n",
    "pos = {int(n): pos[n] for n in pos.keys()}\n",
    "\n",
    "labels_pos = {int(n): (k[0], k[1]-0.08*k[1]) for n,k in pos.items()}\n",
    "center  = pd.DataFrame(pos).mean(axis=1).mean()\n",
    "    \n",
    "\n",
    "\n",
    "nx.draw_networkx(G, pos = pos, with_labels=False, node_color=range(15), edge_color=\"#bbf5bb\", width=10, font_weight='bold',cmap=plt.cm.Greens, node_size=1000)\n",
    "nx.draw_networkx_labels(G, pos = labels_pos, bbox=dict(boxstyle=\"round,pad=0.3\", fc=\"white\", ec=\"black\", lw=.5, alpha=1),labels=labels_dict)\n",
    "texts = [\"Round \\nof 16\", \"Quarter \\n Final\", \"Semi \\n Final\", \"Final\\n\"]\n",
    "pos_y = pos[0][1] + 55\n",
    "for text in reversed(texts):\n",
    "    pos_x = center\n",
    "    pos_y -= 65\n",
    "    plt.text(pos_y, pos_x, text, fontsize = 12)\n",
    "\n",
    "plt.axis('equal')\n",
    "plt.show()"
   ]
  },
  {
   "cell_type": "code",
   "execution_count": null,
   "id": "9f561b3f",
   "metadata": {},
   "outputs": [],
   "source": []
  },
  {
   "cell_type": "code",
   "execution_count": null,
   "id": "c619b8b4",
   "metadata": {},
   "outputs": [],
   "source": []
  },
  {
   "cell_type": "code",
   "execution_count": null,
   "id": "eb129cc0",
   "metadata": {},
   "outputs": [],
   "source": []
  },
  {
   "cell_type": "code",
   "execution_count": null,
   "id": "eade169e",
   "metadata": {},
   "outputs": [],
   "source": []
  },
  {
   "cell_type": "code",
   "execution_count": null,
   "id": "1ed71bd4",
   "metadata": {},
   "outputs": [],
   "source": []
  }
 ],
 "metadata": {
  "kernelspec": {
   "display_name": "Python 3 (ipykernel)",
   "language": "python",
   "name": "python3"
  },
  "language_info": {
   "codemirror_mode": {
    "name": "ipython",
    "version": 3
   },
   "file_extension": ".py",
   "mimetype": "text/x-python",
   "name": "python",
   "nbconvert_exporter": "python",
   "pygments_lexer": "ipython3",
   "version": "3.11.3"
  }
 },
 "nbformat": 4,
 "nbformat_minor": 5
}
