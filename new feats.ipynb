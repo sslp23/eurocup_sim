{
 "cells": [
  {
   "cell_type": "code",
   "execution_count": 3,
   "id": "6db00eca",
   "metadata": {},
   "outputs": [],
   "source": [
    "import pandas as pd"
   ]
  },
  {
   "cell_type": "code",
   "execution_count": null,
   "id": "5b56a68d",
   "metadata": {},
   "outputs": [],
   "source": []
  },
  {
   "cell_type": "code",
   "execution_count": null,
   "id": "725b9fe6",
   "metadata": {},
   "outputs": [],
   "source": []
  },
  {
   "cell_type": "code",
   "execution_count": 4,
   "id": "a690345e",
   "metadata": {},
   "outputs": [],
   "source": [
    "db = pd.read_csv(\"data/new_model.csv\")"
   ]
  },
  {
   "cell_type": "code",
   "execution_count": 4,
   "id": "b46d30d1",
   "metadata": {},
   "outputs": [],
   "source": [
    "#base_cols"
   ]
  },
  {
   "cell_type": "code",
   "execution_count": 8,
   "id": "b3316222",
   "metadata": {},
   "outputs": [],
   "source": [
    "base_cols = ['rank_home', 'rank_away', 'home_goals_mean', 'home_goals_suf_mean', 'home_goals_mean_l5','home_goals_suf_mean_l5',\n",
    "             'away_goals_suf_mean', 'away_goals_suf_mean_l5', 'home_game_points_mean', 'home_game_points_mean_l5', \n",
    "             'away_game_points_mean','away_game_points_mean_l5', 'neutral', 'total_games_home',\n",
    "            'home_goals_by_rank','home_goals_by_rank_l5', 'home_goals_suf_by_rank','home_goals_suf_by_rank_l5',\n",
    "            'away_goals_by_rank','away_goals_by_rank_l5', 'away_goals_suf_by_rank','away_goals_suf_by_rank_l5',\n",
    "            'home_game_points_rank_mean','home_game_points_rank_mean_l5','away_game_points_rank_mean','away_game_points_rank_mean_l5', ]"
   ]
  },
  {
   "cell_type": "code",
   "execution_count": null,
   "id": "b5867990",
   "metadata": {},
   "outputs": [],
   "source": []
  },
  {
   "cell_type": "code",
   "execution_count": 9,
   "id": "ddcb7377",
   "metadata": {},
   "outputs": [],
   "source": [
    "base_cols_away = ['rank_home', 'rank_away', 'away_goals_mean', 'away_goals_suf_mean', 'away_goals_mean_l5', \n",
    "                  'away_goals_suf_mean_l5', 'home_goals_suf_mean', 'home_goals_suf_mean_l5', 'home_game_points_mean', \n",
    "                  'home_game_points_mean_l5', 'away_game_points_mean','away_game_points_mean_l5', 'neutral', 'total_games_away',\n",
    "                  'home_goals_by_rank','home_goals_by_rank_l5', 'home_goals_suf_by_rank','home_goals_suf_by_rank_l5',\n",
    "                'away_goals_by_rank','away_goals_by_rank_l5', 'away_goals_suf_by_rank','away_goals_suf_by_rank_l5',\n",
    "                'home_game_points_rank_mean','home_game_points_rank_mean_l5','away_game_points_rank_mean','away_game_points_rank_mean_l5', ]"
   ]
  },
  {
   "cell_type": "code",
   "execution_count": 10,
   "id": "79783d56",
   "metadata": {},
   "outputs": [],
   "source": [
    "new_home = db[[\"home_team\", 'home_score', 'date']+base_cols]#.columns"
   ]
  },
  {
   "cell_type": "code",
   "execution_count": 11,
   "id": "d43b1774",
   "metadata": {},
   "outputs": [],
   "source": [
    "new_away = db[[\"away_team\", 'away_score', 'date']+base_cols_away]#.columns"
   ]
  },
  {
   "cell_type": "code",
   "execution_count": null,
   "id": "0d432db7",
   "metadata": {},
   "outputs": [],
   "source": []
  },
  {
   "cell_type": "code",
   "execution_count": null,
   "id": "4ae3a166",
   "metadata": {},
   "outputs": [],
   "source": []
  },
  {
   "cell_type": "code",
   "execution_count": 12,
   "id": "505db556",
   "metadata": {},
   "outputs": [],
   "source": [
    "new_cols = [a.replace(\"home\", \"team\").replace(\"away\", \"opp\") for a in new_home.columns]"
   ]
  },
  {
   "cell_type": "code",
   "execution_count": 13,
   "id": "7f0a2051",
   "metadata": {},
   "outputs": [],
   "source": [
    "new_home.columns = new_cols"
   ]
  },
  {
   "cell_type": "code",
   "execution_count": null,
   "id": "09490848",
   "metadata": {},
   "outputs": [],
   "source": []
  },
  {
   "cell_type": "code",
   "execution_count": 14,
   "id": "cce9c113",
   "metadata": {},
   "outputs": [
    {
     "data": {
      "text/plain": [
       "Index(['team_team', 'team_score', 'date', 'rank_team', 'rank_opp',\n",
       "       'team_goals_mean', 'team_goals_suf_mean', 'team_goals_mean_l5',\n",
       "       'team_goals_suf_mean_l5', 'opp_goals_suf_mean', 'opp_goals_suf_mean_l5',\n",
       "       'team_game_points_mean', 'team_game_points_mean_l5',\n",
       "       'opp_game_points_mean', 'opp_game_points_mean_l5', 'neutral',\n",
       "       'total_games_team', 'team_goals_by_rank', 'team_goals_by_rank_l5',\n",
       "       'team_goals_suf_by_rank', 'team_goals_suf_by_rank_l5',\n",
       "       'opp_goals_by_rank', 'opp_goals_by_rank_l5', 'opp_goals_suf_by_rank',\n",
       "       'opp_goals_suf_by_rank_l5', 'team_game_points_rank_mean',\n",
       "       'team_game_points_rank_mean_l5', 'opp_game_points_rank_mean',\n",
       "       'opp_game_points_rank_mean_l5'],\n",
       "      dtype='object')"
      ]
     },
     "execution_count": 14,
     "metadata": {},
     "output_type": "execute_result"
    }
   ],
   "source": [
    "new_home.columns"
   ]
  },
  {
   "cell_type": "code",
   "execution_count": 15,
   "id": "0894a8a1",
   "metadata": {},
   "outputs": [
    {
     "data": {
      "text/plain": [
       "Index(['away_team', 'away_score', 'date', 'rank_home', 'rank_away',\n",
       "       'away_goals_mean', 'away_goals_suf_mean', 'away_goals_mean_l5',\n",
       "       'away_goals_suf_mean_l5', 'home_goals_suf_mean',\n",
       "       'home_goals_suf_mean_l5', 'home_game_points_mean',\n",
       "       'home_game_points_mean_l5', 'away_game_points_mean',\n",
       "       'away_game_points_mean_l5', 'neutral', 'total_games_away',\n",
       "       'home_goals_by_rank', 'home_goals_by_rank_l5', 'home_goals_suf_by_rank',\n",
       "       'home_goals_suf_by_rank_l5', 'away_goals_by_rank',\n",
       "       'away_goals_by_rank_l5', 'away_goals_suf_by_rank',\n",
       "       'away_goals_suf_by_rank_l5', 'home_game_points_rank_mean',\n",
       "       'home_game_points_rank_mean_l5', 'away_game_points_rank_mean',\n",
       "       'away_game_points_rank_mean_l5'],\n",
       "      dtype='object')"
      ]
     },
     "execution_count": 15,
     "metadata": {},
     "output_type": "execute_result"
    }
   ],
   "source": [
    "new_away.columns"
   ]
  },
  {
   "cell_type": "code",
   "execution_count": 16,
   "id": "b45ee502",
   "metadata": {},
   "outputs": [],
   "source": [
    "new_cols = [a.replace(\"away\", \"team\").replace(\"home\", \"opp\") for a in new_away.columns]"
   ]
  },
  {
   "cell_type": "code",
   "execution_count": 17,
   "id": "02bb13e0",
   "metadata": {},
   "outputs": [],
   "source": [
    "new_away.columns = new_cols"
   ]
  },
  {
   "cell_type": "code",
   "execution_count": null,
   "id": "1b277657",
   "metadata": {},
   "outputs": [],
   "source": []
  },
  {
   "cell_type": "code",
   "execution_count": 18,
   "id": "d0bc9b9a",
   "metadata": {},
   "outputs": [
    {
     "data": {
      "text/plain": [
       "array([ True,  True,  True,  True,  True,  True,  True,  True,  True,\n",
       "        True,  True,  True,  True,  True,  True,  True,  True,  True,\n",
       "        True,  True,  True,  True,  True,  True,  True,  True,  True,\n",
       "        True,  True])"
      ]
     },
     "execution_count": 18,
     "metadata": {},
     "output_type": "execute_result"
    }
   ],
   "source": [
    "new_away.columns.sort_values() == new_home.columns.sort_values()"
   ]
  },
  {
   "cell_type": "code",
   "execution_count": 19,
   "id": "eb4dfb5c",
   "metadata": {},
   "outputs": [],
   "source": [
    "full_db = pd.concat([new_home, new_away])"
   ]
  },
  {
   "cell_type": "code",
   "execution_count": 20,
   "id": "c78e2ecb",
   "metadata": {},
   "outputs": [],
   "source": [
    "full_db['rank_dif'] = full_db['rank_team'] - full_db['rank_opp']"
   ]
  },
  {
   "cell_type": "code",
   "execution_count": 21,
   "id": "f099e3e8",
   "metadata": {},
   "outputs": [],
   "source": [
    "full_db = full_db.sort_values('date')"
   ]
  },
  {
   "cell_type": "code",
   "execution_count": 22,
   "id": "e5a48396",
   "metadata": {},
   "outputs": [],
   "source": [
    "#full_db[full_db.team_team == 'Germany']"
   ]
  },
  {
   "cell_type": "code",
   "execution_count": 21,
   "id": "4084c480",
   "metadata": {},
   "outputs": [],
   "source": [
    "full_db.drop('date', axis=1, inplace=True)"
   ]
  },
  {
   "cell_type": "code",
   "execution_count": 29,
   "id": "c1b18157",
   "metadata": {},
   "outputs": [],
   "source": [
    "for i in full_db.columns[5:-15]:\n",
    "    full_db[i+\"_weighted\"] = full_db[i]*full_db[\"rank_dif\"]"
   ]
  },
  {
   "cell_type": "code",
   "execution_count": 30,
   "id": "d2ac1c61",
   "metadata": {},
   "outputs": [],
   "source": [
    "full_db.to_csv(\"data/db_one_team.csv\", index=False)"
   ]
  },
  {
   "cell_type": "code",
   "execution_count": null,
   "id": "90fd6e8f",
   "metadata": {},
   "outputs": [],
   "source": []
  },
  {
   "cell_type": "code",
   "execution_count": 28,
   "id": "53ebd8c4",
   "metadata": {},
   "outputs": [
    {
     "data": {
      "text/plain": [
       "Index(['team_goals_mean', 'team_goals_suf_mean', 'team_goals_mean_l5',\n",
       "       'team_goals_suf_mean_l5', 'opp_goals_suf_mean', 'opp_goals_suf_mean_l5',\n",
       "       'team_game_points_mean', 'team_game_points_mean_l5',\n",
       "       'opp_game_points_mean', 'opp_game_points_mean_l5'],\n",
       "      dtype='object')"
      ]
     },
     "execution_count": 28,
     "metadata": {},
     "output_type": "execute_result"
    }
   ],
   "source": [
    "full_db.columns"
   ]
  },
  {
   "cell_type": "code",
   "execution_count": null,
   "id": "6acde78c",
   "metadata": {},
   "outputs": [],
   "source": []
  }
 ],
 "metadata": {
  "kernelspec": {
   "display_name": "Python 3 (ipykernel)",
   "language": "python",
   "name": "python3"
  },
  "language_info": {
   "codemirror_mode": {
    "name": "ipython",
    "version": 3
   },
   "file_extension": ".py",
   "mimetype": "text/x-python",
   "name": "python",
   "nbconvert_exporter": "python",
   "pygments_lexer": "ipython3",
   "version": "3.11.3"
  }
 },
 "nbformat": 4,
 "nbformat_minor": 5
}
