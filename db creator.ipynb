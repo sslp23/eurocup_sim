{
 "cells": [
  {
   "cell_type": "code",
   "execution_count": 1,
   "id": "d7af746b",
   "metadata": {},
   "outputs": [],
   "source": [
    "import pandas as pd\n",
    "import re\n",
    "from datetime import datetime"
   ]
  },
  {
   "cell_type": "code",
   "execution_count": 2,
   "id": "d5717176",
   "metadata": {},
   "outputs": [],
   "source": [
    "df =  pd.read_csv(\"data/results.csv\")"
   ]
  },
  {
   "cell_type": "code",
   "execution_count": 3,
   "id": "b1ed3320",
   "metadata": {},
   "outputs": [],
   "source": [
    "df[\"date\"] = pd.to_datetime(df[\"date\"])"
   ]
  },
  {
   "cell_type": "code",
   "execution_count": 4,
   "id": "bbbfda93",
   "metadata": {},
   "outputs": [],
   "source": [
    "euro_games = df[(df.date.dt.year == 2024) & (df.tournament == \"UEFA Euro\")]"
   ]
  },
  {
   "cell_type": "code",
   "execution_count": 5,
   "id": "9776546b",
   "metadata": {},
   "outputs": [],
   "source": [
    "df.dropna(inplace=True)"
   ]
  },
  {
   "cell_type": "code",
   "execution_count": 6,
   "id": "44458251",
   "metadata": {},
   "outputs": [],
   "source": [
    "df = df[(df[\"date\"] >= \"2019-8-1\")].reset_index(drop=True)"
   ]
  },
  {
   "cell_type": "code",
   "execution_count": 7,
   "id": "32a3edfd",
   "metadata": {},
   "outputs": [],
   "source": [
    "rank = pd.read_csv(\"data/fifa_ranking-2024-04-04.csv\")\n",
    "rank.rank_date = rank.rank_date.apply(lambda x: x.replace(\"2024-04-04\", datetime.today().strftime('%Y-%m-%d')))"
   ]
  },
  {
   "cell_type": "code",
   "execution_count": 8,
   "id": "c4310202",
   "metadata": {},
   "outputs": [],
   "source": [
    "rank[\"rank_date\"] = pd.to_datetime(rank[\"rank_date\"])\n",
    "rank = rank[(rank[\"rank_date\"] >= \"2019-8-1\")].reset_index(drop=True)\n",
    "rank[\"country_full\"] = rank[\"country_full\"].str.replace(\"Czechia\", \"Czech Republic\").str.replace(\"IR Iran\", \"Iran\").str.replace(\"Korea Republic\", \"South Korea\").str.replace(\"USA\", \"United States\")\n",
    "\n",
    "rank = rank.set_index(['rank_date']).groupby(['country_full'], group_keys=False).resample('D').first().fillna(method='ffill').reset_index()"
   ]
  },
  {
   "cell_type": "code",
   "execution_count": 9,
   "id": "fa3da7f6",
   "metadata": {},
   "outputs": [],
   "source": [
    "df_ranked = df.merge(rank[[\"country_full\", \"total_points\", \"previous_points\", \"rank\", \"rank_change\", \"rank_date\"]], left_on=[\"date\", \"home_team\"], right_on=[\"rank_date\", \"country_full\"]).drop([\"rank_date\", \"country_full\"], axis=1)\n",
    "\n",
    "df_ranked = df_ranked.merge(rank[[\"country_full\", \"total_points\", \"previous_points\", \"rank\", \"rank_change\", \"rank_date\"]], left_on=[\"date\", \"away_team\"], right_on=[\"rank_date\", \"country_full\"], suffixes=(\"_home\", \"_away\")).drop([\"rank_date\", \"country_full\"], axis=1)"
   ]
  },
  {
   "cell_type": "code",
   "execution_count": null,
   "id": "c082069d",
   "metadata": {},
   "outputs": [],
   "source": []
  },
  {
   "cell_type": "code",
   "execution_count": 10,
   "id": "a5d1f277",
   "metadata": {},
   "outputs": [],
   "source": [
    "df_ranked.to_csv(\"data/data_rank.csv\", index=False)"
   ]
  },
  {
   "cell_type": "code",
   "execution_count": null,
   "id": "b2c31d9a",
   "metadata": {},
   "outputs": [],
   "source": []
  },
  {
   "cell_type": "code",
   "execution_count": 14,
   "id": "100a7119",
   "metadata": {},
   "outputs": [],
   "source": [
    "def result_finder(home, away):\n",
    "    if home > away:\n",
    "        return \"Home\"\n",
    "    if home < away:\n",
    "        return \"Away\"\n",
    "    else:\n",
    "        return \"Draw\"\n",
    "\n",
    "df[\"result\"] = df.apply(lambda x: result_finder(x[\"home_score\"], x[\"away_score\"]), axis=1)"
   ]
  },
  {
   "cell_type": "code",
   "execution_count": 21,
   "id": "628f0358",
   "metadata": {},
   "outputs": [
    {
     "data": {
      "text/plain": [
       "Home    17\n",
       "Away    11\n",
       "Draw     8\n",
       "Name: result, dtype: int64"
      ]
     },
     "execution_count": 21,
     "metadata": {},
     "output_type": "execute_result"
    }
   ],
   "source": [
    "df[df.tournament  ==\"UEFA Euro\"].head(36).result.value_counts()"
   ]
  },
  {
   "cell_type": "code",
   "execution_count": null,
   "id": "bbe3acbc",
   "metadata": {},
   "outputs": [],
   "source": []
  },
  {
   "cell_type": "code",
   "execution_count": null,
   "id": "34958028",
   "metadata": {},
   "outputs": [],
   "source": []
  },
  {
   "cell_type": "code",
   "execution_count": 6,
   "id": "a327edd4",
   "metadata": {},
   "outputs": [],
   "source": [
    "euro_games.to_csv(\"data/euro_matches.csv\", index=False)"
   ]
  },
  {
   "cell_type": "code",
   "execution_count": 14,
   "id": "b27a5a71",
   "metadata": {},
   "outputs": [
    {
     "data": {
      "text/html": [
       "<div>\n",
       "<style scoped>\n",
       "    .dataframe tbody tr th:only-of-type {\n",
       "        vertical-align: middle;\n",
       "    }\n",
       "\n",
       "    .dataframe tbody tr th {\n",
       "        vertical-align: top;\n",
       "    }\n",
       "\n",
       "    .dataframe thead th {\n",
       "        text-align: right;\n",
       "    }\n",
       "</style>\n",
       "<table border=\"1\" class=\"dataframe\">\n",
       "  <thead>\n",
       "    <tr style=\"text-align: right;\">\n",
       "      <th></th>\n",
       "      <th>rank_date</th>\n",
       "      <th>rank</th>\n",
       "      <th>country_full</th>\n",
       "      <th>country_abrv</th>\n",
       "      <th>total_points</th>\n",
       "      <th>previous_points</th>\n",
       "      <th>rank_change</th>\n",
       "      <th>confederation</th>\n",
       "    </tr>\n",
       "  </thead>\n",
       "  <tbody>\n",
       "    <tr>\n",
       "      <th>90766</th>\n",
       "      <td>2019-09-19</td>\n",
       "      <td>44.0</td>\n",
       "      <td>Czech Republic</td>\n",
       "      <td>CZE</td>\n",
       "      <td>1441.00</td>\n",
       "      <td>1448.00</td>\n",
       "      <td>1.0</td>\n",
       "      <td>UEFA</td>\n",
       "    </tr>\n",
       "    <tr>\n",
       "      <th>90767</th>\n",
       "      <td>2019-09-20</td>\n",
       "      <td>44.0</td>\n",
       "      <td>Czech Republic</td>\n",
       "      <td>CZE</td>\n",
       "      <td>1441.00</td>\n",
       "      <td>1448.00</td>\n",
       "      <td>1.0</td>\n",
       "      <td>UEFA</td>\n",
       "    </tr>\n",
       "    <tr>\n",
       "      <th>90768</th>\n",
       "      <td>2019-09-21</td>\n",
       "      <td>44.0</td>\n",
       "      <td>Czech Republic</td>\n",
       "      <td>CZE</td>\n",
       "      <td>1441.00</td>\n",
       "      <td>1448.00</td>\n",
       "      <td>1.0</td>\n",
       "      <td>UEFA</td>\n",
       "    </tr>\n",
       "    <tr>\n",
       "      <th>90769</th>\n",
       "      <td>2019-09-22</td>\n",
       "      <td>44.0</td>\n",
       "      <td>Czech Republic</td>\n",
       "      <td>CZE</td>\n",
       "      <td>1441.00</td>\n",
       "      <td>1448.00</td>\n",
       "      <td>1.0</td>\n",
       "      <td>UEFA</td>\n",
       "    </tr>\n",
       "    <tr>\n",
       "      <th>90770</th>\n",
       "      <td>2019-09-23</td>\n",
       "      <td>44.0</td>\n",
       "      <td>Czech Republic</td>\n",
       "      <td>CZE</td>\n",
       "      <td>1441.00</td>\n",
       "      <td>1448.00</td>\n",
       "      <td>1.0</td>\n",
       "      <td>UEFA</td>\n",
       "    </tr>\n",
       "    <tr>\n",
       "      <th>...</th>\n",
       "      <td>...</td>\n",
       "      <td>...</td>\n",
       "      <td>...</td>\n",
       "      <td>...</td>\n",
       "      <td>...</td>\n",
       "      <td>...</td>\n",
       "      <td>...</td>\n",
       "      <td>...</td>\n",
       "    </tr>\n",
       "    <tr>\n",
       "      <th>92491</th>\n",
       "      <td>2024-06-09</td>\n",
       "      <td>40.0</td>\n",
       "      <td>Czech Republic</td>\n",
       "      <td>CZE</td>\n",
       "      <td>1494.04</td>\n",
       "      <td>1494.04</td>\n",
       "      <td>1.0</td>\n",
       "      <td>UEFA</td>\n",
       "    </tr>\n",
       "    <tr>\n",
       "      <th>92492</th>\n",
       "      <td>2024-06-10</td>\n",
       "      <td>40.0</td>\n",
       "      <td>Czech Republic</td>\n",
       "      <td>CZE</td>\n",
       "      <td>1494.04</td>\n",
       "      <td>1494.04</td>\n",
       "      <td>1.0</td>\n",
       "      <td>UEFA</td>\n",
       "    </tr>\n",
       "    <tr>\n",
       "      <th>92493</th>\n",
       "      <td>2024-06-11</td>\n",
       "      <td>40.0</td>\n",
       "      <td>Czech Republic</td>\n",
       "      <td>CZE</td>\n",
       "      <td>1494.04</td>\n",
       "      <td>1494.04</td>\n",
       "      <td>1.0</td>\n",
       "      <td>UEFA</td>\n",
       "    </tr>\n",
       "    <tr>\n",
       "      <th>92494</th>\n",
       "      <td>2024-06-12</td>\n",
       "      <td>40.0</td>\n",
       "      <td>Czech Republic</td>\n",
       "      <td>CZE</td>\n",
       "      <td>1494.04</td>\n",
       "      <td>1494.04</td>\n",
       "      <td>1.0</td>\n",
       "      <td>UEFA</td>\n",
       "    </tr>\n",
       "    <tr>\n",
       "      <th>92495</th>\n",
       "      <td>2024-06-13</td>\n",
       "      <td>36.0</td>\n",
       "      <td>Czech Republic</td>\n",
       "      <td>CZE</td>\n",
       "      <td>1501.47</td>\n",
       "      <td>1494.04</td>\n",
       "      <td>-4.0</td>\n",
       "      <td>UEFA</td>\n",
       "    </tr>\n",
       "  </tbody>\n",
       "</table>\n",
       "<p>1730 rows × 8 columns</p>\n",
       "</div>"
      ],
      "text/plain": [
       "       rank_date  rank    country_full country_abrv  total_points  \\\n",
       "90766 2019-09-19  44.0  Czech Republic          CZE       1441.00   \n",
       "90767 2019-09-20  44.0  Czech Republic          CZE       1441.00   \n",
       "90768 2019-09-21  44.0  Czech Republic          CZE       1441.00   \n",
       "90769 2019-09-22  44.0  Czech Republic          CZE       1441.00   \n",
       "90770 2019-09-23  44.0  Czech Republic          CZE       1441.00   \n",
       "...          ...   ...             ...          ...           ...   \n",
       "92491 2024-06-09  40.0  Czech Republic          CZE       1494.04   \n",
       "92492 2024-06-10  40.0  Czech Republic          CZE       1494.04   \n",
       "92493 2024-06-11  40.0  Czech Republic          CZE       1494.04   \n",
       "92494 2024-06-12  40.0  Czech Republic          CZE       1494.04   \n",
       "92495 2024-06-13  36.0  Czech Republic          CZE       1501.47   \n",
       "\n",
       "       previous_points  rank_change confederation  \n",
       "90766          1448.00          1.0          UEFA  \n",
       "90767          1448.00          1.0          UEFA  \n",
       "90768          1448.00          1.0          UEFA  \n",
       "90769          1448.00          1.0          UEFA  \n",
       "90770          1448.00          1.0          UEFA  \n",
       "...                ...          ...           ...  \n",
       "92491          1494.04          1.0          UEFA  \n",
       "92492          1494.04          1.0          UEFA  \n",
       "92493          1494.04          1.0          UEFA  \n",
       "92494          1494.04          1.0          UEFA  \n",
       "92495          1494.04         -4.0          UEFA  \n",
       "\n",
       "[1730 rows x 8 columns]"
      ]
     },
     "execution_count": 14,
     "metadata": {},
     "output_type": "execute_result"
    }
   ],
   "source": [
    "rank[rank.country_full.str.contains(\"Czech\")]"
   ]
  },
  {
   "cell_type": "code",
   "execution_count": null,
   "id": "e846d88f",
   "metadata": {},
   "outputs": [],
   "source": []
  },
  {
   "cell_type": "code",
   "execution_count": null,
   "id": "7e09a916",
   "metadata": {},
   "outputs": [],
   "source": []
  },
  {
   "cell_type": "code",
   "execution_count": null,
   "id": "f04cfc00",
   "metadata": {},
   "outputs": [],
   "source": []
  }
 ],
 "metadata": {
  "kernelspec": {
   "display_name": "Python 3 (ipykernel)",
   "language": "python",
   "name": "python3"
  },
  "language_info": {
   "codemirror_mode": {
    "name": "ipython",
    "version": 3
   },
   "file_extension": ".py",
   "mimetype": "text/x-python",
   "name": "python",
   "nbconvert_exporter": "python",
   "pygments_lexer": "ipython3",
   "version": "3.11.3"
  }
 },
 "nbformat": 4,
 "nbformat_minor": 5
}
